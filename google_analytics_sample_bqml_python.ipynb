{
 "cells": [
  {
   "cell_type": "code",
   "execution_count": null,
   "metadata": {},
   "outputs": [],
   "source": [
    "# Copyright 2020 Google LLC\n",
    "#\n",
    "# Licensed under the Apache License, Version 2.0 (the \"License\");\n",
    "# you may not use this file except in compliance with the License.\n",
    "# You may obtain a copy of the License at\n",
    "#\n",
    "#     https://www.apache.org/licenses/LICENSE-2.0\n",
    "#\n",
    "# Unless required by applicable law or agreed to in writing, software\n",
    "# distributed under the License is distributed on an \"AS IS\" BASIS,\n",
    "# WITHOUT WARRANTIES OR CONDITIONS OF ANY KIND, either express or implied.\n",
    "# See the License for the specific language governing permissions and\n",
    "# limitations under the License."
   ]
  },
  {
   "cell_type": "markdown",
   "metadata": {},
   "source": [
    "# Kaggle Workshops Starter Notebook [Python version]\n",
    "## Online Retail Store: Predicting Visitor Behaviour "
   ]
  },
  {
   "cell_type": "markdown",
   "metadata": {},
   "source": [
    "<table align=\"left\">\n",
    "  <td>\n",
    "    <a href=\"https://console.cloud.google.com/ai-platform/notebooks/deploy-notebook?name=Online%20Retail%20Store%3A%20Predicting%20Visitor%20Behaviour%20-%20Starter%20Notebook%20%5BPython%5D&download_url=https%3A%2F%2Fstorage.googleapis.com%2Fstarter_notebooks%2Fgoogle_analytics_sample_bqml_python.ipynb&url=https%3A%2F%2Fgist.github.com%2Fpolong-lin%2F51bb01bac82513294e10fb9856c4fdb0\">\n",
    "      <img src=\"https://cloud.google.com/images/products/ai/ai-solutions-icon.svg\" alt=\"AI Platform Notebooks\">Run on AI Platform Notebooks</a>\n",
    "  </td>\n",
    "</table>"
   ]
  },
  {
   "cell_type": "markdown",
   "metadata": {},
   "source": [
    "- [Setup BigQuery in Jupyter](#setup)\n",
    "- [BigQuery ML basics](#basics)\n",
    "  - [Select BigQuery data from Python](#select)\n",
    "  - [Train a BigQuery ML model](#train)\n",
    "  - [Check models currently being trained on BigQuery](#currentlytraining)\n",
    "  - [Check if a model has finished training](#finishedtraining)\n",
    "  - [Evaluate a BigQuery ML model](#evaluate)\n",
    "  - [Compare multiple models](#compare)\n",
    "  - [ML.FEATURE_INFO to check input feature information](#featinfo)\n",
    "  - [Make predictions using BigQuery ML](#predictions)\n",
    "  - [Export predictions as a CSV file](#exportcsv)\n",
    "- [Feature engineering](#feateng)\n",
    "  - [EXTRACT: Extract dates and time](#extractdates)\n",
    "  - [REGEXP_EXTRACT_ALL: Extract words from a STRING column](#extractwords)\n",
    "  - [ML.QUANTILE_BUCKETIZE: Bucketize your numeric feature into bins](#bucketize)\n",
    "  - [ML.POLYNOMIAL_EXPAND: Combine numeric features](#polynomialexpand)\n",
    "  - [ML.FEATURE_CROSS: Combine categorical features](#featurecross)\n",
    "- [Feature selection](#featselection)\n",
    "  - [ML.FEATURE_IMPORTANCE for Boosted Tree models](#featimportance)"
   ]
  },
  {
   "cell_type": "markdown",
   "metadata": {},
   "source": [
    "<a id=\"setup\"></a>"
   ]
  },
  {
   "cell_type": "markdown",
   "metadata": {},
   "source": [
    "### Setup BigQuery in Jupyter "
   ]
  },
  {
   "cell_type": "markdown",
   "metadata": {},
   "source": [
    "#### Set parameters"
   ]
  },
  {
   "cell_type": "code",
   "execution_count": 39,
   "metadata": {},
   "outputs": [],
   "source": [
    "#Check current GCP project ID\n",
    "# !gcloud config get-value project"
   ]
  },
  {
   "cell_type": "code",
   "execution_count": 1,
   "metadata": {},
   "outputs": [],
   "source": [
    "PROJECT_ID = \"globohack-kaggle21-6923\" #REPLACE with project ID\n",
    "DATASET_ID = \"bqmlretail\"\n",
    "LOCATION = \"EU\""
   ]
  },
  {
   "cell_type": "markdown",
   "metadata": {},
   "source": [
    "#### Create dataset if it does not yet exist"
   ]
  },
  {
   "cell_type": "code",
   "execution_count": 4,
   "metadata": {},
   "outputs": [
    {
     "name": "stdout",
     "output_type": "stream",
     "text": [
      "Dataset 'globohack-kaggle21-6923:bqmlretail' successfully created.\n"
     ]
    }
   ],
   "source": [
    "!bq mk --location=$LOCATION $DATASET_ID"
   ]
  },
  {
   "cell_type": "markdown",
   "metadata": {},
   "source": [
    "#### Required libraries"
   ]
  },
  {
   "cell_type": "code",
   "execution_count": 89,
   "metadata": {},
   "outputs": [],
   "source": [
    "#!pip install google-cloud-bigquery --upgrade --quiet\n",
    "# !pip install pandas-profiling\n",
    "#!pip install pycountry-convert"
   ]
  },
  {
   "cell_type": "code",
   "execution_count": 202,
   "metadata": {},
   "outputs": [
    {
     "name": "stdout",
     "output_type": "stream",
     "text": [
      "Done.\n"
     ]
    }
   ],
   "source": [
    "from google.cloud import bigquery\n",
    "from google.api_core.exceptions import BadRequest\n",
    "import time\n",
    "import pandas as pd\n",
    "import numpy as np\n",
    "import matplotlib.pyplot as plt\n",
    "import seaborn as sns\n",
    "import pycountry_convert as pc\n",
    "\n",
    "pd.set_option('display.max_columns', None)\n",
    "pd.set_option('display.max_colwidth', 200)\n",
    "\n",
    "# Construct a BigQuery client object.\n",
    "client = bigquery.Client()\n",
    "\n",
    "def bq_query(sql, async_flag=False):\n",
    "    \"\"\"\n",
    "    If `async_flag` set to False (default), \n",
    "        returns the query results for `sql` as a Pandas DataFrame, \n",
    "    Else, submits query asynchronously and returns nothing.\n",
    "    \"\"\"\n",
    "    \n",
    "    # Try dry run before executing query to catch any errors\n",
    "    try:\n",
    "        job_config = bigquery.QueryJobConfig(dry_run=True, use_query_cache=False)\n",
    "        dry_run_job = client.query(sql, job_config=job_config)\n",
    "    except BadRequest as err:\n",
    "        print(err)\n",
    "        return\n",
    "        \n",
    "    job_config = bigquery.QueryJobConfig()\n",
    "    df = client.query(sql, job_config=job_config)\n",
    "    \n",
    "    if async_flag:\n",
    "        return f\"Query sent asynchronously for job id: {df.job_id}\"\n",
    "    else:\n",
    "        df = df.result() #wait for query to finish running\n",
    "        return df.to_dataframe()\n",
    "    \n",
    "def pandas_to_bq(df, tablename):\n",
    "    return client.load_table_from_dataframe(\n",
    "        dataframe = df, \n",
    "        destination = DATASET_ID + '.' + tablename,\n",
    "        project = PROJECT_ID\n",
    "    )\n",
    "    \n",
    "\n",
    "print(\"Done.\")"
   ]
  },
  {
   "cell_type": "markdown",
   "metadata": {},
   "source": [
    "<a id=\"basics\"></a>"
   ]
  },
  {
   "cell_type": "markdown",
   "metadata": {},
   "source": [
    "## BigQuery ML basics"
   ]
  },
  {
   "cell_type": "markdown",
   "metadata": {},
   "source": [
    "<a id=\"select\"></a>"
   ]
  },
  {
   "cell_type": "markdown",
   "metadata": {
    "tags": []
   },
   "source": [
    "#### Select BigQuery data from Python"
   ]
  },
  {
   "cell_type": "code",
   "execution_count": 173,
   "metadata": {},
   "outputs": [
    {
     "data": {
      "text/html": [
       "<div>\n",
       "<style scoped>\n",
       "    .dataframe tbody tr th:only-of-type {\n",
       "        vertical-align: middle;\n",
       "    }\n",
       "\n",
       "    .dataframe tbody tr th {\n",
       "        vertical-align: top;\n",
       "    }\n",
       "\n",
       "    .dataframe thead th {\n",
       "        text-align: right;\n",
       "    }\n",
       "</style>\n",
       "<table border=\"1\" class=\"dataframe\">\n",
       "  <thead>\n",
       "    <tr style=\"text-align: right;\">\n",
       "      <th></th>\n",
       "      <th>deviceCategory</th>\n",
       "      <th>country</th>\n",
       "      <th>isFirstVisit</th>\n",
       "      <th>totalPageviews</th>\n",
       "      <th>totalTimeOnSite</th>\n",
       "      <th>productPagesViewed</th>\n",
       "      <th>addedToCart</th>\n",
       "      <th>isMobile</th>\n",
       "      <th>hour</th>\n",
       "      <th>day</th>\n",
       "      <th>month</th>\n",
       "      <th>isWeekend</th>\n",
       "      <th>isApple</th>\n",
       "      <th>hasRecentVisit</th>\n",
       "    </tr>\n",
       "    <tr>\n",
       "      <th>fullVisitorId</th>\n",
       "      <th></th>\n",
       "      <th></th>\n",
       "      <th></th>\n",
       "      <th></th>\n",
       "      <th></th>\n",
       "      <th></th>\n",
       "      <th></th>\n",
       "      <th></th>\n",
       "      <th></th>\n",
       "      <th></th>\n",
       "      <th></th>\n",
       "      <th></th>\n",
       "      <th></th>\n",
       "      <th></th>\n",
       "    </tr>\n",
       "  </thead>\n",
       "  <tbody>\n",
       "    <tr>\n",
       "      <th>999150862738363524</th>\n",
       "      <td>mobile</td>\n",
       "      <td>United States</td>\n",
       "      <td>1</td>\n",
       "      <td>1</td>\n",
       "      <td>0</td>\n",
       "      <td>0</td>\n",
       "      <td>0</td>\n",
       "      <td>1</td>\n",
       "      <td>-0.866025</td>\n",
       "      <td>-0.587785</td>\n",
       "      <td>-9.898214e-01</td>\n",
       "      <td>0</td>\n",
       "      <td>0</td>\n",
       "      <td>0</td>\n",
       "    </tr>\n",
       "    <tr>\n",
       "      <th>9994595199466781769</th>\n",
       "      <td>desktop</td>\n",
       "      <td>United States</td>\n",
       "      <td>0</td>\n",
       "      <td>2</td>\n",
       "      <td>341</td>\n",
       "      <td>0</td>\n",
       "      <td>0</td>\n",
       "      <td>0</td>\n",
       "      <td>-0.500000</td>\n",
       "      <td>0.587785</td>\n",
       "      <td>-1.133108e-15</td>\n",
       "      <td>1</td>\n",
       "      <td>1</td>\n",
       "      <td>1</td>\n",
       "    </tr>\n",
       "    <tr>\n",
       "      <th>9994595199466781769</th>\n",
       "      <td>desktop</td>\n",
       "      <td>United States</td>\n",
       "      <td>0</td>\n",
       "      <td>2</td>\n",
       "      <td>291</td>\n",
       "      <td>0</td>\n",
       "      <td>0</td>\n",
       "      <td>0</td>\n",
       "      <td>-0.965926</td>\n",
       "      <td>0.587785</td>\n",
       "      <td>-1.133108e-15</td>\n",
       "      <td>1</td>\n",
       "      <td>1</td>\n",
       "      <td>1</td>\n",
       "    </tr>\n",
       "    <tr>\n",
       "      <th>9994595199466781769</th>\n",
       "      <td>desktop</td>\n",
       "      <td>United States</td>\n",
       "      <td>0</td>\n",
       "      <td>1</td>\n",
       "      <td>0</td>\n",
       "      <td>0</td>\n",
       "      <td>0</td>\n",
       "      <td>0</td>\n",
       "      <td>-0.500000</td>\n",
       "      <td>0.994522</td>\n",
       "      <td>-1.133108e-15</td>\n",
       "      <td>0</td>\n",
       "      <td>1</td>\n",
       "      <td>1</td>\n",
       "    </tr>\n",
       "    <tr>\n",
       "      <th>9994595199466781769</th>\n",
       "      <td>desktop</td>\n",
       "      <td>United States</td>\n",
       "      <td>0</td>\n",
       "      <td>1</td>\n",
       "      <td>0</td>\n",
       "      <td>0</td>\n",
       "      <td>0</td>\n",
       "      <td>0</td>\n",
       "      <td>0.866025</td>\n",
       "      <td>0.994522</td>\n",
       "      <td>-1.133108e-15</td>\n",
       "      <td>0</td>\n",
       "      <td>1</td>\n",
       "      <td>1</td>\n",
       "    </tr>\n",
       "  </tbody>\n",
       "</table>\n",
       "</div>"
      ],
      "text/plain": [
       "                    deviceCategory        country  isFirstVisit  \\\n",
       "fullVisitorId                                                     \n",
       "999150862738363524          mobile  United States             1   \n",
       "9994595199466781769        desktop  United States             0   \n",
       "9994595199466781769        desktop  United States             0   \n",
       "9994595199466781769        desktop  United States             0   \n",
       "9994595199466781769        desktop  United States             0   \n",
       "\n",
       "                     totalPageviews  totalTimeOnSite  productPagesViewed  \\\n",
       "fullVisitorId                                                              \n",
       "999150862738363524                1                0                   0   \n",
       "9994595199466781769               2              341                   0   \n",
       "9994595199466781769               2              291                   0   \n",
       "9994595199466781769               1                0                   0   \n",
       "9994595199466781769               1                0                   0   \n",
       "\n",
       "                     addedToCart  isMobile      hour       day         month  \\\n",
       "fullVisitorId                                                                  \n",
       "999150862738363524             0         1 -0.866025 -0.587785 -9.898214e-01   \n",
       "9994595199466781769            0         0 -0.500000  0.587785 -1.133108e-15   \n",
       "9994595199466781769            0         0 -0.965926  0.587785 -1.133108e-15   \n",
       "9994595199466781769            0         0 -0.500000  0.994522 -1.133108e-15   \n",
       "9994595199466781769            0         0  0.866025  0.994522 -1.133108e-15   \n",
       "\n",
       "                     isWeekend  isApple  hasRecentVisit  \n",
       "fullVisitorId                                            \n",
       "999150862738363524           0        0               0  \n",
       "9994595199466781769          1        1               1  \n",
       "9994595199466781769          1        1               1  \n",
       "9994595199466781769          0        1               1  \n",
       "9994595199466781769          0        1               1  "
      ]
     },
     "execution_count": 173,
     "metadata": {},
     "output_type": "execute_result"
    }
   ],
   "source": [
    "sql_select = \"\"\"\n",
    "WITH\n",
    "train AS (\n",
    "    SELECT \n",
    "      t.* EXCEPT (totalHits, totalVisits, date, isMobile, browser, city, trafficSource, trafficMedium, trafficCampaign, operatingSystem), \n",
    "      CAST(isMobile AS INT64) AS isMobile,\n",
    "      SIN(2 * ACOS(-1) * EXTRACT(HOUR FROM TIMESTAMP_MILLIS(visitStartTime*1000)) / 24) AS hour,\n",
    "      SIN(2 * ACOS(-1) * (EXTRACT(DAY FROM TIMESTAMP_MILLIS(visitStartTime*1000))-1) / 30) AS day,\n",
    "      SIN(2 * ACOS(-1) * (EXTRACT(MONTH FROM TIMESTAMP_MILLIS(visitStartTime*1000))-1) / 11) AS month,\n",
    "      IF (EXTRACT(DAYOFWEEK FROM TIMESTAMP_MILLIS(visitStartTime*1000)) IN (1,7), 1, 0) AS isWeekend,\n",
    "      IF (operatingSystem IN ('Macintosh', 'iOS'), 1, 0) AS isApple,\n",
    "      LAG(visitStartTime, 1, 0) OVER (PARTITION BY fullVisitorId ORDER BY visitStartTime ASC) AS lastVisitTime,\n",
    "      CASE\n",
    "        WHEN TIMESTAMP_DIFF(TIMESTAMP_MILLIS(visitStartTime), TIMESTAMP_MILLIS(LAG(visitStartTime, 1, 0) OVER (PARTITION BY fullVisitorId ORDER BY visitStartTime ASC)), HOUR) <= 24 THEN 1\n",
    "        ELSE 0\n",
    "      END AS hasRecentVisit\n",
    "    FROM\n",
    "      kaggleworkshops.google_analytics_sample_eu.train t\n",
    "    WHERE date BETWEEN TIMESTAMP(\"2016-01-01\")\n",
    "      AND TIMESTAMP(\"2016-12-31\")\n",
    ")\n",
    "SELECT * EXCEPT (visitStartTime, lastVisitTime)\n",
    "FROM train\n",
    "WHERE MOD(ABS(FARM_FINGERPRINT(CAST(visitStartTime AS STRING))), 100) <= 60\n",
    "\"\"\"\n",
    "\n",
    "df = bq_query(sql = sql_select).set_index('fullVisitorId')\n",
    "\n",
    "df.tail()"
   ]
  },
  {
   "cell_type": "code",
   "execution_count": 134,
   "metadata": {},
   "outputs": [
    {
     "name": "stdout",
     "output_type": "stream",
     "text": [
      "<class 'pandas.core.frame.DataFrame'>\n",
      "RangeIndex: 262006 entries, 0 to 262005\n",
      "Data columns (total 18 columns):\n",
      " #   Column              Non-Null Count   Dtype  \n",
      "---  ------              --------------   -----  \n",
      " 0   fullVisitorId       262006 non-null  object \n",
      " 1   deviceCategory      262006 non-null  object \n",
      " 2   operatingSystem     262006 non-null  object \n",
      " 3   country             262006 non-null  object \n",
      " 4   trafficSource       262006 non-null  object \n",
      " 5   trafficMedium       262006 non-null  object \n",
      " 6   trafficCampaign     262006 non-null  object \n",
      " 7   isFirstVisit        262006 non-null  int64  \n",
      " 8   totalPageviews      262006 non-null  int64  \n",
      " 9   totalTimeOnSite     262006 non-null  int64  \n",
      " 10  productPagesViewed  262006 non-null  int64  \n",
      " 11  addedToCart         262006 non-null  int64  \n",
      " 12  isMobile            262006 non-null  int64  \n",
      " 13  hour                262006 non-null  float64\n",
      " 14  day                 262006 non-null  float64\n",
      " 15  month               262006 non-null  float64\n",
      " 16  month_original      262006 non-null  int64  \n",
      " 17  isWeekend           262006 non-null  int64  \n",
      "dtypes: float64(3), int64(8), object(7)\n",
      "memory usage: 36.0+ MB\n"
     ]
    }
   ],
   "source": [
    "df.info()"
   ]
  },
  {
   "cell_type": "markdown",
   "metadata": {},
   "source": [
    "### Exploratory Data Analysis"
   ]
  },
  {
   "cell_type": "code",
   "execution_count": 90,
   "metadata": {},
   "outputs": [],
   "source": [
    "# %%time\n",
    "# from pandas_profiling import ProfileReport\n",
    "# profile = ProfileReport(df, title=\"Pandas Profiling Report\", explorative=True)\n",
    "# profile"
   ]
  },
  {
   "cell_type": "code",
   "execution_count": 174,
   "metadata": {},
   "outputs": [
    {
     "data": {
      "text/plain": [
       "<AxesSubplot:>"
      ]
     },
     "execution_count": 174,
     "metadata": {},
     "output_type": "execute_result"
    },
    {
     "data": {
      "image/png": "[encoded data removed]",
      "text/plain": [
       "<Figure size 720x720 with 2 Axes>"
      ]
     },
     "metadata": {
      "needs_background": "light"
     },
     "output_type": "display_data"
    }
   ],
   "source": [
    "corr_matrix = df.corr()\n",
    "plt.subplots(figsize=(10, 10))\n",
    "sns.heatmap(corr_matrix, square=True, cbar=True, annot=True, cmap='Spectral')"
   ]
  },
  {
   "cell_type": "code",
   "execution_count": 120,
   "metadata": {},
   "outputs": [
    {
     "data": {
      "text/plain": [
       "<BarContainer object of 2 artists>"
      ]
     },
     "execution_count": 120,
     "metadata": {},
     "output_type": "execute_result"
    },
    {
     "data": {
      "image/png": "[encoded data removed]",
      "text/plain": [
       "<Figure size 1152x576 with 1 Axes>"
      ]
     },
     "metadata": {
      "needs_background": "light"
     },
     "output_type": "display_data"
    }
   ],
   "source": [
    "fig, ax = plt.subplots(figsize=(16,8))\n",
    "ax.bar(['Distinct Visitors', 'Visitors'], [df.fullVisitorId.nunique(), df.shape[0]])"
   ]
  },
  {
   "cell_type": "code",
   "execution_count": 148,
   "metadata": {},
   "outputs": [
    {
     "data": {
      "image/png": "[encoded data removed]",
      "text/plain": [
       "<Figure size 1152x576 with 1 Axes>"
      ]
     },
     "metadata": {
      "needs_background": "light"
     },
     "output_type": "display_data"
    }
   ],
   "source": [
    "def plot_categorical_variable(column: str, figsize=(16,8)):\n",
    "    fig, ax = plt.subplots(figsize=figsize)\n",
    "    df_plot = pd.DataFrame(df.groupby(column)['fullVisitorId'].count()).reset_index(drop=False)\n",
    "    sns.barplot(data=df_plot, x=\"fullVisitorId\", y=column, ax=ax)\n",
    "    fig.savefig(f'./plots/{column}.jpeg', bbox_inches='tight')\n",
    "    \n",
    "column = 'totalPageviews'\n",
    "plot_categorical_variable(column)"
   ]
  },
  {
   "cell_type": "code",
   "execution_count": 123,
   "metadata": {},
   "outputs": [],
   "source": [
    "@np.vectorize\n",
    "def binarize_time_on_site(time, threshold=5):\n",
    "    return 1 if time > 5 else 0\n",
    "\n",
    "@np.vectorize\n",
    "def binarize_product_pages_viewed(pv):\n",
    "    if pv <= 1:\n",
    "        return 1\n",
    "    elif pv > 1 and pv <= 3:\n",
    "        return 2\n",
    "    elif pv > 3:\n",
    "        return 5\n",
    "    return 0\n",
    "\n",
    "\n",
    "@np.vectorize\n",
    "def get_continent_code(country): \n",
    "    try:\n",
    "        country_code = pc.country_name_to_country_alpha2(country, cn_name_format=\"default\")\n",
    "\n",
    "        return pc.country_alpha2_to_continent_code(country_code)\n",
    "    except:\n",
    "        return 'Other'"
   ]
  },
  {
   "cell_type": "code",
   "execution_count": 169,
   "metadata": {
    "tags": []
   },
   "outputs": [
    {
     "name": "stderr",
     "output_type": "stream",
     "text": [
      "/opt/conda/lib/python3.7/site-packages/seaborn/distributions.py:2619: FutureWarning: `distplot` is a deprecated function and will be removed in a future version. Please adapt your code to use either `displot` (a figure-level function with similar flexibility) or `histplot` (an axes-level function for histograms).\n",
      "  warnings.warn(msg, FutureWarning)\n"
     ]
    },
    {
     "data": {
      "image/png": "[encoded data removed]",
      "text/plain": [
       "<Figure size 1152x576 with 1 Axes>"
      ]
     },
     "metadata": {
      "needs_background": "light"
     },
     "output_type": "display_data"
    }
   ],
   "source": [
    "def plot_numerical_variable(column:str, figsize=(16,8), log=False, max_value=None):\n",
    "    fig, ax = plt.subplots(figsize=figsize)\n",
    "    df_plot = df.copy()\n",
    "    if max_value:\n",
    "        df_plot = df_plot.query(f'{column} <= {max_value}')\n",
    "    \n",
    "    if log:\n",
    "        sns.distplot(np.log(1+df_plot[column]), ax=ax)\n",
    "    else:\n",
    "        sns.distplot(df_plot[column], ax=ax)\n",
    "    \n",
    "plot_numerical_variable('totalTimeOnSite', log=False, max_value = None)"
   ]
  },
  {
   "cell_type": "code",
   "execution_count": 175,
   "metadata": {},
   "outputs": [],
   "source": [
    "df = df[df.totalTimeOnSite <= df.query('totalTimeOnSite > 0')['totalTimeOnSite'].quantile(q=.99)]\n",
    "df = df[df.totalPageviews <= df.query('totalPageviews > 0')['totalPageviews'].quantile(q=.99)]\n",
    "df = df[df.productPagesViewed <= df.query('productPagesViewed > 0')['productPagesViewed'].quantile(q=.99)]\n",
    "\n",
    "for column in ['totalTimeOnSite', 'totalPageviews', 'productPagesViewed']:\n",
    "    df.loc[ df[df[column] == 0].index, column ] = df.query(column + ' > 0')[column].mean()"
   ]
  },
  {
   "cell_type": "markdown",
   "metadata": {},
   "source": [
    "## Preprocessing\n",
    "\n",
    "### Categorical\n",
    "- `deviceCategory`: oneHotEncoding\n",
    "- `isMobile`: cast to integer\n",
    "- `browser`: ignored (device category is enough)\n",
    "- `country`: get_continent_code and oneHotEncoding\n",
    "- `city`: ignored\n",
    "- `trafficSource`: ignored (?)\n",
    "- `trafficMedium`: ignored (?)\n",
    "- `trafficCampaign`: ignored (?)\n",
    "- `operatingSystem`: binarize_os_category\n",
    "\n",
    "### Numerical\n",
    "- `isFirstVisit`: leave as is\n",
    "- `totalVisits`: ignored\n",
    "- `totalPageviews`: log (but we could binarize as well (like light/medium/heavy user)\n",
    "* - `totalTimeOnSite`: substituir nulos por mediana dos não-nulos # threshold on 5\n",
    "- `productPagesViewed`: binarize_product_pages_viewed\n",
    "- `addedToCart`\n",
    "- `hour`: get_cyclic_hour\n",
    "- `day`: get_cyclic_day\n",
    "- `month`: get_cyclic_month\n",
    "- `isWeekend`: leave as is\n"
   ]
  },
  {
   "cell_type": "code",
   "execution_count": 177,
   "metadata": {},
   "outputs": [],
   "source": [
    "df['totalPageviews'] = np.log(1+df['totalPageviews'])\n",
    "df['country'] = df['country'].apply(get_continent_code)"
   ]
  },
  {
   "cell_type": "code",
   "execution_count": 83,
   "metadata": {},
   "outputs": [
    {
     "data": {
      "text/html": [
       "<div>\n",
       "<style scoped>\n",
       "    .dataframe tbody tr th:only-of-type {\n",
       "        vertical-align: middle;\n",
       "    }\n",
       "\n",
       "    .dataframe tbody tr th {\n",
       "        vertical-align: top;\n",
       "    }\n",
       "\n",
       "    .dataframe thead th {\n",
       "        text-align: right;\n",
       "    }\n",
       "</style>\n",
       "<table border=\"1\" class=\"dataframe\">\n",
       "  <thead>\n",
       "    <tr style=\"text-align: right;\">\n",
       "      <th>addedToCart</th>\n",
       "      <th>0</th>\n",
       "      <th>1</th>\n",
       "      <th>percent</th>\n",
       "    </tr>\n",
       "    <tr>\n",
       "      <th>trafficMedium</th>\n",
       "      <th></th>\n",
       "      <th></th>\n",
       "      <th></th>\n",
       "    </tr>\n",
       "  </thead>\n",
       "  <tbody>\n",
       "    <tr>\n",
       "      <th>(none)</th>\n",
       "      <td>16058.0</td>\n",
       "      <td>2742.0</td>\n",
       "      <td>0.145851</td>\n",
       "    </tr>\n",
       "    <tr>\n",
       "      <th>(not set)</th>\n",
       "      <td>2.0</td>\n",
       "      <td>NaN</td>\n",
       "      <td>NaN</td>\n",
       "    </tr>\n",
       "    <tr>\n",
       "      <th>affiliate</th>\n",
       "      <td>1752.0</td>\n",
       "      <td>157.0</td>\n",
       "      <td>0.082242</td>\n",
       "    </tr>\n",
       "    <tr>\n",
       "      <th>cpc</th>\n",
       "      <td>1331.0</td>\n",
       "      <td>136.0</td>\n",
       "      <td>0.092706</td>\n",
       "    </tr>\n",
       "    <tr>\n",
       "      <th>cpm</th>\n",
       "      <td>394.0</td>\n",
       "      <td>55.0</td>\n",
       "      <td>0.122494</td>\n",
       "    </tr>\n",
       "    <tr>\n",
       "      <th>organic</th>\n",
       "      <td>22121.0</td>\n",
       "      <td>2022.0</td>\n",
       "      <td>0.083751</td>\n",
       "    </tr>\n",
       "    <tr>\n",
       "      <th>referral</th>\n",
       "      <td>27669.0</td>\n",
       "      <td>320.0</td>\n",
       "      <td>0.011433</td>\n",
       "    </tr>\n",
       "  </tbody>\n",
       "</table>\n",
       "</div>"
      ],
      "text/plain": [
       "addedToCart          0       1   percent\n",
       "trafficMedium                           \n",
       "(none)         16058.0  2742.0  0.145851\n",
       "(not set)          2.0     NaN       NaN\n",
       "affiliate       1752.0   157.0  0.082242\n",
       "cpc             1331.0   136.0  0.092706\n",
       "cpm              394.0    55.0  0.122494\n",
       "organic        22121.0  2022.0  0.083751\n",
       "referral       27669.0   320.0  0.011433"
      ]
     },
     "execution_count": 83,
     "metadata": {},
     "output_type": "execute_result"
    }
   ],
   "source": [
    "def get_relation(data: pd.DataFrame(), col: str):\n",
    "    relation_df = pd.DataFrame(data\\\n",
    "        .groupby(by=[col, 'addedToCart'])\\\n",
    "        .count()['fullVisitorId']).reset_index()\\\n",
    "        .pivot(index=col, columns='addedToCart', values='fullVisitorId')\n",
    "    relation_df['percent'] = relation_df[1] / (relation_df[0]+relation_df[1])\n",
    "    return relation_df\n",
    "\n",
    "get_relation(df, 'trafficMedium')"
   ]
  },
  {
   "cell_type": "markdown",
   "metadata": {},
   "source": [
    "<a id=\"train\"></a>"
   ]
  },
  {
   "cell_type": "markdown",
   "metadata": {},
   "source": [
    "Saving pre-processed dataframe to BigQuery"
   ]
  },
  {
   "cell_type": "code",
   "execution_count": null,
   "metadata": {},
   "outputs": [],
   "source": [
    "pandas_to_bq(df.reset_index(drop=True))"
   ]
  },
  {
   "cell_type": "markdown",
   "metadata": {},
   "source": [
    "#### Train a BigQuery ML model\n",
    "\n",
    "- [Hyperparameter Tunning](https://cloud.google.com/bigquery-ml/docs/reference/standard-sql/bigqueryml-hyperparameter-tuning#hparam_tuning_algorithm)"
   ]
  },
  {
   "cell_type": "code",
   "execution_count": 264,
   "metadata": {},
   "outputs": [
    {
     "data": {
      "text/plain": [
       "'Query sent asynchronously for job id: f6717798-1671-4309-9b6a-57fd0089ea49'"
      ]
     },
     "execution_count": 264,
     "metadata": {},
     "output_type": "execute_result"
    }
   ],
   "source": [
    "model_name = 'logistic_reg'\n",
    "\n",
    "sql_logreg_sample = f\"\"\"\n",
    "CREATE OR REPLACE MODEL bqmlretail.{model_name}\n",
    "TRANSFORM(\"\"\"\n",
    "\n",
    "sql_logreg_sample += ', '.join(df.columns)\n",
    "  \n",
    "sql_logreg_sample += f\"\"\"\n",
    ")\n",
    "OPTIONS(\n",
    "  model_type='{model_name}', \n",
    "  INPUT_LABEL_COLS=[\"addedToCart\"],\n",
    "  num_trials=100,\n",
    "  HPARAM_TUNING_ALGORITHM = 'VIZIER_DEFAULT',\n",
    "  HPARAM_TUNING_OBJECTIVES = ['ROC_AUC'],\n",
    "  DATA_SPLIT_METHOD = 'RANDOM', \n",
    "  l1_reg = HPARAM_RANGE(0, 10),\n",
    "  l2_reg = HPARAM_RANGE(0, 10)\n",
    ") AS\n",
    "SELECT \n",
    "  *\n",
    "FROM\n",
    "  `{PROJECT_ID}.{DATASET_ID}.train_processed`\n",
    "\"\"\"\n",
    "\n",
    "#send asynchronously\n",
    "bq_query(sql = sql_logreg_sample, async_flag=True)"
   ]
  },
  {
   "cell_type": "code",
   "execution_count": 263,
   "metadata": {},
   "outputs": [
    {
     "data": {
      "text/plain": [
       "'Query sent asynchronously for job id: 3e3a64fc-5065-4560-8c74-5ef2ced7d27c'"
      ]
     },
     "execution_count": 263,
     "metadata": {},
     "output_type": "execute_result"
    }
   ],
   "source": [
    "model_name = 'boosted_tree_classifier'\n",
    "\n",
    "sql_logreg_sample = f\"\"\"\n",
    "CREATE OR REPLACE MODEL bqmlretail.{model_name}\n",
    "TRANSFORM(\"\"\"\n",
    "\n",
    "sql_logreg_sample += ', '.join(df.columns)\n",
    "  \n",
    "sql_logreg_sample += f\"\"\"\n",
    ")\n",
    "OPTIONS(\n",
    "  model_type='{model_name}', \n",
    "  INPUT_LABEL_COLS=[\"addedToCart\"],\n",
    "  num_trials=100,\n",
    "  HPARAM_TUNING_ALGORITHM = 'VIZIER_DEFAULT',\n",
    "  HPARAM_TUNING_OBJECTIVES = ['ROC_AUC'],\n",
    "  DATA_SPLIT_METHOD = 'RANDOM', \n",
    "  learn_rate = HPARAM_RANGE(0.0001, 0.1),\n",
    "  l2_reg = HPARAM_RANGE(0, 10),\n",
    "  dropout = HPARAM_RANGE(0, 1),\n",
    "  max_tree_depth = HPARAM_RANGE(1, 10),\n",
    "  subsample = HPARAM_RANGE(0, 1),\n",
    "  num_parallel_tree=10\n",
    ") AS\n",
    "SELECT \n",
    "  *\n",
    "FROM\n",
    "  `{PROJECT_ID}.{DATASET_ID}.train_processed`\n",
    "\"\"\"\n",
    "\n",
    "#send asynchronously\n",
    "bq_query(sql = sql_logreg_sample, async_flag=True)"
   ]
  },
  {
   "cell_type": "markdown",
   "metadata": {},
   "source": [
    "Other model types for classification:\n",
    " - [`logistic_reg`](https://cloud.google.com/bigquery-ml/docs/reference/standard-sql/bigqueryml-syntax-create)\n",
    " - [`boosted_tree_classifier`](https://cloud.google.com/bigquery-ml/docs/reference/standard-sql/bigqueryml-syntax-create-boosted-tree)\n",
    " - [`dnn_classifier`](https://cloud.google.com/bigquery-ml/docs/reference/standard-sql/bigqueryml-syntax-create-dnn-models)\n",
    " - [`automl_classifier`](https://cloud.google.com/bigquery-ml/docs/reference/standard-sql/bigqueryml-syntax-create-automl)"
   ]
  },
  {
   "cell_type": "markdown",
   "metadata": {},
   "source": [
    "<a id=\"currentlytraining\"></a>"
   ]
  },
  {
   "cell_type": "markdown",
   "metadata": {},
   "source": [
    "#### Check models currently being trained on BigQuery"
   ]
  },
  {
   "cell_type": "markdown",
   "metadata": {},
   "source": [
    "This will check if the models in your project are still undergoing training."
   ]
  },
  {
   "cell_type": "code",
   "execution_count": 268,
   "metadata": {},
   "outputs": [
    {
     "name": "stdout",
     "output_type": "stream",
     "text": [
      "\n",
      "SELECT\n",
      "    job_id,\n",
      "    creation_time,\n",
      "    query,\n",
      "    REGEXP_EXTRACT(query, r'bqmlretail\\.\\w+') AS modelname\n",
      "FROM `region-eu`.INFORMATION_SCHEMA.JOBS_BY_USER\n",
      "WHERE \n",
      "    REGEXP_CONTAINS(LOWER(query), 'create (or replace ){0,1}model')\n",
      "    AND NOT REGEXP_CONTAINS(LOWER(query), 'information_schema')\n",
      "    AND state != \"DONE\"\n",
      "\n",
      "2 models still currently training:\n"
     ]
    },
    {
     "data": {
      "text/html": [
       "<div>\n",
       "<style scoped>\n",
       "    .dataframe tbody tr th:only-of-type {\n",
       "        vertical-align: middle;\n",
       "    }\n",
       "\n",
       "    .dataframe tbody tr th {\n",
       "        vertical-align: top;\n",
       "    }\n",
       "\n",
       "    .dataframe thead th {\n",
       "        text-align: right;\n",
       "    }\n",
       "</style>\n",
       "<table border=\"1\" class=\"dataframe\">\n",
       "  <thead>\n",
       "    <tr style=\"text-align: right;\">\n",
       "      <th></th>\n",
       "      <th>job_id</th>\n",
       "      <th>creation_time</th>\n",
       "      <th>query</th>\n",
       "      <th>modelname</th>\n",
       "    </tr>\n",
       "  </thead>\n",
       "  <tbody>\n",
       "    <tr>\n",
       "      <th>0</th>\n",
       "      <td>f6717798-1671-4309-9b6a-57fd0089ea49</td>\n",
       "      <td>2021-11-09 20:18:34.901000+00:00</td>\n",
       "      <td>\\nCREATE OR REPLACE MODEL bqmlretail.logistic_reg\\nTRANSFORM(deviceCategory, country, isFirstVisit, totalPageviews, totalTimeOnSite, productPagesViewed, addedToCart, isMobile, hour, day, month, is...</td>\n",
       "      <td>bqmlretail.logistic_reg</td>\n",
       "    </tr>\n",
       "    <tr>\n",
       "      <th>1</th>\n",
       "      <td>3e3a64fc-5065-4560-8c74-5ef2ced7d27c</td>\n",
       "      <td>2021-11-09 20:16:54.937000+00:00</td>\n",
       "      <td>\\nCREATE OR REPLACE MODEL bqmlretail.boosted_tree_classifier\\nTRANSFORM(deviceCategory, country, isFirstVisit, totalPageviews, totalTimeOnSite, productPagesViewed, addedToCart, isMobile, hour, day...</td>\n",
       "      <td>bqmlretail.boosted_tree_classifier</td>\n",
       "    </tr>\n",
       "  </tbody>\n",
       "</table>\n",
       "</div>"
      ],
      "text/plain": [
       "                                 job_id                    creation_time  \\\n",
       "0  f6717798-1671-4309-9b6a-57fd0089ea49 2021-11-09 20:18:34.901000+00:00   \n",
       "1  3e3a64fc-5065-4560-8c74-5ef2ced7d27c 2021-11-09 20:16:54.937000+00:00   \n",
       "\n",
       "                                                                                                                                                                                                     query  \\\n",
       "0  \\nCREATE OR REPLACE MODEL bqmlretail.logistic_reg\\nTRANSFORM(deviceCategory, country, isFirstVisit, totalPageviews, totalTimeOnSite, productPagesViewed, addedToCart, isMobile, hour, day, month, is...   \n",
       "1  \\nCREATE OR REPLACE MODEL bqmlretail.boosted_tree_classifier\\nTRANSFORM(deviceCategory, country, isFirstVisit, totalPageviews, totalTimeOnSite, productPagesViewed, addedToCart, isMobile, hour, day...   \n",
       "\n",
       "                            modelname  \n",
       "0             bqmlretail.logistic_reg  \n",
       "1  bqmlretail.boosted_tree_classifier  "
      ]
     },
     "execution_count": 268,
     "metadata": {},
     "output_type": "execute_result"
    }
   ],
   "source": [
    "sql_currentlyrunningqueries = f\"\"\"\n",
    "SELECT\n",
    "    job_id,\n",
    "    creation_time,\n",
    "    query,\n",
    "    REGEXP_EXTRACT(query, r'{DATASET_ID}\\.\\w+') AS modelname\n",
    "FROM `region-eu`.INFORMATION_SCHEMA.JOBS_BY_USER\n",
    "WHERE \n",
    "    REGEXP_CONTAINS(LOWER(query), 'create (or replace ){{0,1}}model')\n",
    "    AND NOT REGEXP_CONTAINS(LOWER(query), 'information_schema')\n",
    "    AND state != \"DONE\"\n",
    "\"\"\"\n",
    "\n",
    "print(sql_currentlyrunningqueries)\n",
    "\n",
    "#send asynchronously\n",
    "models_still_training = bq_query(sql_currentlyrunningqueries)\n",
    "\n",
    "print(f\"{len(models_still_training)} models still currently training:\")\n",
    "models_still_training"
   ]
  },
  {
   "cell_type": "markdown",
   "metadata": {},
   "source": [
    "<a id=\"finishedtraining\"></a>"
   ]
  },
  {
   "cell_type": "markdown",
   "metadata": {},
   "source": [
    "#### Check which models have finished training"
   ]
  },
  {
   "cell_type": "code",
   "execution_count": 260,
   "metadata": {},
   "outputs": [
    {
     "name": "stdout",
     "output_type": "stream",
     "text": [
      "\n",
      "SELECT\n",
      "    job_id,\n",
      "    creation_time,\n",
      "    query,\n",
      "    REGEXP_EXTRACT(query, r'bqmlretail\\.\\w+') AS modelname\n",
      "FROM `region-eu`.INFORMATION_SCHEMA.JOBS_BY_USER\n",
      "WHERE \n",
      "    REGEXP_CONTAINS(LOWER(query), 'create (or replace ){0,1}model')\n",
      "    AND NOT REGEXP_CONTAINS(LOWER(query), 'information_schema')\n",
      "    AND state = \"DONE\"\n",
      "ORDER BY creation_time DESC\n",
      "\n"
     ]
    },
    {
     "data": {
      "text/html": [
       "<div>\n",
       "<style scoped>\n",
       "    .dataframe tbody tr th:only-of-type {\n",
       "        vertical-align: middle;\n",
       "    }\n",
       "\n",
       "    .dataframe tbody tr th {\n",
       "        vertical-align: top;\n",
       "    }\n",
       "\n",
       "    .dataframe thead th {\n",
       "        text-align: right;\n",
       "    }\n",
       "</style>\n",
       "<table border=\"1\" class=\"dataframe\">\n",
       "  <thead>\n",
       "    <tr style=\"text-align: right;\">\n",
       "      <th></th>\n",
       "      <th>job_id</th>\n",
       "      <th>creation_time</th>\n",
       "      <th>query</th>\n",
       "      <th>modelname</th>\n",
       "    </tr>\n",
       "  </thead>\n",
       "  <tbody>\n",
       "    <tr>\n",
       "      <th>0</th>\n",
       "      <td>0d5d836d-2b6a-4f59-8486-3f6704a22b11</td>\n",
       "      <td>2021-11-09 20:00:48.286000+00:00</td>\n",
       "      <td>\\nCREATE OR REPLACE MODEL bqmlretail.boosted_tree_classifier\\nTRANSFORM(deviceCategory, country, isFirstVisit, totalPageviews, totalTimeOnSite, productPagesViewed, addedToCart, isMobile, hour, day...</td>\n",
       "      <td>bqmlretail.boosted_tree_classifier</td>\n",
       "    </tr>\n",
       "    <tr>\n",
       "      <th>1</th>\n",
       "      <td>83529ea6-67ed-4595-8e25-ab2d78b4ff6c</td>\n",
       "      <td>2021-11-09 19:56:25.856000+00:00</td>\n",
       "      <td>\\nCREATE OR REPLACE MODEL bqmlretail.boosted_tree_classifier\\nTRANSFORM(deviceCategory, country, isFirstVisit, totalPageviews, totalTimeOnSite, productPagesViewed, addedToCart, isMobile, hour, day...</td>\n",
       "      <td>bqmlretail.boosted_tree_classifier</td>\n",
       "    </tr>\n",
       "    <tr>\n",
       "      <th>2</th>\n",
       "      <td>ff8e7076-3ddf-4e1b-979c-d965182db95d</td>\n",
       "      <td>2021-11-09 18:22:34.417000+00:00</td>\n",
       "      <td>\\nCREATE OR REPLACE MODEL bqmlretail.dnn_classifier\\nTRANSFORM(deviceCategory, country, isFirstVisit, totalPageviews, totalTimeOnSite, productPagesViewed, addedToCart, isMobile, hour, day, month, ...</td>\n",
       "      <td>bqmlretail.dnn_classifier</td>\n",
       "    </tr>\n",
       "    <tr>\n",
       "      <th>3</th>\n",
       "      <td>708cf365-e8a8-4fda-9b10-ba02b9a70e4f</td>\n",
       "      <td>2021-11-09 18:08:21.587000+00:00</td>\n",
       "      <td>\\nCREATE OR REPLACE MODEL bqmlretail.boosted_tree_classifier\\nTRANSFORM(deviceCategory, country, isFirstVisit, totalPageviews, totalTimeOnSite, productPagesViewed, addedToCart, isMobile, hour, day...</td>\n",
       "      <td>bqmlretail.boosted_tree_classifier</td>\n",
       "    </tr>\n",
       "    <tr>\n",
       "      <th>4</th>\n",
       "      <td>5c0f570c-5461-42fe-ac86-4190b4669ea3</td>\n",
       "      <td>2021-11-09 14:22:11.379000+00:00</td>\n",
       "      <td>\\nCREATE OR REPLACE MODEL bqmlretail.logreg_sample\\nTRANSFORM(deviceCategory, country, isFirstVisit, totalPageviews, totalTimeOnSite, productPagesViewed, addedToCart, isMobile, hour, day, month, i...</td>\n",
       "      <td>bqmlretail.logreg_sample</td>\n",
       "    </tr>\n",
       "  </tbody>\n",
       "</table>\n",
       "</div>"
      ],
      "text/plain": [
       "                                 job_id                    creation_time  \\\n",
       "0  0d5d836d-2b6a-4f59-8486-3f6704a22b11 2021-11-09 20:00:48.286000+00:00   \n",
       "1  83529ea6-67ed-4595-8e25-ab2d78b4ff6c 2021-11-09 19:56:25.856000+00:00   \n",
       "2  ff8e7076-3ddf-4e1b-979c-d965182db95d 2021-11-09 18:22:34.417000+00:00   \n",
       "3  708cf365-e8a8-4fda-9b10-ba02b9a70e4f 2021-11-09 18:08:21.587000+00:00   \n",
       "4  5c0f570c-5461-42fe-ac86-4190b4669ea3 2021-11-09 14:22:11.379000+00:00   \n",
       "\n",
       "                                                                                                                                                                                                     query  \\\n",
       "0  \\nCREATE OR REPLACE MODEL bqmlretail.boosted_tree_classifier\\nTRANSFORM(deviceCategory, country, isFirstVisit, totalPageviews, totalTimeOnSite, productPagesViewed, addedToCart, isMobile, hour, day...   \n",
       "1  \\nCREATE OR REPLACE MODEL bqmlretail.boosted_tree_classifier\\nTRANSFORM(deviceCategory, country, isFirstVisit, totalPageviews, totalTimeOnSite, productPagesViewed, addedToCart, isMobile, hour, day...   \n",
       "2  \\nCREATE OR REPLACE MODEL bqmlretail.dnn_classifier\\nTRANSFORM(deviceCategory, country, isFirstVisit, totalPageviews, totalTimeOnSite, productPagesViewed, addedToCart, isMobile, hour, day, month, ...   \n",
       "3  \\nCREATE OR REPLACE MODEL bqmlretail.boosted_tree_classifier\\nTRANSFORM(deviceCategory, country, isFirstVisit, totalPageviews, totalTimeOnSite, productPagesViewed, addedToCart, isMobile, hour, day...   \n",
       "4  \\nCREATE OR REPLACE MODEL bqmlretail.logreg_sample\\nTRANSFORM(deviceCategory, country, isFirstVisit, totalPageviews, totalTimeOnSite, productPagesViewed, addedToCart, isMobile, hour, day, month, i...   \n",
       "\n",
       "                            modelname  \n",
       "0  bqmlretail.boosted_tree_classifier  \n",
       "1  bqmlretail.boosted_tree_classifier  \n",
       "2           bqmlretail.dnn_classifier  \n",
       "3  bqmlretail.boosted_tree_classifier  \n",
       "4            bqmlretail.logreg_sample  "
      ]
     },
     "execution_count": 260,
     "metadata": {},
     "output_type": "execute_result"
    }
   ],
   "source": [
    "sql_finished_queries = f\"\"\"\n",
    "SELECT\n",
    "    job_id,\n",
    "    creation_time,\n",
    "    query,\n",
    "    REGEXP_EXTRACT(query, r'{DATASET_ID}\\.\\w+') AS modelname\n",
    "FROM `region-eu`.INFORMATION_SCHEMA.JOBS_BY_USER\n",
    "WHERE \n",
    "    REGEXP_CONTAINS(LOWER(query), 'create (or replace ){{0,1}}model')\n",
    "    AND NOT REGEXP_CONTAINS(LOWER(query), 'information_schema')\n",
    "    AND state = \"DONE\"\n",
    "ORDER BY creation_time DESC\n",
    "\"\"\"\n",
    "\n",
    "print(sql_finished_queries)\n",
    "\n",
    "finished_models = bq_query(sql_finished_queries)\n",
    "finished_models.head()"
   ]
  },
  {
   "cell_type": "markdown",
   "metadata": {},
   "source": [
    "<a id=\"evaluate\"></a>"
   ]
  },
  {
   "cell_type": "markdown",
   "metadata": {},
   "source": [
    "#### Evaluate a BigQuery ML model"
   ]
  },
  {
   "cell_type": "code",
   "execution_count": 261,
   "metadata": {},
   "outputs": [
    {
     "name": "stdout",
     "output_type": "stream",
     "text": [
      "\n",
      "SELECT \n",
      "  *\n",
      "FROM\n",
      "  ML.EVALUATE(\n",
      "      MODEL bqmlretail.boosted_tree_classifier)\n",
      "\n"
     ]
    },
    {
     "data": {
      "text/html": [
       "<div>\n",
       "<style scoped>\n",
       "    .dataframe tbody tr th:only-of-type {\n",
       "        vertical-align: middle;\n",
       "    }\n",
       "\n",
       "    .dataframe tbody tr th {\n",
       "        vertical-align: top;\n",
       "    }\n",
       "\n",
       "    .dataframe thead th {\n",
       "        text-align: right;\n",
       "    }\n",
       "</style>\n",
       "<table border=\"1\" class=\"dataframe\">\n",
       "  <thead>\n",
       "    <tr style=\"text-align: right;\">\n",
       "      <th></th>\n",
       "      <th>precision</th>\n",
       "      <th>recall</th>\n",
       "      <th>accuracy</th>\n",
       "      <th>f1_score</th>\n",
       "      <th>log_loss</th>\n",
       "      <th>roc_auc</th>\n",
       "    </tr>\n",
       "  </thead>\n",
       "  <tbody>\n",
       "    <tr>\n",
       "      <th>0</th>\n",
       "      <td>0.636364</td>\n",
       "      <td>0.219731</td>\n",
       "      <td>0.959972</td>\n",
       "      <td>0.326667</td>\n",
       "      <td>0.095016</td>\n",
       "      <td>0.959202</td>\n",
       "    </tr>\n",
       "  </tbody>\n",
       "</table>\n",
       "</div>"
      ],
      "text/plain": [
       "   precision    recall  accuracy  f1_score  log_loss   roc_auc\n",
       "0   0.636364  0.219731  0.959972  0.326667  0.095016  0.959202"
      ]
     },
     "execution_count": 261,
     "metadata": {},
     "output_type": "execute_result"
    }
   ],
   "source": [
    "MODEL_NAME = \"boosted_tree_classifier\"\n",
    "\n",
    "sql_logreg_sample = f\"\"\"\n",
    "SELECT \n",
    "  *\n",
    "FROM\n",
    "  ML.EVALUATE(\n",
    "      MODEL {DATASET_ID}.{MODEL_NAME})\n",
    "\"\"\"\n",
    "\n",
    "print(sql_logreg_sample)\n",
    "\n",
    "bq_query(sql = sql_logreg_sample)"
   ]
  },
  {
   "cell_type": "markdown",
   "metadata": {},
   "source": [
    "<a id=\"compare\"></a>"
   ]
  },
  {
   "cell_type": "markdown",
   "metadata": {},
   "source": [
    "### Compare multiple models"
   ]
  },
  {
   "cell_type": "code",
   "execution_count": 240,
   "metadata": {},
   "outputs": [
    {
     "name": "stdout",
     "output_type": "stream",
     "text": [
      "SELECT \n",
      "  'boosted_tree_classifier' as modelname, \n",
      "  * \n",
      "FROM \n",
      "  ML.EVALUATE(MODEL bqmlretail.boosted_tree_classifier)\n",
      "\n",
      "UNION ALL\n",
      "\n",
      "SELECT \n",
      "  'logreg_sample' as modelname, \n",
      "  * \n",
      "FROM \n",
      "  ML.EVALUATE(MODEL bqmlretail.logreg_sample)\n",
      "\n",
      "UNION ALL\n",
      "\n",
      "SELECT \n",
      "  'dnn_classifier' as modelname, \n",
      "  * \n",
      "FROM \n",
      "  ML.EVALUATE(MODEL bqmlretail.dnn_classifier)\n"
     ]
    },
    {
     "data": {
      "text/html": [
       "<div>\n",
       "<style scoped>\n",
       "    .dataframe tbody tr th:only-of-type {\n",
       "        vertical-align: middle;\n",
       "    }\n",
       "\n",
       "    .dataframe tbody tr th {\n",
       "        vertical-align: top;\n",
       "    }\n",
       "\n",
       "    .dataframe thead th {\n",
       "        text-align: right;\n",
       "    }\n",
       "</style>\n",
       "<table border=\"1\" class=\"dataframe\">\n",
       "  <thead>\n",
       "    <tr style=\"text-align: right;\">\n",
       "      <th></th>\n",
       "      <th>modelname</th>\n",
       "      <th>precision</th>\n",
       "      <th>recall</th>\n",
       "      <th>accuracy</th>\n",
       "      <th>f1_score</th>\n",
       "      <th>log_loss</th>\n",
       "      <th>roc_auc</th>\n",
       "    </tr>\n",
       "  </thead>\n",
       "  <tbody>\n",
       "    <tr>\n",
       "      <th>0</th>\n",
       "      <td>boosted_tree_classifier</td>\n",
       "      <td>0.636364</td>\n",
       "      <td>0.219731</td>\n",
       "      <td>0.959972</td>\n",
       "      <td>0.326667</td>\n",
       "      <td>0.095016</td>\n",
       "      <td>0.959202</td>\n",
       "    </tr>\n",
       "    <tr>\n",
       "      <th>1</th>\n",
       "      <td>logreg_sample</td>\n",
       "      <td>0.653333</td>\n",
       "      <td>0.109865</td>\n",
       "      <td>0.958090</td>\n",
       "      <td>0.188100</td>\n",
       "      <td>0.109639</td>\n",
       "      <td>0.942639</td>\n",
       "    </tr>\n",
       "    <tr>\n",
       "      <th>2</th>\n",
       "      <td>dnn_classifier</td>\n",
       "      <td>0.593750</td>\n",
       "      <td>0.255605</td>\n",
       "      <td>0.959378</td>\n",
       "      <td>0.357367</td>\n",
       "      <td>0.099214</td>\n",
       "      <td>0.951996</td>\n",
       "    </tr>\n",
       "  </tbody>\n",
       "</table>\n",
       "</div>"
      ],
      "text/plain": [
       "                 modelname  precision    recall  accuracy  f1_score  log_loss  \\\n",
       "0  boosted_tree_classifier   0.636364  0.219731  0.959972  0.326667  0.095016   \n",
       "1            logreg_sample   0.653333  0.109865  0.958090  0.188100  0.109639   \n",
       "2           dnn_classifier   0.593750  0.255605  0.959378  0.357367  0.099214   \n",
       "\n",
       "    roc_auc  \n",
       "0  0.959202  \n",
       "1  0.942639  \n",
       "2  0.951996  "
      ]
     },
     "execution_count": 240,
     "metadata": {},
     "output_type": "execute_result"
    }
   ],
   "source": [
    "MODEL_LIST = [\"boosted_tree_classifier\", \"logreg_sample\", \"dnn_classifier\"\n",
    "              ] #change or add models here\n",
    "\n",
    "sql_modeleval_list = [f\"SELECT \\n  '{modelname}' as modelname, \\n  * \\nFROM \\n  ML.EVALUATE(MODEL {DATASET_ID}.{modelname})\"\n",
    "                      for modelname \n",
    "                      in MODEL_LIST]\n",
    "\n",
    "sql_compare_evaluation = \"\\n\\nUNION ALL\\n\\n\".join(sql_modeleval_list)\n",
    "\n",
    "print(sql_compare_evaluation)\n",
    "\n",
    "bq_query(sql_compare_evaluation)"
   ]
  },
  {
   "cell_type": "markdown",
   "metadata": {},
   "source": [
    "<a id=\"featinfo\"></a>"
   ]
  },
  {
   "cell_type": "markdown",
   "metadata": {},
   "source": [
    "### ML.FEATURE_INFO to check input feature information"
   ]
  },
  {
   "cell_type": "markdown",
   "metadata": {},
   "source": [
    "The ML.FEATURE_INFO function allows you to see information about the input features used to train a model. [ML.FEATURE_INFO Documentation](https://cloud.google.com/bigquery-ml/docs/reference/standard-sql/bigqueryml-syntax-feature)"
   ]
  },
  {
   "cell_type": "code",
   "execution_count": 241,
   "metadata": {},
   "outputs": [
    {
     "data": {
      "text/html": [
       "<div>\n",
       "<style scoped>\n",
       "    .dataframe tbody tr th:only-of-type {\n",
       "        vertical-align: middle;\n",
       "    }\n",
       "\n",
       "    .dataframe tbody tr th {\n",
       "        vertical-align: top;\n",
       "    }\n",
       "\n",
       "    .dataframe thead th {\n",
       "        text-align: right;\n",
       "    }\n",
       "</style>\n",
       "<table border=\"1\" class=\"dataframe\">\n",
       "  <thead>\n",
       "    <tr style=\"text-align: right;\">\n",
       "      <th></th>\n",
       "      <th>input</th>\n",
       "      <th>min</th>\n",
       "      <th>max</th>\n",
       "      <th>mean</th>\n",
       "      <th>median</th>\n",
       "      <th>stddev</th>\n",
       "      <th>category_count</th>\n",
       "      <th>null_count</th>\n",
       "    </tr>\n",
       "  </thead>\n",
       "  <tbody>\n",
       "    <tr>\n",
       "      <th>0</th>\n",
       "      <td>country</td>\n",
       "      <td>NaN</td>\n",
       "      <td>NaN</td>\n",
       "      <td>NaN</td>\n",
       "      <td>NaN</td>\n",
       "      <td>NaN</td>\n",
       "      <td>7.0</td>\n",
       "      <td>0</td>\n",
       "    </tr>\n",
       "    <tr>\n",
       "      <th>1</th>\n",
       "      <td>day</td>\n",
       "      <td>-0.994522</td>\n",
       "      <td>0.994522</td>\n",
       "      <td>0.003948</td>\n",
       "      <td>0.000000</td>\n",
       "      <td>0.695927</td>\n",
       "      <td>NaN</td>\n",
       "      <td>0</td>\n",
       "    </tr>\n",
       "    <tr>\n",
       "      <th>2</th>\n",
       "      <td>deviceCategory</td>\n",
       "      <td>NaN</td>\n",
       "      <td>NaN</td>\n",
       "      <td>NaN</td>\n",
       "      <td>NaN</td>\n",
       "      <td>NaN</td>\n",
       "      <td>3.0</td>\n",
       "      <td>0</td>\n",
       "    </tr>\n",
       "    <tr>\n",
       "      <th>3</th>\n",
       "      <td>hasRecentVisit</td>\n",
       "      <td>0.000000</td>\n",
       "      <td>1.000000</td>\n",
       "      <td>0.182979</td>\n",
       "      <td>0.000000</td>\n",
       "      <td>0.386650</td>\n",
       "      <td>NaN</td>\n",
       "      <td>0</td>\n",
       "    </tr>\n",
       "    <tr>\n",
       "      <th>4</th>\n",
       "      <td>hour</td>\n",
       "      <td>-1.000000</td>\n",
       "      <td>1.000000</td>\n",
       "      <td>-0.115703</td>\n",
       "      <td>-0.258819</td>\n",
       "      <td>0.710573</td>\n",
       "      <td>NaN</td>\n",
       "      <td>0</td>\n",
       "    </tr>\n",
       "    <tr>\n",
       "      <th>5</th>\n",
       "      <td>isApple</td>\n",
       "      <td>0.000000</td>\n",
       "      <td>1.000000</td>\n",
       "      <td>0.421380</td>\n",
       "      <td>0.000000</td>\n",
       "      <td>0.493781</td>\n",
       "      <td>NaN</td>\n",
       "      <td>0</td>\n",
       "    </tr>\n",
       "    <tr>\n",
       "      <th>6</th>\n",
       "      <td>isFirstVisit</td>\n",
       "      <td>0.000000</td>\n",
       "      <td>1.000000</td>\n",
       "      <td>0.801361</td>\n",
       "      <td>1.000000</td>\n",
       "      <td>0.398977</td>\n",
       "      <td>NaN</td>\n",
       "      <td>0</td>\n",
       "    </tr>\n",
       "    <tr>\n",
       "      <th>7</th>\n",
       "      <td>isMobile</td>\n",
       "      <td>0.000000</td>\n",
       "      <td>1.000000</td>\n",
       "      <td>0.200051</td>\n",
       "      <td>0.000000</td>\n",
       "      <td>0.400039</td>\n",
       "      <td>NaN</td>\n",
       "      <td>0</td>\n",
       "    </tr>\n",
       "    <tr>\n",
       "      <th>8</th>\n",
       "      <td>isWeekend</td>\n",
       "      <td>0.000000</td>\n",
       "      <td>1.000000</td>\n",
       "      <td>0.222531</td>\n",
       "      <td>0.000000</td>\n",
       "      <td>0.415946</td>\n",
       "      <td>NaN</td>\n",
       "      <td>0</td>\n",
       "    </tr>\n",
       "    <tr>\n",
       "      <th>9</th>\n",
       "      <td>month</td>\n",
       "      <td>-0.989821</td>\n",
       "      <td>0.000000</td>\n",
       "      <td>-0.632297</td>\n",
       "      <td>-0.755750</td>\n",
       "      <td>0.341302</td>\n",
       "      <td>NaN</td>\n",
       "      <td>0</td>\n",
       "    </tr>\n",
       "    <tr>\n",
       "      <th>10</th>\n",
       "      <td>productPagesViewed</td>\n",
       "      <td>1.000000</td>\n",
       "      <td>11.000000</td>\n",
       "      <td>2.346806</td>\n",
       "      <td>2.347924</td>\n",
       "      <td>0.545324</td>\n",
       "      <td>NaN</td>\n",
       "      <td>0</td>\n",
       "    </tr>\n",
       "    <tr>\n",
       "      <th>11</th>\n",
       "      <td>totalPageviews</td>\n",
       "      <td>0.693147</td>\n",
       "      <td>3.496508</td>\n",
       "      <td>1.174522</td>\n",
       "      <td>0.693147</td>\n",
       "      <td>0.652676</td>\n",
       "      <td>NaN</td>\n",
       "      <td>0</td>\n",
       "    </tr>\n",
       "    <tr>\n",
       "      <th>12</th>\n",
       "      <td>totalTimeOnSite</td>\n",
       "      <td>1.000000</td>\n",
       "      <td>2246.000000</td>\n",
       "      <td>188.783341</td>\n",
       "      <td>194.541378</td>\n",
       "      <td>198.863841</td>\n",
       "      <td>NaN</td>\n",
       "      <td>0</td>\n",
       "    </tr>\n",
       "  </tbody>\n",
       "</table>\n",
       "</div>"
      ],
      "text/plain": [
       "                 input       min          max        mean      median  \\\n",
       "0              country       NaN          NaN         NaN         NaN   \n",
       "1                  day -0.994522     0.994522    0.003948    0.000000   \n",
       "2       deviceCategory       NaN          NaN         NaN         NaN   \n",
       "3       hasRecentVisit  0.000000     1.000000    0.182979    0.000000   \n",
       "4                 hour -1.000000     1.000000   -0.115703   -0.258819   \n",
       "5              isApple  0.000000     1.000000    0.421380    0.000000   \n",
       "6         isFirstVisit  0.000000     1.000000    0.801361    1.000000   \n",
       "7             isMobile  0.000000     1.000000    0.200051    0.000000   \n",
       "8            isWeekend  0.000000     1.000000    0.222531    0.000000   \n",
       "9                month -0.989821     0.000000   -0.632297   -0.755750   \n",
       "10  productPagesViewed  1.000000    11.000000    2.346806    2.347924   \n",
       "11      totalPageviews  0.693147     3.496508    1.174522    0.693147   \n",
       "12     totalTimeOnSite  1.000000  2246.000000  188.783341  194.541378   \n",
       "\n",
       "        stddev  category_count  null_count  \n",
       "0          NaN             7.0           0  \n",
       "1     0.695927             NaN           0  \n",
       "2          NaN             3.0           0  \n",
       "3     0.386650             NaN           0  \n",
       "4     0.710573             NaN           0  \n",
       "5     0.493781             NaN           0  \n",
       "6     0.398977             NaN           0  \n",
       "7     0.400039             NaN           0  \n",
       "8     0.415946             NaN           0  \n",
       "9     0.341302             NaN           0  \n",
       "10    0.545324             NaN           0  \n",
       "11    0.652676             NaN           0  \n",
       "12  198.863841             NaN           0  "
      ]
     },
     "execution_count": 241,
     "metadata": {},
     "output_type": "execute_result"
    }
   ],
   "source": [
    "MODEL_NAME = \"dnn_classifier\"\n",
    "\n",
    "sql_featureinfo = f\"\"\"\n",
    "SELECT\n",
    "    *\n",
    "FROM\n",
    "    ML.FEATURE_INFO(MODEL bqmlretail.{MODEL_NAME})\n",
    "\"\"\"\n",
    "\n",
    "bq_query(sql_featureinfo)"
   ]
  },
  {
   "cell_type": "markdown",
   "metadata": {},
   "source": [
    "<a id=\"predictions\"></a>"
   ]
  },
  {
   "cell_type": "markdown",
   "metadata": {},
   "source": [
    "### Make predictions using BigQuery ML"
   ]
  },
  {
   "cell_type": "code",
   "execution_count": 200,
   "metadata": {},
   "outputs": [
    {
     "data": {
      "text/html": [
       "<div>\n",
       "<style scoped>\n",
       "    .dataframe tbody tr th:only-of-type {\n",
       "        vertical-align: middle;\n",
       "    }\n",
       "\n",
       "    .dataframe tbody tr th {\n",
       "        vertical-align: top;\n",
       "    }\n",
       "\n",
       "    .dataframe thead th {\n",
       "        text-align: right;\n",
       "    }\n",
       "</style>\n",
       "<table border=\"1\" class=\"dataframe\">\n",
       "  <thead>\n",
       "    <tr style=\"text-align: right;\">\n",
       "      <th></th>\n",
       "      <th>sessionId</th>\n",
       "      <th>deviceCategory</th>\n",
       "      <th>country</th>\n",
       "      <th>isFirstVisit</th>\n",
       "      <th>totalPageviews</th>\n",
       "      <th>totalTimeOnSite</th>\n",
       "      <th>productPagesViewed</th>\n",
       "      <th>isMobile</th>\n",
       "      <th>hour</th>\n",
       "      <th>day</th>\n",
       "      <th>month</th>\n",
       "      <th>isWeekend</th>\n",
       "      <th>isApple</th>\n",
       "      <th>hasRecentVisit</th>\n",
       "    </tr>\n",
       "  </thead>\n",
       "  <tbody>\n",
       "    <tr>\n",
       "      <th>137941</th>\n",
       "      <td>99581539534067981331501457211</td>\n",
       "      <td>mobile</td>\n",
       "      <td>United States</td>\n",
       "      <td>1</td>\n",
       "      <td>1</td>\n",
       "      <td>0</td>\n",
       "      <td>0</td>\n",
       "      <td>1</td>\n",
       "      <td>-0.258819</td>\n",
       "      <td>-0.207912</td>\n",
       "      <td>-0.281733</td>\n",
       "      <td>1</td>\n",
       "      <td>1</td>\n",
       "      <td>0</td>\n",
       "    </tr>\n",
       "    <tr>\n",
       "      <th>137942</th>\n",
       "      <td>99598360862560373711498127338</td>\n",
       "      <td>desktop</td>\n",
       "      <td>Germany</td>\n",
       "      <td>1</td>\n",
       "      <td>1</td>\n",
       "      <td>0</td>\n",
       "      <td>0</td>\n",
       "      <td>0</td>\n",
       "      <td>0.500000</td>\n",
       "      <td>-0.951057</td>\n",
       "      <td>0.281733</td>\n",
       "      <td>0</td>\n",
       "      <td>1</td>\n",
       "      <td>0</td>\n",
       "    </tr>\n",
       "    <tr>\n",
       "      <th>137943</th>\n",
       "      <td>99598675226915444041498138256</td>\n",
       "      <td>desktop</td>\n",
       "      <td>Germany</td>\n",
       "      <td>1</td>\n",
       "      <td>1</td>\n",
       "      <td>0</td>\n",
       "      <td>0</td>\n",
       "      <td>0</td>\n",
       "      <td>-0.258819</td>\n",
       "      <td>-0.951057</td>\n",
       "      <td>0.281733</td>\n",
       "      <td>0</td>\n",
       "      <td>0</td>\n",
       "      <td>0</td>\n",
       "    </tr>\n",
       "    <tr>\n",
       "      <th>137944</th>\n",
       "      <td>99694392078211575461497551799</td>\n",
       "      <td>desktop</td>\n",
       "      <td>United States</td>\n",
       "      <td>1</td>\n",
       "      <td>1</td>\n",
       "      <td>0</td>\n",
       "      <td>0</td>\n",
       "      <td>0</td>\n",
       "      <td>-1.000000</td>\n",
       "      <td>0.207912</td>\n",
       "      <td>0.281733</td>\n",
       "      <td>0</td>\n",
       "      <td>1</td>\n",
       "      <td>0</td>\n",
       "    </tr>\n",
       "    <tr>\n",
       "      <th>137945</th>\n",
       "      <td>99957279867626653731499545920</td>\n",
       "      <td>mobile</td>\n",
       "      <td>United States</td>\n",
       "      <td>1</td>\n",
       "      <td>7</td>\n",
       "      <td>80</td>\n",
       "      <td>0</td>\n",
       "      <td>1</td>\n",
       "      <td>-0.866025</td>\n",
       "      <td>0.994522</td>\n",
       "      <td>-0.281733</td>\n",
       "      <td>1</td>\n",
       "      <td>1</td>\n",
       "      <td>0</td>\n",
       "    </tr>\n",
       "  </tbody>\n",
       "</table>\n",
       "</div>"
      ],
      "text/plain": [
       "                            sessionId deviceCategory        country  \\\n",
       "137941  99581539534067981331501457211         mobile  United States   \n",
       "137942  99598360862560373711498127338        desktop        Germany   \n",
       "137943  99598675226915444041498138256        desktop        Germany   \n",
       "137944  99694392078211575461497551799        desktop  United States   \n",
       "137945  99957279867626653731499545920         mobile  United States   \n",
       "\n",
       "        isFirstVisit  totalPageviews  totalTimeOnSite  productPagesViewed  \\\n",
       "137941             1               1                0                   0   \n",
       "137942             1               1                0                   0   \n",
       "137943             1               1                0                   0   \n",
       "137944             1               1                0                   0   \n",
       "137945             1               7               80                   0   \n",
       "\n",
       "        isMobile      hour       day     month  isWeekend  isApple  \\\n",
       "137941         1 -0.258819 -0.207912 -0.281733          1        1   \n",
       "137942         0  0.500000 -0.951057  0.281733          0        1   \n",
       "137943         0 -0.258819 -0.951057  0.281733          0        0   \n",
       "137944         0 -1.000000  0.207912  0.281733          0        1   \n",
       "137945         1 -0.866025  0.994522 -0.281733          1        1   \n",
       "\n",
       "        hasRecentVisit  \n",
       "137941               0  \n",
       "137942               0  \n",
       "137943               0  \n",
       "137944               0  \n",
       "137945               0  "
      ]
     },
     "execution_count": 200,
     "metadata": {},
     "output_type": "execute_result"
    }
   ],
   "source": [
    "sql_select = \"\"\"\n",
    "WITH\n",
    "test AS (\n",
    "    SELECT \n",
    "      CONCAT(fullVisitorId, CAST(visitStartTime as string)) as sessionId, \n",
    "      t.* EXCEPT (totalHits, totalVisits, date, isMobile, browser, city, trafficSource, trafficMedium, trafficCampaign, operatingSystem), \n",
    "      CAST(isMobile AS INT64) AS isMobile,\n",
    "      SIN(2 * ACOS(-1) * EXTRACT(HOUR FROM TIMESTAMP_MILLIS(visitStartTime*1000)) / 24) AS hour,\n",
    "      SIN(2 * ACOS(-1) * (EXTRACT(DAY FROM TIMESTAMP_MILLIS(visitStartTime*1000))-1) / 30) AS day,\n",
    "      SIN(2 * ACOS(-1) * (EXTRACT(MONTH FROM TIMESTAMP_MILLIS(visitStartTime*1000))-1) / 11) AS month,\n",
    "      IF (EXTRACT(DAYOFWEEK FROM TIMESTAMP_MILLIS(visitStartTime*1000)) IN (1,7), 1, 0) AS isWeekend,\n",
    "      IF (operatingSystem IN ('Macintosh', 'iOS'), 1, 0) AS isApple,\n",
    "      LAG(visitStartTime, 1, 0) OVER (PARTITION BY fullVisitorId ORDER BY visitStartTime ASC) AS lastVisitTime,\n",
    "      CASE\n",
    "        WHEN TIMESTAMP_DIFF(TIMESTAMP_MILLIS(visitStartTime), TIMESTAMP_MILLIS(LAG(visitStartTime, 1, 0) OVER (PARTITION BY fullVisitorId ORDER BY visitStartTime ASC)), HOUR) <= 24 THEN 1\n",
    "        ELSE 0\n",
    "      END AS hasRecentVisit\n",
    "    FROM\n",
    "      kaggleworkshops.google_analytics_sample_eu.test t\n",
    ")\n",
    "SELECT * EXCEPT (visitStartTime, lastVisitTime, fullVisitorId)\n",
    "FROM test\n",
    "\"\"\"\n",
    "\n",
    "df_test = bq_query(sql = sql_select)\n",
    "\n",
    "df_test.tail()"
   ]
  },
  {
   "cell_type": "code",
   "execution_count": 201,
   "metadata": {},
   "outputs": [],
   "source": [
    "df_test['totalPageviews'] = np.log(1+df_test['totalPageviews'])\n",
    "df_test['country'] = df_test['country'].apply(get_continent_code)"
   ]
  },
  {
   "cell_type": "code",
   "execution_count": 203,
   "metadata": {},
   "outputs": [
    {
     "data": {
      "text/plain": [
       "LoadJob<project=globohack-kaggle21-6923, location=EU, id=d18db365-a748-42c8-a7da-c6c14b5090f2>"
      ]
     },
     "execution_count": 203,
     "metadata": {},
     "output_type": "execute_result"
    }
   ],
   "source": [
    "pandas_to_bq(df_test, tablename='test_processed')"
   ]
  },
  {
   "cell_type": "code",
   "execution_count": 242,
   "metadata": {},
   "outputs": [
    {
     "name": "stdout",
     "output_type": "stream",
     "text": [
      "\n",
      "SELECT\n",
      "  sessionId, \n",
      "  prob as addedToCart\n",
      "FROM\n",
      "  ML.PREDICT(MODEL bqmlretail.dnn_classifier,\n",
      "    (\n",
      "    SELECT \n",
      "      *\n",
      "    FROM\n",
      "    `globohack-kaggle21-6923.bqmlretail.test_processed`\n",
      "  )),\n",
      "UNNEST(predicted_addedToCart_probs)\n",
      "WHERE label = 1\n",
      "\n"
     ]
    },
    {
     "data": {
      "text/html": [
       "<div>\n",
       "<style scoped>\n",
       "    .dataframe tbody tr th:only-of-type {\n",
       "        vertical-align: middle;\n",
       "    }\n",
       "\n",
       "    .dataframe tbody tr th {\n",
       "        vertical-align: top;\n",
       "    }\n",
       "\n",
       "    .dataframe thead th {\n",
       "        text-align: right;\n",
       "    }\n",
       "</style>\n",
       "<table border=\"1\" class=\"dataframe\">\n",
       "  <thead>\n",
       "    <tr style=\"text-align: right;\">\n",
       "      <th></th>\n",
       "      <th>sessionId</th>\n",
       "      <th>addedToCart</th>\n",
       "    </tr>\n",
       "  </thead>\n",
       "  <tbody>\n",
       "    <tr>\n",
       "      <th>0</th>\n",
       "      <td>57620979614862299831500851464</td>\n",
       "      <td>0.002304</td>\n",
       "    </tr>\n",
       "    <tr>\n",
       "      <th>1</th>\n",
       "      <td>05791299549566660861497856272</td>\n",
       "      <td>0.001900</td>\n",
       "    </tr>\n",
       "    <tr>\n",
       "      <th>2</th>\n",
       "      <td>14593605395351717551499791566</td>\n",
       "      <td>0.003367</td>\n",
       "    </tr>\n",
       "    <tr>\n",
       "      <th>3</th>\n",
       "      <td>22960310742577551851499504677</td>\n",
       "      <td>0.000230</td>\n",
       "    </tr>\n",
       "    <tr>\n",
       "      <th>4</th>\n",
       "      <td>44679779041561447891499058658</td>\n",
       "      <td>0.003320</td>\n",
       "    </tr>\n",
       "  </tbody>\n",
       "</table>\n",
       "</div>"
      ],
      "text/plain": [
       "                       sessionId  addedToCart\n",
       "0  57620979614862299831500851464     0.002304\n",
       "1  05791299549566660861497856272     0.001900\n",
       "2  14593605395351717551499791566     0.003367\n",
       "3  22960310742577551851499504677     0.000230\n",
       "4  44679779041561447891499058658     0.003320"
      ]
     },
     "execution_count": 242,
     "metadata": {},
     "output_type": "execute_result"
    }
   ],
   "source": [
    "MODEL_NAME = \"dnn_classifier\"\n",
    "\n",
    "sql_predict = f\"\"\"\n",
    "SELECT\n",
    "  sessionId, \n",
    "  prob as addedToCart\n",
    "FROM\n",
    "  ML.PREDICT(MODEL {DATASET_ID}.{MODEL_NAME},\n",
    "    (\n",
    "    SELECT \n",
    "      *\n",
    "    FROM\n",
    "    `{PROJECT_ID}.{DATASET_ID}.test_processed`\n",
    "  )),\n",
    "UNNEST(predicted_addedToCart_probs)\n",
    "WHERE label = 1\n",
    "\"\"\"\n",
    "\n",
    "print(sql_predict)\n",
    "\n",
    "submission = bq_query(sql_predict)\n",
    "submission.head()"
   ]
  },
  {
   "cell_type": "markdown",
   "metadata": {},
   "source": [
    "<a id=\"exportcsv\"></a>"
   ]
  },
  {
   "cell_type": "markdown",
   "metadata": {},
   "source": [
    "### Export predictions for Kaggle as a CSV file"
   ]
  },
  {
   "cell_type": "code",
   "execution_count": 243,
   "metadata": {},
   "outputs": [],
   "source": [
    "MODEL_NAME = \"dnn_classifier_preprocessed\"\n",
    "\n",
    "#save as CSV\n",
    "submission.to_csv(f\"submission_{MODEL_NAME}.csv\", index=False)"
   ]
  },
  {
   "cell_type": "markdown",
   "metadata": {},
   "source": [
    "The predictions are now saved to a CSV file. To download the file to your computer, locate your file in the left-menu in JupyterLab, right-click on it and click \"Download\". You can now make a submission to the Kaggle competition with the file."
   ]
  },
  {
   "cell_type": "markdown",
   "metadata": {},
   "source": [
    "<hr><a id=\"feateng\"></a>"
   ]
  },
  {
   "cell_type": "markdown",
   "metadata": {},
   "source": [
    "## Preprocessing Functions in BigQuery ML\n",
    "You can use [TRANSFORM()](https://cloud.google.com/bigquery-ml/docs/bigqueryml-transform) with any of the [preprocessing functions](https://cloud.google.com/bigquery-ml/docs/reference/standard-sql/bigqueryml-preprocessing-functions) below."
   ]
  },
  {
   "cell_type": "markdown",
   "metadata": {},
   "source": [
    "<a id=\"extractdates\"></a>"
   ]
  },
  {
   "cell_type": "markdown",
   "metadata": {},
   "source": [
    "#### EXTRACT: Extract dates and time"
   ]
  },
  {
   "cell_type": "markdown",
   "metadata": {},
   "source": [
    "[EXTRACT from DATE documentation](https://cloud.google.com/bigquery/docs/reference/standard-sql/date_functions#extract)  \n",
    "[EXTRACT from TIMESTAMP documentation](https://cloud.google.com/bigquery/docs/reference/standard-sql/timestamp_functions#extract)"
   ]
  },
  {
   "cell_type": "code",
   "execution_count": 10,
   "metadata": {},
   "outputs": [
    {
     "data": {
      "text/html": [
       "<div>\n",
       "<style scoped>\n",
       "    .dataframe tbody tr th:only-of-type {\n",
       "        vertical-align: middle;\n",
       "    }\n",
       "\n",
       "    .dataframe tbody tr th {\n",
       "        vertical-align: top;\n",
       "    }\n",
       "\n",
       "    .dataframe thead th {\n",
       "        text-align: right;\n",
       "    }\n",
       "</style>\n",
       "<table border=\"1\" class=\"dataframe\">\n",
       "  <thead>\n",
       "    <tr style=\"text-align: right;\">\n",
       "      <th></th>\n",
       "      <th>date</th>\n",
       "      <th>month</th>\n",
       "      <th>dayofweek</th>\n",
       "      <th>day</th>\n",
       "      <th>visitStartTime</th>\n",
       "      <th>hour</th>\n",
       "    </tr>\n",
       "  </thead>\n",
       "  <tbody>\n",
       "    <tr>\n",
       "      <th>0</th>\n",
       "      <td>2016-10-14 00:00:00+00:00</td>\n",
       "      <td>10</td>\n",
       "      <td>6</td>\n",
       "      <td>14</td>\n",
       "      <td>1476492957</td>\n",
       "      <td>0</td>\n",
       "    </tr>\n",
       "    <tr>\n",
       "      <th>1</th>\n",
       "      <td>2017-04-30 00:00:00+00:00</td>\n",
       "      <td>4</td>\n",
       "      <td>1</td>\n",
       "      <td>30</td>\n",
       "      <td>1493611205</td>\n",
       "      <td>4</td>\n",
       "    </tr>\n",
       "    <tr>\n",
       "      <th>2</th>\n",
       "      <td>2017-03-20 00:00:00+00:00</td>\n",
       "      <td>3</td>\n",
       "      <td>2</td>\n",
       "      <td>20</td>\n",
       "      <td>1490071147</td>\n",
       "      <td>4</td>\n",
       "    </tr>\n",
       "    <tr>\n",
       "      <th>3</th>\n",
       "      <td>2017-04-01 00:00:00+00:00</td>\n",
       "      <td>4</td>\n",
       "      <td>7</td>\n",
       "      <td>1</td>\n",
       "      <td>1491048053</td>\n",
       "      <td>12</td>\n",
       "    </tr>\n",
       "    <tr>\n",
       "      <th>4</th>\n",
       "      <td>2017-05-20 00:00:00+00:00</td>\n",
       "      <td>5</td>\n",
       "      <td>7</td>\n",
       "      <td>20</td>\n",
       "      <td>1495292376</td>\n",
       "      <td>14</td>\n",
       "    </tr>\n",
       "    <tr>\n",
       "      <th>5</th>\n",
       "      <td>2017-05-14 00:00:00+00:00</td>\n",
       "      <td>5</td>\n",
       "      <td>1</td>\n",
       "      <td>14</td>\n",
       "      <td>1494792010</td>\n",
       "      <td>20</td>\n",
       "    </tr>\n",
       "    <tr>\n",
       "      <th>6</th>\n",
       "      <td>2017-05-17 00:00:00+00:00</td>\n",
       "      <td>5</td>\n",
       "      <td>4</td>\n",
       "      <td>17</td>\n",
       "      <td>1495047452</td>\n",
       "      <td>18</td>\n",
       "    </tr>\n",
       "    <tr>\n",
       "      <th>7</th>\n",
       "      <td>2017-05-15 00:00:00+00:00</td>\n",
       "      <td>5</td>\n",
       "      <td>2</td>\n",
       "      <td>15</td>\n",
       "      <td>1494883945</td>\n",
       "      <td>21</td>\n",
       "    </tr>\n",
       "    <tr>\n",
       "      <th>8</th>\n",
       "      <td>2016-10-11 00:00:00+00:00</td>\n",
       "      <td>10</td>\n",
       "      <td>3</td>\n",
       "      <td>11</td>\n",
       "      <td>1476231674</td>\n",
       "      <td>0</td>\n",
       "    </tr>\n",
       "    <tr>\n",
       "      <th>9</th>\n",
       "      <td>2016-10-10 00:00:00+00:00</td>\n",
       "      <td>10</td>\n",
       "      <td>2</td>\n",
       "      <td>10</td>\n",
       "      <td>1476144607</td>\n",
       "      <td>0</td>\n",
       "    </tr>\n",
       "  </tbody>\n",
       "</table>\n",
       "</div>"
      ],
      "text/plain": [
       "                       date  month  dayofweek  day  visitStartTime  hour\n",
       "0 2016-10-14 00:00:00+00:00     10          6   14      1476492957     0\n",
       "1 2017-04-30 00:00:00+00:00      4          1   30      1493611205     4\n",
       "2 2017-03-20 00:00:00+00:00      3          2   20      1490071147     4\n",
       "3 2017-04-01 00:00:00+00:00      4          7    1      1491048053    12\n",
       "4 2017-05-20 00:00:00+00:00      5          7   20      1495292376    14\n",
       "5 2017-05-14 00:00:00+00:00      5          1   14      1494792010    20\n",
       "6 2017-05-17 00:00:00+00:00      5          4   17      1495047452    18\n",
       "7 2017-05-15 00:00:00+00:00      5          2   15      1494883945    21\n",
       "8 2016-10-11 00:00:00+00:00     10          3   11      1476231674     0\n",
       "9 2016-10-10 00:00:00+00:00     10          2   10      1476144607     0"
      ]
     },
     "execution_count": 10,
     "metadata": {},
     "output_type": "execute_result"
    }
   ],
   "source": [
    "sql_datetime = \"\"\"\n",
    "    SELECT\n",
    "        date,\n",
    "        EXTRACT( month FROM date) as month,\n",
    "        EXTRACT( dayofweek FROM date) AS dayofweek,\n",
    "        EXTRACT( day FROM date) as day,\n",
    "        \n",
    "        visitStartTime,\n",
    "        EXTRACT( hour FROM TIMESTAMP_SECONDS(visitStartTime) ) as hour\n",
    "    FROM\n",
    "        kaggleworkshops.google_analytics_sample_eu.train\n",
    "    LIMIT 10\n",
    "    \"\"\"\n",
    "\n",
    "bq_query(sql_datetime, \n",
    "         async_flag = False)"
   ]
  },
  {
   "cell_type": "markdown",
   "metadata": {},
   "source": [
    "<a id=\"extractwords\"></a>"
   ]
  },
  {
   "cell_type": "markdown",
   "metadata": {},
   "source": [
    "#### REGEXP_EXTRACT_ALL: Extract words from a STRING column\n",
    "[REGEXP_EXTRACT_ALL Documentation](https://cloud.google.com/bigquery/docs/reference/standard-sql/string_functions#regexp_extract_all)"
   ]
  },
  {
   "cell_type": "code",
   "execution_count": 14,
   "metadata": {},
   "outputs": [
    {
     "data": {
      "text/html": [
       "<div>\n",
       "<style scoped>\n",
       "    .dataframe tbody tr th:only-of-type {\n",
       "        vertical-align: middle;\n",
       "    }\n",
       "\n",
       "    .dataframe tbody tr th {\n",
       "        vertical-align: top;\n",
       "    }\n",
       "\n",
       "    .dataframe thead th {\n",
       "        text-align: right;\n",
       "    }\n",
       "</style>\n",
       "<table border=\"1\" class=\"dataframe\">\n",
       "  <thead>\n",
       "    <tr style=\"text-align: right;\">\n",
       "      <th></th>\n",
       "      <th>trafficCampaign</th>\n",
       "      <th>extracted_words</th>\n",
       "    </tr>\n",
       "  </thead>\n",
       "  <tbody>\n",
       "    <tr>\n",
       "      <th>0</th>\n",
       "      <td>(not set)</td>\n",
       "      <td>[not, set]</td>\n",
       "    </tr>\n",
       "    <tr>\n",
       "      <th>1</th>\n",
       "      <td>(not set)</td>\n",
       "      <td>[not, set]</td>\n",
       "    </tr>\n",
       "    <tr>\n",
       "      <th>2</th>\n",
       "      <td>(not set)</td>\n",
       "      <td>[not, set]</td>\n",
       "    </tr>\n",
       "    <tr>\n",
       "      <th>3</th>\n",
       "      <td>(not set)</td>\n",
       "      <td>[not, set]</td>\n",
       "    </tr>\n",
       "    <tr>\n",
       "      <th>4</th>\n",
       "      <td>(not set)</td>\n",
       "      <td>[not, set]</td>\n",
       "    </tr>\n",
       "  </tbody>\n",
       "</table>\n",
       "</div>"
      ],
      "text/plain": [
       "  trafficCampaign extracted_words\n",
       "0       (not set)      [not, set]\n",
       "1       (not set)      [not, set]\n",
       "2       (not set)      [not, set]\n",
       "3       (not set)      [not, set]\n",
       "4       (not set)      [not, set]"
      ]
     },
     "execution_count": 14,
     "metadata": {},
     "output_type": "execute_result"
    }
   ],
   "source": [
    "sql_words = \"\"\"\n",
    "SELECT \n",
    "  trafficCampaign, \n",
    "  REGEXP_EXTRACT_ALL(trafficCampaign, \n",
    "                      r\"[a-zA-Z]+\"\n",
    "                    ) as extracted_words \n",
    "\n",
    "FROM \n",
    "  kaggleworkshops.google_analytics_sample_eu.train\n",
    "LIMIT 5\n",
    "\"\"\"\n",
    "\n",
    "bq_query(sql_words)"
   ]
  },
  {
   "cell_type": "markdown",
   "metadata": {},
   "source": [
    "<a id=\"bucketize\"></a>"
   ]
  },
  {
   "cell_type": "markdown",
   "metadata": {},
   "source": [
    "#### ML.QUANTILE_BUCKETIZE: Bucketize your numeric feature into bins\n",
    "[ML.QUANTILE_BUCKETIZE Documentation](https://cloud.google.com/bigquery-ml/docs/reference/standard-sql/bigqueryml-preprocessing-functions#quantile_bucketize)"
   ]
  },
  {
   "cell_type": "code",
   "execution_count": 12,
   "metadata": {},
   "outputs": [
    {
     "data": {
      "text/html": [
       "<div>\n",
       "<style scoped>\n",
       "    .dataframe tbody tr th:only-of-type {\n",
       "        vertical-align: middle;\n",
       "    }\n",
       "\n",
       "    .dataframe tbody tr th {\n",
       "        vertical-align: top;\n",
       "    }\n",
       "\n",
       "    .dataframe thead th {\n",
       "        text-align: right;\n",
       "    }\n",
       "</style>\n",
       "<table border=\"1\" class=\"dataframe\">\n",
       "  <thead>\n",
       "    <tr style=\"text-align: right;\">\n",
       "      <th></th>\n",
       "      <th>totalTimeOnSite</th>\n",
       "      <th>bucket_totalTimeOnSite</th>\n",
       "    </tr>\n",
       "  </thead>\n",
       "  <tbody>\n",
       "    <tr>\n",
       "      <th>0</th>\n",
       "      <td>0</td>\n",
       "      <td>bin_1</td>\n",
       "    </tr>\n",
       "    <tr>\n",
       "      <th>1</th>\n",
       "      <td>0</td>\n",
       "      <td>bin_1</td>\n",
       "    </tr>\n",
       "    <tr>\n",
       "      <th>2</th>\n",
       "      <td>0</td>\n",
       "      <td>bin_1</td>\n",
       "    </tr>\n",
       "    <tr>\n",
       "      <th>3</th>\n",
       "      <td>302</td>\n",
       "      <td>bin_41</td>\n",
       "    </tr>\n",
       "    <tr>\n",
       "      <th>4</th>\n",
       "      <td>0</td>\n",
       "      <td>bin_1</td>\n",
       "    </tr>\n",
       "    <tr>\n",
       "      <th>5</th>\n",
       "      <td>0</td>\n",
       "      <td>bin_1</td>\n",
       "    </tr>\n",
       "    <tr>\n",
       "      <th>6</th>\n",
       "      <td>183</td>\n",
       "      <td>bin_36</td>\n",
       "    </tr>\n",
       "    <tr>\n",
       "      <th>7</th>\n",
       "      <td>7</td>\n",
       "      <td>bin_5</td>\n",
       "    </tr>\n",
       "    <tr>\n",
       "      <th>8</th>\n",
       "      <td>543</td>\n",
       "      <td>bin_45</td>\n",
       "    </tr>\n",
       "    <tr>\n",
       "      <th>9</th>\n",
       "      <td>164</td>\n",
       "      <td>bin_35</td>\n",
       "    </tr>\n",
       "  </tbody>\n",
       "</table>\n",
       "</div>"
      ],
      "text/plain": [
       "   totalTimeOnSite bucket_totalTimeOnSite\n",
       "0                0                  bin_1\n",
       "1                0                  bin_1\n",
       "2                0                  bin_1\n",
       "3              302                 bin_41\n",
       "4                0                  bin_1\n",
       "5                0                  bin_1\n",
       "6              183                 bin_36\n",
       "7                7                  bin_5\n",
       "8              543                 bin_45\n",
       "9              164                 bin_35"
      ]
     },
     "execution_count": 12,
     "metadata": {},
     "output_type": "execute_result"
    }
   ],
   "source": [
    "sql_bucketize = \"\"\"\n",
    "SELECT \n",
    "    totalTimeOnSite,\n",
    "    ML.QUANTILE_BUCKETIZE(totalTimeOnSite,\n",
    "                            100 #number of buckets\n",
    "                         ) OVER() AS bucket_totalTimeOnSite,\n",
    "FROM\n",
    "    kaggleworkshops.google_analytics_sample_eu.train\n",
    "LIMIT 10\n",
    "\"\"\"\n",
    "\n",
    "bq_query(sql_bucketize)"
   ]
  },
  {
   "cell_type": "markdown",
   "metadata": {},
   "source": [
    "<a id=\"polynomialexpand\"></a>"
   ]
  },
  {
   "cell_type": "markdown",
   "metadata": {},
   "source": [
    "#### ML.POLYNOMIAL_EXPAND: Combine numeric features"
   ]
  },
  {
   "cell_type": "markdown",
   "metadata": {},
   "source": [
    "[ML.POLYNOMIAL_EXPAND Documentation](https://cloud.google.com/bigquery-ml/docs/reference/standard-sql/bigqueryml-preprocessing-functions#mlpolynomial_expand)"
   ]
  },
  {
   "cell_type": "code",
   "execution_count": 40,
   "metadata": {},
   "outputs": [
    {
     "data": {
      "text/html": [
       "<div>\n",
       "<style scoped>\n",
       "    .dataframe tbody tr th:only-of-type {\n",
       "        vertical-align: middle;\n",
       "    }\n",
       "\n",
       "    .dataframe tbody tr th {\n",
       "        vertical-align: top;\n",
       "    }\n",
       "\n",
       "    .dataframe thead th {\n",
       "        text-align: right;\n",
       "    }\n",
       "</style>\n",
       "<table border=\"1\" class=\"dataframe\">\n",
       "  <thead>\n",
       "    <tr style=\"text-align: right;\">\n",
       "      <th></th>\n",
       "      <th>x</th>\n",
       "    </tr>\n",
       "  </thead>\n",
       "  <tbody>\n",
       "    <tr>\n",
       "      <th>0</th>\n",
       "      <td>{'totalHits': 27.0, 'totalHits_totalHits': 729.0, 'totalHits_totalPageViews': 621.0, 'totalPageViews': 23.0, 'totalPageViews_totalPageViews': 529.0}</td>\n",
       "    </tr>\n",
       "    <tr>\n",
       "      <th>1</th>\n",
       "      <td>{'totalHits': 23.0, 'totalHits_totalHits': 529.0, 'totalHits_totalPageViews': 414.0, 'totalPageViews': 18.0, 'totalPageViews_totalPageViews': 324.0}</td>\n",
       "    </tr>\n",
       "    <tr>\n",
       "      <th>2</th>\n",
       "      <td>{'totalHits': 23.0, 'totalHits_totalHits': 529.0, 'totalHits_totalPageViews': 368.0, 'totalPageViews': 16.0, 'totalPageViews_totalPageViews': 256.0}</td>\n",
       "    </tr>\n",
       "  </tbody>\n",
       "</table>\n",
       "</div>"
      ],
      "text/plain": [
       "                                                                                                                                                      x\n",
       "0  {'totalHits': 27.0, 'totalHits_totalHits': 729.0, 'totalHits_totalPageViews': 621.0, 'totalPageViews': 23.0, 'totalPageViews_totalPageViews': 529.0}\n",
       "1  {'totalHits': 23.0, 'totalHits_totalHits': 529.0, 'totalHits_totalPageViews': 414.0, 'totalPageViews': 18.0, 'totalPageViews_totalPageViews': 324.0}\n",
       "2  {'totalHits': 23.0, 'totalHits_totalHits': 529.0, 'totalHits_totalPageViews': 368.0, 'totalPageViews': 16.0, 'totalPageViews_totalPageViews': 256.0}"
      ]
     },
     "execution_count": 40,
     "metadata": {},
     "output_type": "execute_result"
    }
   ],
   "source": [
    "sql_polynomialexpand = \"\"\"\n",
    "SELECT\n",
    "    ML.POLYNOMIAL_EXPAND(STRUCT(totalHits, totalPageViews), \n",
    "                          2) AS x\n",
    "FROM\n",
    "    kaggleworkshops.google_analytics_sample_eu.train\n",
    "LIMIT 3\n",
    "\"\"\"\n",
    "\n",
    "bq_query(sql_polynomialexpand)"
   ]
  },
  {
   "cell_type": "markdown",
   "metadata": {},
   "source": [
    "<a id=\"featurecross\"></a>"
   ]
  },
  {
   "cell_type": "markdown",
   "metadata": {},
   "source": [
    "#### ML.FEATURE_CROSS: Combine categorical features\n",
    "\n",
    "[ML.FEATURE_CROSS Documentation](https://cloud.google.com/bigquery-ml/docs/reference/standard-sql/bigqueryml-preprocessing-functions#mlfeature_cross)"
   ]
  },
  {
   "cell_type": "code",
   "execution_count": 39,
   "metadata": {},
   "outputs": [
    {
     "data": {
      "text/html": [
       "<div>\n",
       "<style scoped>\n",
       "    .dataframe tbody tr th:only-of-type {\n",
       "        vertical-align: middle;\n",
       "    }\n",
       "\n",
       "    .dataframe tbody tr th {\n",
       "        vertical-align: top;\n",
       "    }\n",
       "\n",
       "    .dataframe thead th {\n",
       "        text-align: right;\n",
       "    }\n",
       "</style>\n",
       "<table border=\"1\" class=\"dataframe\">\n",
       "  <thead>\n",
       "    <tr style=\"text-align: right;\">\n",
       "      <th></th>\n",
       "      <th>country</th>\n",
       "      <th>deviceCategory</th>\n",
       "      <th>x</th>\n",
       "    </tr>\n",
       "  </thead>\n",
       "  <tbody>\n",
       "    <tr>\n",
       "      <th>0</th>\n",
       "      <td>United Kingdom</td>\n",
       "      <td>mobile</td>\n",
       "      <td>{'country_deviceCategory': 'United Kingdom_mobile'}</td>\n",
       "    </tr>\n",
       "    <tr>\n",
       "      <th>1</th>\n",
       "      <td>Taiwan</td>\n",
       "      <td>mobile</td>\n",
       "      <td>{'country_deviceCategory': 'Taiwan_mobile'}</td>\n",
       "    </tr>\n",
       "    <tr>\n",
       "      <th>2</th>\n",
       "      <td>Taiwan</td>\n",
       "      <td>mobile</td>\n",
       "      <td>{'country_deviceCategory': 'Taiwan_mobile'}</td>\n",
       "    </tr>\n",
       "  </tbody>\n",
       "</table>\n",
       "</div>"
      ],
      "text/plain": [
       "          country deviceCategory  \\\n",
       "0  United Kingdom         mobile   \n",
       "1          Taiwan         mobile   \n",
       "2          Taiwan         mobile   \n",
       "\n",
       "                                                     x  \n",
       "0  {'country_deviceCategory': 'United Kingdom_mobile'}  \n",
       "1          {'country_deviceCategory': 'Taiwan_mobile'}  \n",
       "2          {'country_deviceCategory': 'Taiwan_mobile'}  "
      ]
     },
     "execution_count": 39,
     "metadata": {},
     "output_type": "execute_result"
    }
   ],
   "source": [
    "sql_featurecross = \"\"\"\n",
    "SELECT\n",
    "    country,\n",
    "    deviceCategory,\n",
    "    ML.FEATURE_CROSS(STRUCT(country, deviceCategory), \n",
    "                    2) AS x\n",
    "FROM\n",
    "    kaggleworkshops.google_analytics_sample_eu.train\n",
    "LIMIT 3\n",
    "\"\"\"\n",
    "\n",
    "bq_query(sql_featurecross)"
   ]
  },
  {
   "cell_type": "markdown",
   "metadata": {},
   "source": [
    "<a id=\"featselection\"></a>\n",
    "<hr>"
   ]
  },
  {
   "cell_type": "markdown",
   "metadata": {},
   "source": [
    "## Feature Selection"
   ]
  },
  {
   "cell_type": "markdown",
   "metadata": {},
   "source": [
    "<a id=\"featimportance\"></a>"
   ]
  },
  {
   "cell_type": "markdown",
   "metadata": {},
   "source": [
    "### ML.FEATURE_IMPORTANCE for Boosted Tree models"
   ]
  },
  {
   "cell_type": "markdown",
   "metadata": {},
   "source": [
    "_Note: This function is only available for Boosted Tree models (`boosted_tree_classifier` or `boosted_tree_regressor`)._\n",
    "\n",
    "The ML.FEATURE_IMPORTANCE function allows you to see feature importance score, which indicates how useful or valuable each feature was in the construction of the Boosted Tree model during training. [ML.FEATURE_IMPORTANCE Documentation](https://cloud.google.com/bigquery-ml/docs/reference/standard-sql/bigqueryml-syntax-importance#mlfeature_importance_function)"
   ]
  },
  {
   "cell_type": "code",
   "execution_count": null,
   "metadata": {},
   "outputs": [],
   "source": [
    "MODEL_NAME = \"MY_BOOSTED_TREE_MODEL_NAME\"\n",
    "\n",
    "sql_featureimportance = f\"\"\"\n",
    "SELECT\n",
    "    *\n",
    "FROM\n",
    "    ML.FEATURE_IMPORTANCE(MODEL bqmlretail.{MODEL_NAME})\n",
    "\"\"\"\n",
    "\n",
    "bq_query(sql_featureimportance)"
   ]
  },
  {
   "cell_type": "code",
   "execution_count": null,
   "metadata": {},
   "outputs": [],
   "source": []
  }
 ],
 "metadata": {
  "environment": {
   "kernel": "python3",
   "name": "tf2-gpu.2-6.m82",
   "type": "gcloud",
   "uri": "gcr.io/deeplearning-platform-release/tf2-gpu.2-6:m82"
  },
  "kernelspec": {
   "display_name": "Python 3",
   "language": "python",
   "name": "python3"
  },
  "language_info": {
   "codemirror_mode": {
    "name": "ipython",
    "version": 3
   },
   "file_extension": ".py",
   "mimetype": "text/x-python",
   "name": "python",
   "nbconvert_exporter": "python",
   "pygments_lexer": "ipython3",
   "version": "3.7.10"
  },
  "toc-autonumbering": false,
  "toc-showcode": false,
  "toc-showmarkdowntxt": false,
  "toc-showtags": false
 },
 "nbformat": 4,
 "nbformat_minor": 4
}
