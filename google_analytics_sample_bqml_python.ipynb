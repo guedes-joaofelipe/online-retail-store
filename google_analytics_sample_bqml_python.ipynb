{
 "cells": [
  {
   "cell_type": "code",
   "execution_count": null,
   "metadata": {},
   "outputs": [],
   "source": [
    "# Copyright 2020 Google LLC\n",
    "#\n",
    "# Licensed under the Apache License, Version 2.0 (the \"License\");\n",
    "# you may not use this file except in compliance with the License.\n",
    "# You may obtain a copy of the License at\n",
    "#\n",
    "#     https://www.apache.org/licenses/LICENSE-2.0\n",
    "#\n",
    "# Unless required by applicable law or agreed to in writing, software\n",
    "# distributed under the License is distributed on an \"AS IS\" BASIS,\n",
    "# WITHOUT WARRANTIES OR CONDITIONS OF ANY KIND, either express or implied.\n",
    "# See the License for the specific language governing permissions and\n",
    "# limitations under the License."
   ]
  },
  {
   "cell_type": "markdown",
   "metadata": {},
   "source": [
    "# Kaggle Workshops Starter Notebook [Python version]\n",
    "## Online Retail Store: Predicting Visitor Behaviour "
   ]
  },
  {
   "cell_type": "markdown",
   "metadata": {},
   "source": [
    "<table align=\"left\">\n",
    "  <td>\n",
    "    <a href=\"https://console.cloud.google.com/ai-platform/notebooks/deploy-notebook?name=Online%20Retail%20Store%3A%20Predicting%20Visitor%20Behaviour%20-%20Starter%20Notebook%20%5BPython%5D&download_url=https%3A%2F%2Fstorage.googleapis.com%2Fstarter_notebooks%2Fgoogle_analytics_sample_bqml_python.ipynb&url=https%3A%2F%2Fgist.github.com%2Fpolong-lin%2F51bb01bac82513294e10fb9856c4fdb0\">\n",
    "      <img src=\"https://cloud.google.com/images/products/ai/ai-solutions-icon.svg\" alt=\"AI Platform Notebooks\">Run on AI Platform Notebooks</a>\n",
    "  </td>\n",
    "</table>"
   ]
  },
  {
   "cell_type": "markdown",
   "metadata": {},
   "source": [
    "- [Setup BigQuery in Jupyter](#setup)\n",
    "- [BigQuery ML basics](#basics)\n",
    "  - [Select BigQuery data from Python](#select)\n",
    "  - [Train a BigQuery ML model](#train)\n",
    "  - [Check models currently being trained on BigQuery](#currentlytraining)\n",
    "  - [Check if a model has finished training](#finishedtraining)\n",
    "  - [Evaluate a BigQuery ML model](#evaluate)\n",
    "  - [Compare multiple models](#compare)\n",
    "  - [ML.FEATURE_INFO to check input feature information](#featinfo)\n",
    "  - [Make predictions using BigQuery ML](#predictions)\n",
    "  - [Export predictions as a CSV file](#exportcsv)\n",
    "- [Feature engineering](#feateng)\n",
    "  - [EXTRACT: Extract dates and time](#extractdates)\n",
    "  - [REGEXP_EXTRACT_ALL: Extract words from a STRING column](#extractwords)\n",
    "  - [ML.QUANTILE_BUCKETIZE: Bucketize your numeric feature into bins](#bucketize)\n",
    "  - [ML.POLYNOMIAL_EXPAND: Combine numeric features](#polynomialexpand)\n",
    "  - [ML.FEATURE_CROSS: Combine categorical features](#featurecross)\n",
    "- [Feature selection](#featselection)\n",
    "  - [ML.FEATURE_IMPORTANCE for Boosted Tree models](#featimportance)"
   ]
  },
  {
   "cell_type": "markdown",
   "metadata": {},
   "source": [
    "<a id=\"setup\"></a>"
   ]
  },
  {
   "cell_type": "markdown",
   "metadata": {},
   "source": [
    "### Setup BigQuery in Jupyter "
   ]
  },
  {
   "cell_type": "markdown",
   "metadata": {},
   "source": [
    "#### Set parameters"
   ]
  },
  {
   "cell_type": "code",
   "execution_count": 39,
   "metadata": {},
   "outputs": [],
   "source": [
    "#Check current GCP project ID\n",
    "# !gcloud config get-value project"
   ]
  },
  {
   "cell_type": "code",
   "execution_count": 1,
   "metadata": {},
   "outputs": [],
   "source": [
    "PROJECT_ID = \"globohack-kaggle21-6923\" #REPLACE with project ID\n",
    "DATASET_ID = \"bqmlretail\"\n",
    "LOCATION = \"EU\""
   ]
  },
  {
   "cell_type": "markdown",
   "metadata": {},
   "source": [
    "#### Create dataset if it does not yet exist"
   ]
  },
  {
   "cell_type": "code",
   "execution_count": 4,
   "metadata": {},
   "outputs": [
    {
     "name": "stdout",
     "output_type": "stream",
     "text": [
      "Dataset 'globohack-kaggle21-6923:bqmlretail' successfully created.\n"
     ]
    }
   ],
   "source": [
    "!bq mk --location=$LOCATION $DATASET_ID"
   ]
  },
  {
   "cell_type": "markdown",
   "metadata": {},
   "source": [
    "#### Required libraries"
   ]
  },
  {
   "cell_type": "code",
   "execution_count": 89,
   "metadata": {},
   "outputs": [],
   "source": [
    "#!pip install google-cloud-bigquery --upgrade --quiet\n",
    "# !pip install pandas-profiling\n",
    "#!pip install pycountry-convert"
   ]
  },
  {
   "cell_type": "code",
   "execution_count": 41,
   "metadata": {},
   "outputs": [
    {
     "name": "stdout",
     "output_type": "stream",
     "text": [
      "Done.\n"
     ]
    }
   ],
   "source": [
    "from google.cloud import bigquery\n",
    "from google.api_core.exceptions import BadRequest\n",
    "import time\n",
    "import pandas as pd\n",
    "import numpy as np\n",
    "import matplotlib.pyplot as plt\n",
    "import seaborn as sns\n",
    "import pycountry_convert as pc\n",
    "\n",
    "pd.set_option('display.max_columns', None)\n",
    "pd.set_option('display.max_colwidth', 200)\n",
    "\n",
    "# Construct a BigQuery client object.\n",
    "client = bigquery.Client()\n",
    "\n",
    "def bq_query(sql, async_flag=False):\n",
    "    \"\"\"\n",
    "    If `async_flag` set to False (default), \n",
    "        returns the query results for `sql` as a Pandas DataFrame, \n",
    "    Else, submits query asynchronously and returns nothing.\n",
    "    \"\"\"\n",
    "    \n",
    "    # Try dry run before executing query to catch any errors\n",
    "    try:\n",
    "        job_config = bigquery.QueryJobConfig(dry_run=True, use_query_cache=False)\n",
    "        dry_run_job = client.query(sql, job_config=job_config)\n",
    "    except BadRequest as err:\n",
    "        print(err)\n",
    "        return\n",
    "        \n",
    "    job_config = bigquery.QueryJobConfig()\n",
    "    df = client.query(sql, job_config=job_config)\n",
    "    \n",
    "    if async_flag:\n",
    "        return f\"Query sent asynchronously for job id: {df.job_id}\"\n",
    "    else:\n",
    "        df = df.result() #wait for query to finish running\n",
    "        return df.to_dataframe()\n",
    "    \n",
    "    \n",
    "print(\"Done.\")"
   ]
  },
  {
   "cell_type": "markdown",
   "metadata": {},
   "source": [
    "<a id=\"basics\"></a>"
   ]
  },
  {
   "cell_type": "markdown",
   "metadata": {},
   "source": [
    "## BigQuery ML basics"
   ]
  },
  {
   "cell_type": "markdown",
   "metadata": {},
   "source": [
    "<a id=\"select\"></a>"
   ]
  },
  {
   "cell_type": "markdown",
   "metadata": {},
   "source": [
    "#### Select BigQuery data from Python"
   ]
  },
  {
   "cell_type": "code",
   "execution_count": 103,
   "metadata": {},
   "outputs": [
    {
     "data": {
      "text/html": [
       "<div>\n",
       "<style scoped>\n",
       "    .dataframe tbody tr th:only-of-type {\n",
       "        vertical-align: middle;\n",
       "    }\n",
       "\n",
       "    .dataframe tbody tr th {\n",
       "        vertical-align: top;\n",
       "    }\n",
       "\n",
       "    .dataframe thead th {\n",
       "        text-align: right;\n",
       "    }\n",
       "</style>\n",
       "<table border=\"1\" class=\"dataframe\">\n",
       "  <thead>\n",
       "    <tr style=\"text-align: right;\">\n",
       "      <th></th>\n",
       "      <th>fullVisitorId</th>\n",
       "      <th>deviceCategory</th>\n",
       "      <th>operatingSystem</th>\n",
       "      <th>browser</th>\n",
       "      <th>country</th>\n",
       "      <th>city</th>\n",
       "      <th>trafficSource</th>\n",
       "      <th>trafficMedium</th>\n",
       "      <th>trafficCampaign</th>\n",
       "      <th>isFirstVisit</th>\n",
       "      <th>totalPageviews</th>\n",
       "      <th>totalTimeOnSite</th>\n",
       "      <th>productPagesViewed</th>\n",
       "      <th>addedToCart</th>\n",
       "      <th>isMobile</th>\n",
       "      <th>hour</th>\n",
       "      <th>day</th>\n",
       "      <th>isWeekend</th>\n",
       "    </tr>\n",
       "  </thead>\n",
       "  <tbody>\n",
       "    <tr>\n",
       "      <th>243292</th>\n",
       "      <td>4757286408362678255</td>\n",
       "      <td>desktop</td>\n",
       "      <td>Windows</td>\n",
       "      <td>Chrome</td>\n",
       "      <td>United States</td>\n",
       "      <td>Seattle</td>\n",
       "      <td>uweoconnect.extn.washington.edu</td>\n",
       "      <td>referral</td>\n",
       "      <td>(not set)</td>\n",
       "      <td>1</td>\n",
       "      <td>1</td>\n",
       "      <td>0</td>\n",
       "      <td>0</td>\n",
       "      <td>0</td>\n",
       "      <td>0</td>\n",
       "      <td>2</td>\n",
       "      <td>19</td>\n",
       "      <td>0</td>\n",
       "    </tr>\n",
       "    <tr>\n",
       "      <th>243293</th>\n",
       "      <td>0112313025021493147</td>\n",
       "      <td>desktop</td>\n",
       "      <td>Windows</td>\n",
       "      <td>Chrome</td>\n",
       "      <td>United States</td>\n",
       "      <td>not available in demo dataset</td>\n",
       "      <td>uweoconnect.extn.washington.edu</td>\n",
       "      <td>referral</td>\n",
       "      <td>(not set)</td>\n",
       "      <td>1</td>\n",
       "      <td>1</td>\n",
       "      <td>0</td>\n",
       "      <td>0</td>\n",
       "      <td>0</td>\n",
       "      <td>0</td>\n",
       "      <td>3</td>\n",
       "      <td>28</td>\n",
       "      <td>0</td>\n",
       "    </tr>\n",
       "    <tr>\n",
       "      <th>243294</th>\n",
       "      <td>5128790713477036814</td>\n",
       "      <td>desktop</td>\n",
       "      <td>Macintosh</td>\n",
       "      <td>Chrome</td>\n",
       "      <td>United States</td>\n",
       "      <td>Seattle</td>\n",
       "      <td>uweoconnect.extn.washington.edu</td>\n",
       "      <td>referral</td>\n",
       "      <td>(not set)</td>\n",
       "      <td>1</td>\n",
       "      <td>1</td>\n",
       "      <td>0</td>\n",
       "      <td>0</td>\n",
       "      <td>0</td>\n",
       "      <td>0</td>\n",
       "      <td>2</td>\n",
       "      <td>19</td>\n",
       "      <td>0</td>\n",
       "    </tr>\n",
       "    <tr>\n",
       "      <th>243295</th>\n",
       "      <td>5202168656086679244</td>\n",
       "      <td>desktop</td>\n",
       "      <td>Macintosh</td>\n",
       "      <td>Chrome</td>\n",
       "      <td>United States</td>\n",
       "      <td>San Francisco</td>\n",
       "      <td>uweoconnect.extn.washington.edu</td>\n",
       "      <td>referral</td>\n",
       "      <td>(not set)</td>\n",
       "      <td>1</td>\n",
       "      <td>2</td>\n",
       "      <td>438</td>\n",
       "      <td>0</td>\n",
       "      <td>0</td>\n",
       "      <td>0</td>\n",
       "      <td>2</td>\n",
       "      <td>19</td>\n",
       "      <td>0</td>\n",
       "    </tr>\n",
       "    <tr>\n",
       "      <th>243296</th>\n",
       "      <td>7240535066211839362</td>\n",
       "      <td>desktop</td>\n",
       "      <td>Windows</td>\n",
       "      <td>Chrome</td>\n",
       "      <td>United States</td>\n",
       "      <td>San Francisco</td>\n",
       "      <td>uweoconnect.extn.washington.edu</td>\n",
       "      <td>referral</td>\n",
       "      <td>(not set)</td>\n",
       "      <td>1</td>\n",
       "      <td>1</td>\n",
       "      <td>0</td>\n",
       "      <td>0</td>\n",
       "      <td>0</td>\n",
       "      <td>0</td>\n",
       "      <td>2</td>\n",
       "      <td>19</td>\n",
       "      <td>0</td>\n",
       "    </tr>\n",
       "  </tbody>\n",
       "</table>\n",
       "</div>"
      ],
      "text/plain": [
       "              fullVisitorId deviceCategory operatingSystem browser  \\\n",
       "243292  4757286408362678255        desktop         Windows  Chrome   \n",
       "243293  0112313025021493147        desktop         Windows  Chrome   \n",
       "243294  5128790713477036814        desktop       Macintosh  Chrome   \n",
       "243295  5202168656086679244        desktop       Macintosh  Chrome   \n",
       "243296  7240535066211839362        desktop         Windows  Chrome   \n",
       "\n",
       "              country                           city  \\\n",
       "243292  United States                        Seattle   \n",
       "243293  United States  not available in demo dataset   \n",
       "243294  United States                        Seattle   \n",
       "243295  United States                  San Francisco   \n",
       "243296  United States                  San Francisco   \n",
       "\n",
       "                          trafficSource trafficMedium trafficCampaign  \\\n",
       "243292  uweoconnect.extn.washington.edu      referral       (not set)   \n",
       "243293  uweoconnect.extn.washington.edu      referral       (not set)   \n",
       "243294  uweoconnect.extn.washington.edu      referral       (not set)   \n",
       "243295  uweoconnect.extn.washington.edu      referral       (not set)   \n",
       "243296  uweoconnect.extn.washington.edu      referral       (not set)   \n",
       "\n",
       "        isFirstVisit  totalPageviews  totalTimeOnSite  productPagesViewed  \\\n",
       "243292             1               1                0                   0   \n",
       "243293             1               1                0                   0   \n",
       "243294             1               1                0                   0   \n",
       "243295             1               2              438                   0   \n",
       "243296             1               1                0                   0   \n",
       "\n",
       "        addedToCart  isMobile  hour  day  isWeekend  \n",
       "243292            0         0     2   19          0  \n",
       "243293            0         0     3   28          0  \n",
       "243294            0         0     2   19          0  \n",
       "243295            0         0     2   19          0  \n",
       "243296            0         0     2   19          0  "
      ]
     },
     "execution_count": 103,
     "metadata": {},
     "output_type": "execute_result"
    }
   ],
   "source": [
    "sql_select = \"\"\"\n",
    "SELECT \n",
    "  t.* EXCEPT (totalHits, totalVisits, visitStartTime, date, isMobile, browser, city), \n",
    "  CAST(isMobile AS INT64) AS isMobile,\n",
    "  EXTRACT(HOUR FROM TIMESTAMP_MILLIS(visitStartTime*1000)) AS hour,\n",
    "  EXTRACT(DAY FROM TIMESTAMP_MILLIS(visitStartTime*1000)) AS day,\n",
    "  IF (EXTRACT(DAYOFWEEK FROM TIMESTAMP_MILLIS(visitStartTime*1000)) IN (1,7), 1, 0) AS isWeekend\n",
    "FROM\n",
    "  kaggleworkshops.google_analytics_sample_eu.train t\n",
    "WHERE date BETWEEN TIMESTAMP(\"2016-08-01\")\n",
    "  AND TIMESTAMP(\"2016-10-31\")\n",
    "\"\"\"\n",
    "\n",
    "df = bq_query(sql = sql_select)\n",
    "\n",
    "df.tail()"
   ]
  },
  {
   "cell_type": "code",
   "execution_count": 104,
   "metadata": {},
   "outputs": [
    {
     "data": {
      "text/plain": [
       "fullVisitorId         object\n",
       "deviceCategory        object\n",
       "operatingSystem       object\n",
       "browser               object\n",
       "country               object\n",
       "city                  object\n",
       "trafficSource         object\n",
       "trafficMedium         object\n",
       "trafficCampaign       object\n",
       "isFirstVisit           int64\n",
       "totalPageviews         int64\n",
       "totalTimeOnSite        int64\n",
       "productPagesViewed     int64\n",
       "addedToCart            int64\n",
       "isMobile               int64\n",
       "hour                   int64\n",
       "day                    int64\n",
       "isWeekend              int64\n",
       "dtype: object"
      ]
     },
     "execution_count": 104,
     "metadata": {},
     "output_type": "execute_result"
    }
   ],
   "source": [
    "df.dtypes"
   ]
  },
  {
   "cell_type": "markdown",
   "metadata": {},
   "source": [
    "### Exploratory Data Analysis"
   ]
  },
  {
   "cell_type": "code",
   "execution_count": 90,
   "metadata": {},
   "outputs": [],
   "source": [
    "# %%time\n",
    "# from pandas_profiling import ProfileReport\n",
    "# profile = ProfileReport(df, title=\"Pandas Profiling Report\", explorative=True)\n",
    "# profile"
   ]
  },
  {
   "cell_type": "code",
   "execution_count": 5,
   "metadata": {},
   "outputs": [
    {
     "data": {
      "text/plain": [
       "Index(['fullVisitorId', 'deviceCategory', 'isMobile', 'browser', 'country',\n",
       "       'city', 'trafficSource', 'trafficMedium', 'trafficCampaign',\n",
       "       'isFirstVisit', 'totalVisits', 'totalPageviews', 'totalTimeOnSite',\n",
       "       'productPagesViewed', 'addedToCart', 'hour', 'day', 'isWeekend',\n",
       "       'operatingSystem'],\n",
       "      dtype='object')"
      ]
     },
     "execution_count": 5,
     "metadata": {},
     "output_type": "execute_result"
    }
   ],
   "source": [
    "df.columns\n"
   ]
  },
  {
   "cell_type": "code",
   "execution_count": 52,
   "metadata": {},
   "outputs": [],
   "source": [
    "@np.vectorize\n",
    "def get_continent_code(country):\n",
    "    \n",
    "    try:\n",
    "        country_code = pc.country_name_to_country_alpha2(country, cn_name_format=\"default\")\n",
    "\n",
    "        return pc.country_alpha2_to_continent_code(country_code)\n",
    "    except:\n",
    "        return 'Other'\n",
    "\n",
    "\n",
    "# get_continent_code(df.country.unique())"
   ]
  },
  {
   "cell_type": "code",
   "execution_count": null,
   "metadata": {},
   "outputs": [],
   "source": []
  },
  {
   "cell_type": "code",
   "execution_count": 19,
   "metadata": {},
   "outputs": [
    {
     "data": {
      "text/plain": [
       "<BarContainer object of 2 artists>"
      ]
     },
     "execution_count": 19,
     "metadata": {},
     "output_type": "execute_result"
    },
    {
     "data": {
      "image/png": "[encoded data removed]",
      "text/plain": [
       "<Figure size 1152x576 with 1 Axes>"
      ]
     },
     "metadata": {
      "needs_background": "light"
     },
     "output_type": "display_data"
    }
   ],
   "source": [
    "fig, ax = plt.subplots(figsize=(16,8))\n",
    "ax.bar(['Distinct Visitors', 'Visitors'], [df.fullVisitorId.nunique(), df.shape[0]])"
   ]
  },
  {
   "cell_type": "code",
   "execution_count": 65,
   "metadata": {},
   "outputs": [
    {
     "data": {
      "image/png": "[encoded data removed]",
      "text/plain": [
       "<Figure size 1152x576 with 1 Axes>"
      ]
     },
     "metadata": {
      "needs_background": "light"
     },
     "output_type": "display_data"
    }
   ],
   "source": [
    "def plot_categorical_variable(column: str, figsize=(16,8)):\n",
    "    fig, ax = plt.subplots(figsize=figsize)\n",
    "    df_plot = pd.DataFrame(df.groupby(column)['fullVisitorId'].count()).reset_index(drop=False)\n",
    "    sns.barplot(data=df_plot, x=\"fullVisitorId\", y=column, ax=ax)\n",
    "    fig.savefig(f'./plots/{column}.jpeg', bbox_inches='tight')\n",
    "    \n",
    "column = 'operatingSystem'\n",
    "plot_categorical_variable(column)\n",
    "\n"
   ]
  },
  {
   "cell_type": "code",
   "execution_count": 97,
   "metadata": {},
   "outputs": [],
   "source": [
    "@np.vectorize\n",
    "def binarize_time_on_site(time, threshold=5):\n",
    "    return 1 if time > 5 else 0\n",
    "\n",
    "@np.vectorize\n",
    "def binarize_product_pages_viewed(pv):\n",
    "    if pv <= 1:\n",
    "        return 1\n",
    "    elif pv > 1 and pv <= 3:\n",
    "        return 2\n",
    "    elif pv > 3:\n",
    "        return 5\n",
    "    return 0\n",
    "\n",
    "@np.vectorize\n",
    "def get_cyclic_day(day):\n",
    "    return np.sin(2 * np.pi * (day-1) / 30)\n",
    "\n",
    "@np.vectorize\n",
    "def get_cyclic_hour(hour):\n",
    "    return np.sin(2 * np.pi * (hour) / 24)\n"
   ]
  },
  {
   "cell_type": "code",
   "execution_count": 108,
   "metadata": {},
   "outputs": [
    {
     "data": {
      "text/plain": [
       "array([-1, -1,  1,  1, -1, -1, -1,  0, -1, -1, -1, -1, -1, -1, -1])"
      ]
     },
     "execution_count": 108,
     "metadata": {},
     "output_type": "execute_result"
    }
   ],
   "source": [
    "@np.vectorize\n",
    "def binarize_os_category(os):\n",
    "    if os in ['Macintosh', 'iOS']:\n",
    "        return 1\n",
    "    elif os in ['Android', 'Chrome OS', 'Linux', 'Windows', 'BlackBerry', 'Firefox OS', 'FreeBSD', 'Nintendo Wii', 'Nokia', 'Samsung', 'Windows Phone', 'Xbox']:\n",
    "        return -1\n",
    "    return 0\n",
    "\n",
    "binarize_os_category(df.operatingSystem.unique())"
   ]
  },
  {
   "cell_type": "code",
   "execution_count": 94,
   "metadata": {
    "tags": []
   },
   "outputs": [
    {
     "name": "stderr",
     "output_type": "stream",
     "text": [
      "/opt/conda/lib/python3.7/site-packages/seaborn/distributions.py:2619: FutureWarning: `distplot` is a deprecated function and will be removed in a future version. Please adapt your code to use either `displot` (a figure-level function with similar flexibility) or `histplot` (an axes-level function for histograms).\n",
      "  warnings.warn(msg, FutureWarning)\n"
     ]
    },
    {
     "data": {
      "image/png": "[encoded data removed]",
      "text/plain": [
       "<Figure size 1152x576 with 1 Axes>"
      ]
     },
     "metadata": {
      "needs_background": "light"
     },
     "output_type": "display_data"
    }
   ],
   "source": [
    "def plot_numerical_variable(column:str, figsize=(16,8), log=False, max_value=None):\n",
    "    fig, ax = plt.subplots(figsize=figsize)\n",
    "    df_plot = df.copy()\n",
    "    if max_value:\n",
    "        df_plot = df_plot.query(f'{column} <= {max_value}')\n",
    "    \n",
    "    if log:\n",
    "        sns.distplot(np.log(1+df_plot[column]), ax=ax)\n",
    "    else:\n",
    "        sns.distplot(df_plot[column], ax=ax)\n",
    "    \n",
    "plot_numerical_variable('productPagesViewed', log=False, max_value = 20)"
   ]
  },
  {
   "cell_type": "markdown",
   "metadata": {},
   "source": [
    "## Preprocessing\n",
    "\n",
    "### Categorical\n",
    "- `deviceCategory`: oneHotEncoding\n",
    "- `isMobile`: cast to integer\n",
    "- `browser`: ignored (device category is enough)\n",
    "- `country`: get_continent_code and oneHotEncoding\n",
    "- `city`: ignored\n",
    "- `trafficSource`: ignored (?)\n",
    "- `trafficMedium`: ignored (?)\n",
    "- `trafficCampaign`: ignored (?)\n",
    "- `operatingSystem`: binarize_os_category\n",
    "\n",
    "### Numerical\n",
    "- `isFirstVisit`: leave as is\n",
    "- `totalVisits`: ignored\n",
    "- `totalPageviews`: log (but we could binarize as well (like light/medium/heavy user)\n",
    "- `totalTimeOnSite`: threshold on 5\n",
    "- `productPagesViewed`: binarize_product_pages_viewed\n",
    "- `addedToCart`\n",
    "- `hour`: sine\n",
    "- `day`: sine\n",
    "- `isWeekend`: leave as is\n"
   ]
  },
  {
   "cell_type": "code",
   "execution_count": 106,
   "metadata": {},
   "outputs": [],
   "source": [
    "drop_columns = []"
   ]
  },
  {
   "cell_type": "code",
   "execution_count": 107,
   "metadata": {},
   "outputs": [],
   "source": [
    "df['country_continent_code'] = df['country'].apply(get_continent_code)\n",
    "drop_columns.append('country')\n",
    "# One Hot Encoding\n",
    "\n"
   ]
  },
  {
   "cell_type": "code",
   "execution_count": 109,
   "metadata": {},
   "outputs": [],
   "source": [
    "df['operating_system_bin'] = df['operatingSystem'].apply(binarize_os_category)"
   ]
  },
  {
   "cell_type": "code",
   "execution_count": 111,
   "metadata": {},
   "outputs": [],
   "source": [
    "df['total_pageviews_log'] = np.log(1+df['totalPageviews'])\n",
    "df['time_on_site_bin'] = df['totalTimeOnSite'].apply(binarize_time_on_site)\n",
    "\n",
    "drop_columns.append('totalPageviews')\n",
    "drop_columns.append('totalTimeOnSite')"
   ]
  },
  {
   "cell_type": "code",
   "execution_count": 83,
   "metadata": {},
   "outputs": [
    {
     "data": {
      "text/html": [
       "<div>\n",
       "<style scoped>\n",
       "    .dataframe tbody tr th:only-of-type {\n",
       "        vertical-align: middle;\n",
       "    }\n",
       "\n",
       "    .dataframe tbody tr th {\n",
       "        vertical-align: top;\n",
       "    }\n",
       "\n",
       "    .dataframe thead th {\n",
       "        text-align: right;\n",
       "    }\n",
       "</style>\n",
       "<table border=\"1\" class=\"dataframe\">\n",
       "  <thead>\n",
       "    <tr style=\"text-align: right;\">\n",
       "      <th>addedToCart</th>\n",
       "      <th>0</th>\n",
       "      <th>1</th>\n",
       "      <th>percent</th>\n",
       "    </tr>\n",
       "    <tr>\n",
       "      <th>trafficMedium</th>\n",
       "      <th></th>\n",
       "      <th></th>\n",
       "      <th></th>\n",
       "    </tr>\n",
       "  </thead>\n",
       "  <tbody>\n",
       "    <tr>\n",
       "      <th>(none)</th>\n",
       "      <td>16058.0</td>\n",
       "      <td>2742.0</td>\n",
       "      <td>0.145851</td>\n",
       "    </tr>\n",
       "    <tr>\n",
       "      <th>(not set)</th>\n",
       "      <td>2.0</td>\n",
       "      <td>NaN</td>\n",
       "      <td>NaN</td>\n",
       "    </tr>\n",
       "    <tr>\n",
       "      <th>affiliate</th>\n",
       "      <td>1752.0</td>\n",
       "      <td>157.0</td>\n",
       "      <td>0.082242</td>\n",
       "    </tr>\n",
       "    <tr>\n",
       "      <th>cpc</th>\n",
       "      <td>1331.0</td>\n",
       "      <td>136.0</td>\n",
       "      <td>0.092706</td>\n",
       "    </tr>\n",
       "    <tr>\n",
       "      <th>cpm</th>\n",
       "      <td>394.0</td>\n",
       "      <td>55.0</td>\n",
       "      <td>0.122494</td>\n",
       "    </tr>\n",
       "    <tr>\n",
       "      <th>organic</th>\n",
       "      <td>22121.0</td>\n",
       "      <td>2022.0</td>\n",
       "      <td>0.083751</td>\n",
       "    </tr>\n",
       "    <tr>\n",
       "      <th>referral</th>\n",
       "      <td>27669.0</td>\n",
       "      <td>320.0</td>\n",
       "      <td>0.011433</td>\n",
       "    </tr>\n",
       "  </tbody>\n",
       "</table>\n",
       "</div>"
      ],
      "text/plain": [
       "addedToCart          0       1   percent\n",
       "trafficMedium                           \n",
       "(none)         16058.0  2742.0  0.145851\n",
       "(not set)          2.0     NaN       NaN\n",
       "affiliate       1752.0   157.0  0.082242\n",
       "cpc             1331.0   136.0  0.092706\n",
       "cpm              394.0    55.0  0.122494\n",
       "organic        22121.0  2022.0  0.083751\n",
       "referral       27669.0   320.0  0.011433"
      ]
     },
     "execution_count": 83,
     "metadata": {},
     "output_type": "execute_result"
    }
   ],
   "source": [
    "def get_relation(data: pd.DataFrame(), col: str):\n",
    "    relation_df = pd.DataFrame(data\\\n",
    "        .groupby(by=[col, 'addedToCart'])\\\n",
    "        .count()['fullVisitorId']).reset_index()\\\n",
    "        .pivot(index=col, columns='addedToCart', values='fullVisitorId')\n",
    "    relation_df['percent'] = relation_df[1] / (relation_df[0]+relation_df[1])\n",
    "    return relation_df\n",
    "\n",
    "get_relation(df, 'trafficMedium')"
   ]
  },
  {
   "cell_type": "markdown",
   "metadata": {},
   "source": [
    "<a id=\"train\"></a>"
   ]
  },
  {
   "cell_type": "markdown",
   "metadata": {},
   "source": [
    "#### Train a BigQuery ML model"
   ]
  },
  {
   "cell_type": "code",
   "execution_count": 8,
   "metadata": {},
   "outputs": [
    {
     "data": {
      "text/plain": [
       "'Query sent asynchronously for job id: 6b15a614-2803-40dc-aa9f-f4cc6b5008ee'"
      ]
     },
     "execution_count": 8,
     "metadata": {},
     "output_type": "execute_result"
    }
   ],
   "source": [
    "sql_logreg_sample = \"\"\"\n",
    "CREATE OR REPLACE MODEL bqmlretail.logreg_sample\n",
    "TRANSFORM(\n",
    "  LOWER(country) country_lower,\n",
    "  totalPageviews,\n",
    "  addedToCart\n",
    ")\n",
    "OPTIONS(\n",
    "  model_type='logistic_reg', \n",
    "  INPUT_LABEL_COLS=[\"addedToCart\"]) AS\n",
    "SELECT \n",
    "  *\n",
    "FROM\n",
    "  kaggleworkshops.google_analytics_sample_eu.train\n",
    "WHERE date BETWEEN TIMESTAMP(\"2016-08-01\")\n",
    "  AND TIMESTAMP(\"2016-08-31\")\n",
    "\"\"\"\n",
    "\n",
    "#send asynchronously\n",
    "bq_query(sql = sql_logreg_sample,\n",
    "        async_flag=True)"
   ]
  },
  {
   "cell_type": "markdown",
   "metadata": {},
   "source": [
    "Other model types for classification:\n",
    " - [`logistic_reg`](https://cloud.google.com/bigquery-ml/docs/reference/standard-sql/bigqueryml-syntax-create)\n",
    " - [`boosted_tree_classifier`](https://cloud.google.com/bigquery-ml/docs/reference/standard-sql/bigqueryml-syntax-create-boosted-tree)\n",
    " - [`dnn_classifier`](https://cloud.google.com/bigquery-ml/docs/reference/standard-sql/bigqueryml-syntax-create-dnn-models)\n",
    " - [`automl_classifier`](https://cloud.google.com/bigquery-ml/docs/reference/standard-sql/bigqueryml-syntax-create-automl)"
   ]
  },
  {
   "cell_type": "markdown",
   "metadata": {},
   "source": [
    "<a id=\"currentlytraining\"></a>"
   ]
  },
  {
   "cell_type": "markdown",
   "metadata": {},
   "source": [
    "#### Check models currently being trained on BigQuery"
   ]
  },
  {
   "cell_type": "markdown",
   "metadata": {},
   "source": [
    "This will check if the models in your project are still undergoing training."
   ]
  },
  {
   "cell_type": "code",
   "execution_count": 9,
   "metadata": {},
   "outputs": [
    {
     "name": "stdout",
     "output_type": "stream",
     "text": [
      "\n",
      "SELECT\n",
      "    job_id,\n",
      "    creation_time,\n",
      "    query,\n",
      "    REGEXP_EXTRACT(query, r'bqmlretail\\.\\w+') AS modelname\n",
      "FROM `region-eu`.INFORMATION_SCHEMA.JOBS_BY_USER\n",
      "WHERE \n",
      "    REGEXP_CONTAINS(LOWER(query), 'create (or replace ){0,1}model')\n",
      "    AND NOT REGEXP_CONTAINS(LOWER(query), 'information_schema')\n",
      "    AND state != \"DONE\"\n",
      "\n",
      "1 models still currently training:\n"
     ]
    },
    {
     "data": {
      "text/html": [
       "<div>\n",
       "<style scoped>\n",
       "    .dataframe tbody tr th:only-of-type {\n",
       "        vertical-align: middle;\n",
       "    }\n",
       "\n",
       "    .dataframe tbody tr th {\n",
       "        vertical-align: top;\n",
       "    }\n",
       "\n",
       "    .dataframe thead th {\n",
       "        text-align: right;\n",
       "    }\n",
       "</style>\n",
       "<table border=\"1\" class=\"dataframe\">\n",
       "  <thead>\n",
       "    <tr style=\"text-align: right;\">\n",
       "      <th></th>\n",
       "      <th>job_id</th>\n",
       "      <th>creation_time</th>\n",
       "      <th>query</th>\n",
       "      <th>modelname</th>\n",
       "    </tr>\n",
       "  </thead>\n",
       "  <tbody>\n",
       "    <tr>\n",
       "      <th>0</th>\n",
       "      <td>6b15a614-2803-40dc-aa9f-f4cc6b5008ee</td>\n",
       "      <td>2021-11-08 15:47:40.087000+00:00</td>\n",
       "      <td>\\nCREATE OR REPLACE MODEL bqmlretail.logreg_sample\\nTRANSFORM(\\n  LOWER(country) country_lower,\\n  totalPageviews,\\n  addedToCart\\n)\\nOPTIONS(\\n  model_type='logistic_reg', \\n  INPUT_LABEL_COLS=[\"...</td>\n",
       "      <td>bqmlretail.logreg_sample</td>\n",
       "    </tr>\n",
       "  </tbody>\n",
       "</table>\n",
       "</div>"
      ],
      "text/plain": [
       "                                 job_id                    creation_time  \\\n",
       "0  6b15a614-2803-40dc-aa9f-f4cc6b5008ee 2021-11-08 15:47:40.087000+00:00   \n",
       "\n",
       "                                                                                                                                                                                                     query  \\\n",
       "0  \\nCREATE OR REPLACE MODEL bqmlretail.logreg_sample\\nTRANSFORM(\\n  LOWER(country) country_lower,\\n  totalPageviews,\\n  addedToCart\\n)\\nOPTIONS(\\n  model_type='logistic_reg', \\n  INPUT_LABEL_COLS=[\"...   \n",
       "\n",
       "                  modelname  \n",
       "0  bqmlretail.logreg_sample  "
      ]
     },
     "execution_count": 9,
     "metadata": {},
     "output_type": "execute_result"
    }
   ],
   "source": [
    "sql_currentlyrunningqueries = f\"\"\"\n",
    "SELECT\n",
    "    job_id,\n",
    "    creation_time,\n",
    "    query,\n",
    "    REGEXP_EXTRACT(query, r'{DATASET_ID}\\.\\w+') AS modelname\n",
    "FROM `region-eu`.INFORMATION_SCHEMA.JOBS_BY_USER\n",
    "WHERE \n",
    "    REGEXP_CONTAINS(LOWER(query), 'create (or replace ){{0,1}}model')\n",
    "    AND NOT REGEXP_CONTAINS(LOWER(query), 'information_schema')\n",
    "    AND state != \"DONE\"\n",
    "\"\"\"\n",
    "\n",
    "print(sql_currentlyrunningqueries)\n",
    "\n",
    "#send asynchronously\n",
    "models_still_training = bq_query(sql_currentlyrunningqueries)\n",
    "\n",
    "print(f\"{len(models_still_training)} models still currently training:\")\n",
    "models_still_training"
   ]
  },
  {
   "cell_type": "markdown",
   "metadata": {},
   "source": [
    "<a id=\"finishedtraining\"></a>"
   ]
  },
  {
   "cell_type": "markdown",
   "metadata": {},
   "source": [
    "#### Check which models have finished training"
   ]
  },
  {
   "cell_type": "code",
   "execution_count": 10,
   "metadata": {},
   "outputs": [
    {
     "name": "stdout",
     "output_type": "stream",
     "text": [
      "\n",
      "SELECT\n",
      "    job_id,\n",
      "    creation_time,\n",
      "    query,\n",
      "    REGEXP_EXTRACT(query, r'bqmlretail\\.\\w+') AS modelname\n",
      "FROM `region-eu`.INFORMATION_SCHEMA.JOBS_BY_USER\n",
      "WHERE \n",
      "    REGEXP_CONTAINS(LOWER(query), 'create (or replace ){0,1}model')\n",
      "    AND NOT REGEXP_CONTAINS(LOWER(query), 'information_schema')\n",
      "    AND state = \"DONE\"\n",
      "ORDER BY creation_time DESC\n",
      "\n"
     ]
    },
    {
     "data": {
      "text/html": [
       "<div>\n",
       "<style scoped>\n",
       "    .dataframe tbody tr th:only-of-type {\n",
       "        vertical-align: middle;\n",
       "    }\n",
       "\n",
       "    .dataframe tbody tr th {\n",
       "        vertical-align: top;\n",
       "    }\n",
       "\n",
       "    .dataframe thead th {\n",
       "        text-align: right;\n",
       "    }\n",
       "</style>\n",
       "<table border=\"1\" class=\"dataframe\">\n",
       "  <thead>\n",
       "    <tr style=\"text-align: right;\">\n",
       "      <th></th>\n",
       "      <th>job_id</th>\n",
       "      <th>creation_time</th>\n",
       "      <th>query</th>\n",
       "      <th>modelname</th>\n",
       "    </tr>\n",
       "  </thead>\n",
       "  <tbody>\n",
       "    <tr>\n",
       "      <th>0</th>\n",
       "      <td>6b15a614-2803-40dc-aa9f-f4cc6b5008ee</td>\n",
       "      <td>2021-11-08 15:47:40.087000+00:00</td>\n",
       "      <td>\\nCREATE OR REPLACE MODEL bqmlretail.logreg_sample\\nTRANSFORM(\\n  LOWER(country) country_lower,\\n  totalPageviews,\\n  addedToCart\\n)\\nOPTIONS(\\n  model_type='logistic_reg', \\n  INPUT_LABEL_COLS=[\"...</td>\n",
       "      <td>bqmlretail.logreg_sample</td>\n",
       "    </tr>\n",
       "  </tbody>\n",
       "</table>\n",
       "</div>"
      ],
      "text/plain": [
       "                                 job_id                    creation_time  \\\n",
       "0  6b15a614-2803-40dc-aa9f-f4cc6b5008ee 2021-11-08 15:47:40.087000+00:00   \n",
       "\n",
       "                                                                                                                                                                                                     query  \\\n",
       "0  \\nCREATE OR REPLACE MODEL bqmlretail.logreg_sample\\nTRANSFORM(\\n  LOWER(country) country_lower,\\n  totalPageviews,\\n  addedToCart\\n)\\nOPTIONS(\\n  model_type='logistic_reg', \\n  INPUT_LABEL_COLS=[\"...   \n",
       "\n",
       "                  modelname  \n",
       "0  bqmlretail.logreg_sample  "
      ]
     },
     "execution_count": 10,
     "metadata": {},
     "output_type": "execute_result"
    }
   ],
   "source": [
    "sql_finished_queries = f\"\"\"\n",
    "SELECT\n",
    "    job_id,\n",
    "    creation_time,\n",
    "    query,\n",
    "    REGEXP_EXTRACT(query, r'{DATASET_ID}\\.\\w+') AS modelname\n",
    "FROM `region-eu`.INFORMATION_SCHEMA.JOBS_BY_USER\n",
    "WHERE \n",
    "    REGEXP_CONTAINS(LOWER(query), 'create (or replace ){{0,1}}model')\n",
    "    AND NOT REGEXP_CONTAINS(LOWER(query), 'information_schema')\n",
    "    AND state = \"DONE\"\n",
    "ORDER BY creation_time DESC\n",
    "\"\"\"\n",
    "\n",
    "print(sql_finished_queries)\n",
    "\n",
    "finished_models = bq_query(sql_finished_queries)\n",
    "finished_models.head()"
   ]
  },
  {
   "cell_type": "markdown",
   "metadata": {},
   "source": [
    "<a id=\"evaluate\"></a>"
   ]
  },
  {
   "cell_type": "markdown",
   "metadata": {},
   "source": [
    "#### Evaluate a BigQuery ML model"
   ]
  },
  {
   "cell_type": "code",
   "execution_count": 11,
   "metadata": {},
   "outputs": [
    {
     "name": "stdout",
     "output_type": "stream",
     "text": [
      "\n",
      "SELECT \n",
      "  *\n",
      "FROM\n",
      "  ML.EVALUATE(\n",
      "      MODEL bqmlretail.logreg_sample)\n",
      "\n"
     ]
    },
    {
     "data": {
      "text/html": [
       "<div>\n",
       "<style scoped>\n",
       "    .dataframe tbody tr th:only-of-type {\n",
       "        vertical-align: middle;\n",
       "    }\n",
       "\n",
       "    .dataframe tbody tr th {\n",
       "        vertical-align: top;\n",
       "    }\n",
       "\n",
       "    .dataframe thead th {\n",
       "        text-align: right;\n",
       "    }\n",
       "</style>\n",
       "<table border=\"1\" class=\"dataframe\">\n",
       "  <thead>\n",
       "    <tr style=\"text-align: right;\">\n",
       "      <th></th>\n",
       "      <th>precision</th>\n",
       "      <th>recall</th>\n",
       "      <th>accuracy</th>\n",
       "      <th>f1_score</th>\n",
       "      <th>log_loss</th>\n",
       "      <th>roc_auc</th>\n",
       "    </tr>\n",
       "  </thead>\n",
       "  <tbody>\n",
       "    <tr>\n",
       "      <th>0</th>\n",
       "      <td>0.74124</td>\n",
       "      <td>0.37112</td>\n",
       "      <td>0.943478</td>\n",
       "      <td>0.494604</td>\n",
       "      <td>0.162859</td>\n",
       "      <td>0.932254</td>\n",
       "    </tr>\n",
       "  </tbody>\n",
       "</table>\n",
       "</div>"
      ],
      "text/plain": [
       "   precision   recall  accuracy  f1_score  log_loss   roc_auc\n",
       "0    0.74124  0.37112  0.943478  0.494604  0.162859  0.932254"
      ]
     },
     "execution_count": 11,
     "metadata": {},
     "output_type": "execute_result"
    }
   ],
   "source": [
    "MODEL_NAME = \"logreg_sample\"\n",
    "\n",
    "sql_logreg_sample = f\"\"\"\n",
    "SELECT \n",
    "  *\n",
    "FROM\n",
    "  ML.EVALUATE(\n",
    "      MODEL {DATASET_ID}.{MODEL_NAME})\n",
    "\"\"\"\n",
    "\n",
    "print(sql_logreg_sample)\n",
    "\n",
    "bq_query(sql = sql_logreg_sample)"
   ]
  },
  {
   "cell_type": "markdown",
   "metadata": {},
   "source": [
    "<a id=\"compare\"></a>"
   ]
  },
  {
   "cell_type": "markdown",
   "metadata": {},
   "source": [
    "### Compare multiple models"
   ]
  },
  {
   "cell_type": "code",
   "execution_count": 12,
   "metadata": {},
   "outputs": [
    {
     "name": "stdout",
     "output_type": "stream",
     "text": [
      "SELECT \n",
      "  'logreg_sample' as modelname, \n",
      "  * \n",
      "FROM \n",
      "  ML.EVALUATE(MODEL bqmlretail.logreg_sample)\n",
      "\n",
      "UNION ALL\n",
      "\n",
      "SELECT \n",
      "  'logreg_sample' as modelname, \n",
      "  * \n",
      "FROM \n",
      "  ML.EVALUATE(MODEL bqmlretail.logreg_sample)\n",
      "\n",
      "UNION ALL\n",
      "\n",
      "SELECT \n",
      "  'logreg_sample' as modelname, \n",
      "  * \n",
      "FROM \n",
      "  ML.EVALUATE(MODEL bqmlretail.logreg_sample)\n"
     ]
    },
    {
     "data": {
      "text/html": [
       "<div>\n",
       "<style scoped>\n",
       "    .dataframe tbody tr th:only-of-type {\n",
       "        vertical-align: middle;\n",
       "    }\n",
       "\n",
       "    .dataframe tbody tr th {\n",
       "        vertical-align: top;\n",
       "    }\n",
       "\n",
       "    .dataframe thead th {\n",
       "        text-align: right;\n",
       "    }\n",
       "</style>\n",
       "<table border=\"1\" class=\"dataframe\">\n",
       "  <thead>\n",
       "    <tr style=\"text-align: right;\">\n",
       "      <th></th>\n",
       "      <th>modelname</th>\n",
       "      <th>precision</th>\n",
       "      <th>recall</th>\n",
       "      <th>accuracy</th>\n",
       "      <th>f1_score</th>\n",
       "      <th>log_loss</th>\n",
       "      <th>roc_auc</th>\n",
       "    </tr>\n",
       "  </thead>\n",
       "  <tbody>\n",
       "    <tr>\n",
       "      <th>0</th>\n",
       "      <td>logreg_sample</td>\n",
       "      <td>0.74124</td>\n",
       "      <td>0.37112</td>\n",
       "      <td>0.943478</td>\n",
       "      <td>0.494604</td>\n",
       "      <td>0.162859</td>\n",
       "      <td>0.932254</td>\n",
       "    </tr>\n",
       "    <tr>\n",
       "      <th>1</th>\n",
       "      <td>logreg_sample</td>\n",
       "      <td>0.74124</td>\n",
       "      <td>0.37112</td>\n",
       "      <td>0.943478</td>\n",
       "      <td>0.494604</td>\n",
       "      <td>0.162859</td>\n",
       "      <td>0.932254</td>\n",
       "    </tr>\n",
       "    <tr>\n",
       "      <th>2</th>\n",
       "      <td>logreg_sample</td>\n",
       "      <td>0.74124</td>\n",
       "      <td>0.37112</td>\n",
       "      <td>0.943478</td>\n",
       "      <td>0.494604</td>\n",
       "      <td>0.162859</td>\n",
       "      <td>0.932254</td>\n",
       "    </tr>\n",
       "  </tbody>\n",
       "</table>\n",
       "</div>"
      ],
      "text/plain": [
       "       modelname  precision   recall  accuracy  f1_score  log_loss   roc_auc\n",
       "0  logreg_sample    0.74124  0.37112  0.943478  0.494604  0.162859  0.932254\n",
       "1  logreg_sample    0.74124  0.37112  0.943478  0.494604  0.162859  0.932254\n",
       "2  logreg_sample    0.74124  0.37112  0.943478  0.494604  0.162859  0.932254"
      ]
     },
     "execution_count": 12,
     "metadata": {},
     "output_type": "execute_result"
    }
   ],
   "source": [
    "MODEL_LIST = [\"logreg_sample\", \n",
    "              \"logreg_sample\", \n",
    "              \"logreg_sample\"] #change or add models here\n",
    "\n",
    "sql_modeleval_list = [f\"SELECT \\n  '{modelname}' as modelname, \\n  * \\nFROM \\n  ML.EVALUATE(MODEL {DATASET_ID}.{modelname})\"\n",
    "                      for modelname \n",
    "                      in MODEL_LIST]\n",
    "\n",
    "sql_compare_evaluation = \"\\n\\nUNION ALL\\n\\n\".join(sql_modeleval_list)\n",
    "\n",
    "print(sql_compare_evaluation)\n",
    "\n",
    "bq_query(sql_compare_evaluation)"
   ]
  },
  {
   "cell_type": "markdown",
   "metadata": {},
   "source": [
    "<a id=\"featinfo\"></a>"
   ]
  },
  {
   "cell_type": "markdown",
   "metadata": {},
   "source": [
    "### ML.FEATURE_INFO to check input feature information"
   ]
  },
  {
   "cell_type": "markdown",
   "metadata": {},
   "source": [
    "The ML.FEATURE_INFO function allows you to see information about the input features used to train a model. [ML.FEATURE_INFO Documentation](https://cloud.google.com/bigquery-ml/docs/reference/standard-sql/bigqueryml-syntax-feature)"
   ]
  },
  {
   "cell_type": "code",
   "execution_count": 13,
   "metadata": {},
   "outputs": [
    {
     "data": {
      "text/html": [
       "<div>\n",
       "<style scoped>\n",
       "    .dataframe tbody tr th:only-of-type {\n",
       "        vertical-align: middle;\n",
       "    }\n",
       "\n",
       "    .dataframe tbody tr th {\n",
       "        vertical-align: top;\n",
       "    }\n",
       "\n",
       "    .dataframe thead th {\n",
       "        text-align: right;\n",
       "    }\n",
       "</style>\n",
       "<table border=\"1\" class=\"dataframe\">\n",
       "  <thead>\n",
       "    <tr style=\"text-align: right;\">\n",
       "      <th></th>\n",
       "      <th>input</th>\n",
       "      <th>min</th>\n",
       "      <th>max</th>\n",
       "      <th>mean</th>\n",
       "      <th>median</th>\n",
       "      <th>stddev</th>\n",
       "      <th>category_count</th>\n",
       "      <th>null_count</th>\n",
       "    </tr>\n",
       "  </thead>\n",
       "  <tbody>\n",
       "    <tr>\n",
       "      <th>0</th>\n",
       "      <td>country</td>\n",
       "      <td>NaN</td>\n",
       "      <td>NaN</td>\n",
       "      <td>NaN</td>\n",
       "      <td>NaN</td>\n",
       "      <td>NaN</td>\n",
       "      <td>179.0</td>\n",
       "      <td>0</td>\n",
       "    </tr>\n",
       "    <tr>\n",
       "      <th>1</th>\n",
       "      <td>totalPageviews</td>\n",
       "      <td>0.0</td>\n",
       "      <td>469.0</td>\n",
       "      <td>4.837216</td>\n",
       "      <td>2.0</td>\n",
       "      <td>10.022497</td>\n",
       "      <td>NaN</td>\n",
       "      <td>0</td>\n",
       "    </tr>\n",
       "  </tbody>\n",
       "</table>\n",
       "</div>"
      ],
      "text/plain": [
       "            input  min    max      mean  median     stddev  category_count  \\\n",
       "0         country  NaN    NaN       NaN     NaN        NaN           179.0   \n",
       "1  totalPageviews  0.0  469.0  4.837216     2.0  10.022497             NaN   \n",
       "\n",
       "   null_count  \n",
       "0           0  \n",
       "1           0  "
      ]
     },
     "execution_count": 13,
     "metadata": {},
     "output_type": "execute_result"
    }
   ],
   "source": [
    "MODEL_NAME = \"logreg_sample\"\n",
    "\n",
    "sql_featureinfo = f\"\"\"\n",
    "SELECT\n",
    "    *\n",
    "FROM\n",
    "    ML.FEATURE_INFO(MODEL bqmlretail.{MODEL_NAME})\n",
    "\"\"\"\n",
    "\n",
    "bq_query(sql_featureinfo)"
   ]
  },
  {
   "cell_type": "markdown",
   "metadata": {},
   "source": [
    "<a id=\"predictions\"></a>"
   ]
  },
  {
   "cell_type": "markdown",
   "metadata": {},
   "source": [
    "### Make predictions using BigQuery ML"
   ]
  },
  {
   "cell_type": "code",
   "execution_count": 14,
   "metadata": {},
   "outputs": [
    {
     "name": "stdout",
     "output_type": "stream",
     "text": [
      "\n",
      "SELECT\n",
      "  sessionId, \n",
      "  prob as addedToCart\n",
      "FROM\n",
      "  ML.PREDICT(MODEL bqmlretail.logreg_sample,\n",
      "    (\n",
      "    SELECT \n",
      "      CONCAT(fullVisitorId, CAST(visitStartTime as string)) as sessionId, \n",
      "      *\n",
      "    FROM\n",
      "    `kaggleworkshops.google_analytics_sample_eu.test`\n",
      "  )),\n",
      "UNNEST(predicted_addedToCart_probs)\n",
      "WHERE label = 1\n",
      "\n"
     ]
    },
    {
     "data": {
      "text/html": [
       "<div>\n",
       "<style scoped>\n",
       "    .dataframe tbody tr th:only-of-type {\n",
       "        vertical-align: middle;\n",
       "    }\n",
       "\n",
       "    .dataframe tbody tr th {\n",
       "        vertical-align: top;\n",
       "    }\n",
       "\n",
       "    .dataframe thead th {\n",
       "        text-align: right;\n",
       "    }\n",
       "</style>\n",
       "<table border=\"1\" class=\"dataframe\">\n",
       "  <thead>\n",
       "    <tr style=\"text-align: right;\">\n",
       "      <th></th>\n",
       "      <th>sessionId</th>\n",
       "      <th>addedToCart</th>\n",
       "    </tr>\n",
       "  </thead>\n",
       "  <tbody>\n",
       "    <tr>\n",
       "      <th>0</th>\n",
       "      <td>07882694182815421261496681584</td>\n",
       "      <td>0.041283</td>\n",
       "    </tr>\n",
       "    <tr>\n",
       "      <th>1</th>\n",
       "      <td>40290108148527355581500581209</td>\n",
       "      <td>0.031035</td>\n",
       "    </tr>\n",
       "    <tr>\n",
       "      <th>2</th>\n",
       "      <td>12903768516128460481500783647</td>\n",
       "      <td>0.030220</td>\n",
       "    </tr>\n",
       "    <tr>\n",
       "      <th>3</th>\n",
       "      <td>54265335888974045141496444163</td>\n",
       "      <td>0.035337</td>\n",
       "    </tr>\n",
       "    <tr>\n",
       "      <th>4</th>\n",
       "      <td>23723569795764538441501119781</td>\n",
       "      <td>0.117831</td>\n",
       "    </tr>\n",
       "  </tbody>\n",
       "</table>\n",
       "</div>"
      ],
      "text/plain": [
       "                       sessionId  addedToCart\n",
       "0  07882694182815421261496681584     0.041283\n",
       "1  40290108148527355581500581209     0.031035\n",
       "2  12903768516128460481500783647     0.030220\n",
       "3  54265335888974045141496444163     0.035337\n",
       "4  23723569795764538441501119781     0.117831"
      ]
     },
     "execution_count": 14,
     "metadata": {},
     "output_type": "execute_result"
    }
   ],
   "source": [
    "MODEL_NAME = \"logreg_sample\"\n",
    "\n",
    "sql_predict = f\"\"\"\n",
    "SELECT\n",
    "  sessionId, \n",
    "  prob as addedToCart\n",
    "FROM\n",
    "  ML.PREDICT(MODEL {DATASET_ID}.{MODEL_NAME},\n",
    "    (\n",
    "    SELECT \n",
    "      CONCAT(fullVisitorId, CAST(visitStartTime as string)) as sessionId, \n",
    "      *\n",
    "    FROM\n",
    "    `kaggleworkshops.google_analytics_sample_eu.test`\n",
    "  )),\n",
    "UNNEST(predicted_addedToCart_probs)\n",
    "WHERE label = 1\n",
    "\"\"\"\n",
    "\n",
    "print(sql_predict)\n",
    "\n",
    "submission = bq_query(sql_predict)\n",
    "submission.head()"
   ]
  },
  {
   "cell_type": "markdown",
   "metadata": {},
   "source": [
    "<a id=\"exportcsv\"></a>"
   ]
  },
  {
   "cell_type": "markdown",
   "metadata": {},
   "source": [
    "### Export predictions for Kaggle as a CSV file"
   ]
  },
  {
   "cell_type": "code",
   "execution_count": 15,
   "metadata": {},
   "outputs": [],
   "source": [
    "MODEL_NAME = \"logreg_sample\"\n",
    "\n",
    "#save as CSV\n",
    "submission.to_csv(f\"submission_{MODEL_NAME}.csv\", index=False)"
   ]
  },
  {
   "cell_type": "markdown",
   "metadata": {},
   "source": [
    "The predictions are now saved to a CSV file. To download the file to your computer, locate your file in the left-menu in JupyterLab, right-click on it and click \"Download\". You can now make a submission to the Kaggle competition with the file."
   ]
  },
  {
   "cell_type": "markdown",
   "metadata": {},
   "source": [
    "<hr><a id=\"feateng\"></a>"
   ]
  },
  {
   "cell_type": "markdown",
   "metadata": {},
   "source": [
    "## Preprocessing Functions in BigQuery ML\n",
    "You can use [TRANSFORM()](https://cloud.google.com/bigquery-ml/docs/bigqueryml-transform) with any of the [preprocessing functions](https://cloud.google.com/bigquery-ml/docs/reference/standard-sql/bigqueryml-preprocessing-functions) below."
   ]
  },
  {
   "cell_type": "markdown",
   "metadata": {},
   "source": [
    "<a id=\"extractdates\"></a>"
   ]
  },
  {
   "cell_type": "markdown",
   "metadata": {},
   "source": [
    "#### EXTRACT: Extract dates and time"
   ]
  },
  {
   "cell_type": "markdown",
   "metadata": {},
   "source": [
    "[EXTRACT from DATE documentation](https://cloud.google.com/bigquery/docs/reference/standard-sql/date_functions#extract)  \n",
    "[EXTRACT from TIMESTAMP documentation](https://cloud.google.com/bigquery/docs/reference/standard-sql/timestamp_functions#extract)"
   ]
  },
  {
   "cell_type": "code",
   "execution_count": 10,
   "metadata": {},
   "outputs": [
    {
     "data": {
      "text/html": [
       "<div>\n",
       "<style scoped>\n",
       "    .dataframe tbody tr th:only-of-type {\n",
       "        vertical-align: middle;\n",
       "    }\n",
       "\n",
       "    .dataframe tbody tr th {\n",
       "        vertical-align: top;\n",
       "    }\n",
       "\n",
       "    .dataframe thead th {\n",
       "        text-align: right;\n",
       "    }\n",
       "</style>\n",
       "<table border=\"1\" class=\"dataframe\">\n",
       "  <thead>\n",
       "    <tr style=\"text-align: right;\">\n",
       "      <th></th>\n",
       "      <th>date</th>\n",
       "      <th>month</th>\n",
       "      <th>dayofweek</th>\n",
       "      <th>day</th>\n",
       "      <th>visitStartTime</th>\n",
       "      <th>hour</th>\n",
       "    </tr>\n",
       "  </thead>\n",
       "  <tbody>\n",
       "    <tr>\n",
       "      <th>0</th>\n",
       "      <td>2016-10-14 00:00:00+00:00</td>\n",
       "      <td>10</td>\n",
       "      <td>6</td>\n",
       "      <td>14</td>\n",
       "      <td>1476492957</td>\n",
       "      <td>0</td>\n",
       "    </tr>\n",
       "    <tr>\n",
       "      <th>1</th>\n",
       "      <td>2017-04-30 00:00:00+00:00</td>\n",
       "      <td>4</td>\n",
       "      <td>1</td>\n",
       "      <td>30</td>\n",
       "      <td>1493611205</td>\n",
       "      <td>4</td>\n",
       "    </tr>\n",
       "    <tr>\n",
       "      <th>2</th>\n",
       "      <td>2017-03-20 00:00:00+00:00</td>\n",
       "      <td>3</td>\n",
       "      <td>2</td>\n",
       "      <td>20</td>\n",
       "      <td>1490071147</td>\n",
       "      <td>4</td>\n",
       "    </tr>\n",
       "    <tr>\n",
       "      <th>3</th>\n",
       "      <td>2017-04-01 00:00:00+00:00</td>\n",
       "      <td>4</td>\n",
       "      <td>7</td>\n",
       "      <td>1</td>\n",
       "      <td>1491048053</td>\n",
       "      <td>12</td>\n",
       "    </tr>\n",
       "    <tr>\n",
       "      <th>4</th>\n",
       "      <td>2017-05-20 00:00:00+00:00</td>\n",
       "      <td>5</td>\n",
       "      <td>7</td>\n",
       "      <td>20</td>\n",
       "      <td>1495292376</td>\n",
       "      <td>14</td>\n",
       "    </tr>\n",
       "    <tr>\n",
       "      <th>5</th>\n",
       "      <td>2017-05-14 00:00:00+00:00</td>\n",
       "      <td>5</td>\n",
       "      <td>1</td>\n",
       "      <td>14</td>\n",
       "      <td>1494792010</td>\n",
       "      <td>20</td>\n",
       "    </tr>\n",
       "    <tr>\n",
       "      <th>6</th>\n",
       "      <td>2017-05-17 00:00:00+00:00</td>\n",
       "      <td>5</td>\n",
       "      <td>4</td>\n",
       "      <td>17</td>\n",
       "      <td>1495047452</td>\n",
       "      <td>18</td>\n",
       "    </tr>\n",
       "    <tr>\n",
       "      <th>7</th>\n",
       "      <td>2017-05-15 00:00:00+00:00</td>\n",
       "      <td>5</td>\n",
       "      <td>2</td>\n",
       "      <td>15</td>\n",
       "      <td>1494883945</td>\n",
       "      <td>21</td>\n",
       "    </tr>\n",
       "    <tr>\n",
       "      <th>8</th>\n",
       "      <td>2016-10-11 00:00:00+00:00</td>\n",
       "      <td>10</td>\n",
       "      <td>3</td>\n",
       "      <td>11</td>\n",
       "      <td>1476231674</td>\n",
       "      <td>0</td>\n",
       "    </tr>\n",
       "    <tr>\n",
       "      <th>9</th>\n",
       "      <td>2016-10-10 00:00:00+00:00</td>\n",
       "      <td>10</td>\n",
       "      <td>2</td>\n",
       "      <td>10</td>\n",
       "      <td>1476144607</td>\n",
       "      <td>0</td>\n",
       "    </tr>\n",
       "  </tbody>\n",
       "</table>\n",
       "</div>"
      ],
      "text/plain": [
       "                       date  month  dayofweek  day  visitStartTime  hour\n",
       "0 2016-10-14 00:00:00+00:00     10          6   14      1476492957     0\n",
       "1 2017-04-30 00:00:00+00:00      4          1   30      1493611205     4\n",
       "2 2017-03-20 00:00:00+00:00      3          2   20      1490071147     4\n",
       "3 2017-04-01 00:00:00+00:00      4          7    1      1491048053    12\n",
       "4 2017-05-20 00:00:00+00:00      5          7   20      1495292376    14\n",
       "5 2017-05-14 00:00:00+00:00      5          1   14      1494792010    20\n",
       "6 2017-05-17 00:00:00+00:00      5          4   17      1495047452    18\n",
       "7 2017-05-15 00:00:00+00:00      5          2   15      1494883945    21\n",
       "8 2016-10-11 00:00:00+00:00     10          3   11      1476231674     0\n",
       "9 2016-10-10 00:00:00+00:00     10          2   10      1476144607     0"
      ]
     },
     "execution_count": 10,
     "metadata": {},
     "output_type": "execute_result"
    }
   ],
   "source": [
    "sql_datetime = \"\"\"\n",
    "    SELECT\n",
    "        date,\n",
    "        EXTRACT( month FROM date) as month,\n",
    "        EXTRACT( dayofweek FROM date) AS dayofweek,\n",
    "        EXTRACT( day FROM date) as day,\n",
    "        \n",
    "        visitStartTime,\n",
    "        EXTRACT( hour FROM TIMESTAMP_SECONDS(visitStartTime) ) as hour\n",
    "    FROM\n",
    "        kaggleworkshops.google_analytics_sample_eu.train\n",
    "    LIMIT 10\n",
    "    \"\"\"\n",
    "\n",
    "bq_query(sql_datetime, \n",
    "         async_flag = False)"
   ]
  },
  {
   "cell_type": "markdown",
   "metadata": {},
   "source": [
    "<a id=\"extractwords\"></a>"
   ]
  },
  {
   "cell_type": "markdown",
   "metadata": {},
   "source": [
    "#### REGEXP_EXTRACT_ALL: Extract words from a STRING column\n",
    "[REGEXP_EXTRACT_ALL Documentation](https://cloud.google.com/bigquery/docs/reference/standard-sql/string_functions#regexp_extract_all)"
   ]
  },
  {
   "cell_type": "code",
   "execution_count": 14,
   "metadata": {},
   "outputs": [
    {
     "data": {
      "text/html": [
       "<div>\n",
       "<style scoped>\n",
       "    .dataframe tbody tr th:only-of-type {\n",
       "        vertical-align: middle;\n",
       "    }\n",
       "\n",
       "    .dataframe tbody tr th {\n",
       "        vertical-align: top;\n",
       "    }\n",
       "\n",
       "    .dataframe thead th {\n",
       "        text-align: right;\n",
       "    }\n",
       "</style>\n",
       "<table border=\"1\" class=\"dataframe\">\n",
       "  <thead>\n",
       "    <tr style=\"text-align: right;\">\n",
       "      <th></th>\n",
       "      <th>trafficCampaign</th>\n",
       "      <th>extracted_words</th>\n",
       "    </tr>\n",
       "  </thead>\n",
       "  <tbody>\n",
       "    <tr>\n",
       "      <th>0</th>\n",
       "      <td>(not set)</td>\n",
       "      <td>[not, set]</td>\n",
       "    </tr>\n",
       "    <tr>\n",
       "      <th>1</th>\n",
       "      <td>(not set)</td>\n",
       "      <td>[not, set]</td>\n",
       "    </tr>\n",
       "    <tr>\n",
       "      <th>2</th>\n",
       "      <td>(not set)</td>\n",
       "      <td>[not, set]</td>\n",
       "    </tr>\n",
       "    <tr>\n",
       "      <th>3</th>\n",
       "      <td>(not set)</td>\n",
       "      <td>[not, set]</td>\n",
       "    </tr>\n",
       "    <tr>\n",
       "      <th>4</th>\n",
       "      <td>(not set)</td>\n",
       "      <td>[not, set]</td>\n",
       "    </tr>\n",
       "  </tbody>\n",
       "</table>\n",
       "</div>"
      ],
      "text/plain": [
       "  trafficCampaign extracted_words\n",
       "0       (not set)      [not, set]\n",
       "1       (not set)      [not, set]\n",
       "2       (not set)      [not, set]\n",
       "3       (not set)      [not, set]\n",
       "4       (not set)      [not, set]"
      ]
     },
     "execution_count": 14,
     "metadata": {},
     "output_type": "execute_result"
    }
   ],
   "source": [
    "sql_words = \"\"\"\n",
    "SELECT \n",
    "  trafficCampaign, \n",
    "  REGEXP_EXTRACT_ALL(trafficCampaign, \n",
    "                      r\"[a-zA-Z]+\"\n",
    "                    ) as extracted_words \n",
    "\n",
    "FROM \n",
    "  kaggleworkshops.google_analytics_sample_eu.train\n",
    "LIMIT 5\n",
    "\"\"\"\n",
    "\n",
    "bq_query(sql_words)"
   ]
  },
  {
   "cell_type": "markdown",
   "metadata": {},
   "source": [
    "<a id=\"bucketize\"></a>"
   ]
  },
  {
   "cell_type": "markdown",
   "metadata": {},
   "source": [
    "#### ML.QUANTILE_BUCKETIZE: Bucketize your numeric feature into bins\n",
    "[ML.QUANTILE_BUCKETIZE Documentation](https://cloud.google.com/bigquery-ml/docs/reference/standard-sql/bigqueryml-preprocessing-functions#quantile_bucketize)"
   ]
  },
  {
   "cell_type": "code",
   "execution_count": 12,
   "metadata": {},
   "outputs": [
    {
     "data": {
      "text/html": [
       "<div>\n",
       "<style scoped>\n",
       "    .dataframe tbody tr th:only-of-type {\n",
       "        vertical-align: middle;\n",
       "    }\n",
       "\n",
       "    .dataframe tbody tr th {\n",
       "        vertical-align: top;\n",
       "    }\n",
       "\n",
       "    .dataframe thead th {\n",
       "        text-align: right;\n",
       "    }\n",
       "</style>\n",
       "<table border=\"1\" class=\"dataframe\">\n",
       "  <thead>\n",
       "    <tr style=\"text-align: right;\">\n",
       "      <th></th>\n",
       "      <th>totalTimeOnSite</th>\n",
       "      <th>bucket_totalTimeOnSite</th>\n",
       "    </tr>\n",
       "  </thead>\n",
       "  <tbody>\n",
       "    <tr>\n",
       "      <th>0</th>\n",
       "      <td>0</td>\n",
       "      <td>bin_1</td>\n",
       "    </tr>\n",
       "    <tr>\n",
       "      <th>1</th>\n",
       "      <td>0</td>\n",
       "      <td>bin_1</td>\n",
       "    </tr>\n",
       "    <tr>\n",
       "      <th>2</th>\n",
       "      <td>0</td>\n",
       "      <td>bin_1</td>\n",
       "    </tr>\n",
       "    <tr>\n",
       "      <th>3</th>\n",
       "      <td>302</td>\n",
       "      <td>bin_41</td>\n",
       "    </tr>\n",
       "    <tr>\n",
       "      <th>4</th>\n",
       "      <td>0</td>\n",
       "      <td>bin_1</td>\n",
       "    </tr>\n",
       "    <tr>\n",
       "      <th>5</th>\n",
       "      <td>0</td>\n",
       "      <td>bin_1</td>\n",
       "    </tr>\n",
       "    <tr>\n",
       "      <th>6</th>\n",
       "      <td>183</td>\n",
       "      <td>bin_36</td>\n",
       "    </tr>\n",
       "    <tr>\n",
       "      <th>7</th>\n",
       "      <td>7</td>\n",
       "      <td>bin_5</td>\n",
       "    </tr>\n",
       "    <tr>\n",
       "      <th>8</th>\n",
       "      <td>543</td>\n",
       "      <td>bin_45</td>\n",
       "    </tr>\n",
       "    <tr>\n",
       "      <th>9</th>\n",
       "      <td>164</td>\n",
       "      <td>bin_35</td>\n",
       "    </tr>\n",
       "  </tbody>\n",
       "</table>\n",
       "</div>"
      ],
      "text/plain": [
       "   totalTimeOnSite bucket_totalTimeOnSite\n",
       "0                0                  bin_1\n",
       "1                0                  bin_1\n",
       "2                0                  bin_1\n",
       "3              302                 bin_41\n",
       "4                0                  bin_1\n",
       "5                0                  bin_1\n",
       "6              183                 bin_36\n",
       "7                7                  bin_5\n",
       "8              543                 bin_45\n",
       "9              164                 bin_35"
      ]
     },
     "execution_count": 12,
     "metadata": {},
     "output_type": "execute_result"
    }
   ],
   "source": [
    "sql_bucketize = \"\"\"\n",
    "SELECT \n",
    "    totalTimeOnSite,\n",
    "    ML.QUANTILE_BUCKETIZE(totalTimeOnSite,\n",
    "                            100 #number of buckets\n",
    "                         ) OVER() AS bucket_totalTimeOnSite,\n",
    "FROM\n",
    "    kaggleworkshops.google_analytics_sample_eu.train\n",
    "LIMIT 10\n",
    "\"\"\"\n",
    "\n",
    "bq_query(sql_bucketize)"
   ]
  },
  {
   "cell_type": "markdown",
   "metadata": {},
   "source": [
    "<a id=\"polynomialexpand\"></a>"
   ]
  },
  {
   "cell_type": "markdown",
   "metadata": {},
   "source": [
    "#### ML.POLYNOMIAL_EXPAND: Combine numeric features"
   ]
  },
  {
   "cell_type": "markdown",
   "metadata": {},
   "source": [
    "[ML.POLYNOMIAL_EXPAND Documentation](https://cloud.google.com/bigquery-ml/docs/reference/standard-sql/bigqueryml-preprocessing-functions#mlpolynomial_expand)"
   ]
  },
  {
   "cell_type": "code",
   "execution_count": 40,
   "metadata": {},
   "outputs": [
    {
     "data": {
      "text/html": [
       "<div>\n",
       "<style scoped>\n",
       "    .dataframe tbody tr th:only-of-type {\n",
       "        vertical-align: middle;\n",
       "    }\n",
       "\n",
       "    .dataframe tbody tr th {\n",
       "        vertical-align: top;\n",
       "    }\n",
       "\n",
       "    .dataframe thead th {\n",
       "        text-align: right;\n",
       "    }\n",
       "</style>\n",
       "<table border=\"1\" class=\"dataframe\">\n",
       "  <thead>\n",
       "    <tr style=\"text-align: right;\">\n",
       "      <th></th>\n",
       "      <th>x</th>\n",
       "    </tr>\n",
       "  </thead>\n",
       "  <tbody>\n",
       "    <tr>\n",
       "      <th>0</th>\n",
       "      <td>{'totalHits': 27.0, 'totalHits_totalHits': 729.0, 'totalHits_totalPageViews': 621.0, 'totalPageViews': 23.0, 'totalPageViews_totalPageViews': 529.0}</td>\n",
       "    </tr>\n",
       "    <tr>\n",
       "      <th>1</th>\n",
       "      <td>{'totalHits': 23.0, 'totalHits_totalHits': 529.0, 'totalHits_totalPageViews': 414.0, 'totalPageViews': 18.0, 'totalPageViews_totalPageViews': 324.0}</td>\n",
       "    </tr>\n",
       "    <tr>\n",
       "      <th>2</th>\n",
       "      <td>{'totalHits': 23.0, 'totalHits_totalHits': 529.0, 'totalHits_totalPageViews': 368.0, 'totalPageViews': 16.0, 'totalPageViews_totalPageViews': 256.0}</td>\n",
       "    </tr>\n",
       "  </tbody>\n",
       "</table>\n",
       "</div>"
      ],
      "text/plain": [
       "                                                                                                                                                      x\n",
       "0  {'totalHits': 27.0, 'totalHits_totalHits': 729.0, 'totalHits_totalPageViews': 621.0, 'totalPageViews': 23.0, 'totalPageViews_totalPageViews': 529.0}\n",
       "1  {'totalHits': 23.0, 'totalHits_totalHits': 529.0, 'totalHits_totalPageViews': 414.0, 'totalPageViews': 18.0, 'totalPageViews_totalPageViews': 324.0}\n",
       "2  {'totalHits': 23.0, 'totalHits_totalHits': 529.0, 'totalHits_totalPageViews': 368.0, 'totalPageViews': 16.0, 'totalPageViews_totalPageViews': 256.0}"
      ]
     },
     "execution_count": 40,
     "metadata": {},
     "output_type": "execute_result"
    }
   ],
   "source": [
    "sql_polynomialexpand = \"\"\"\n",
    "SELECT\n",
    "    ML.POLYNOMIAL_EXPAND(STRUCT(totalHits, totalPageViews), \n",
    "                          2) AS x\n",
    "FROM\n",
    "    kaggleworkshops.google_analytics_sample_eu.train\n",
    "LIMIT 3\n",
    "\"\"\"\n",
    "\n",
    "bq_query(sql_polynomialexpand)"
   ]
  },
  {
   "cell_type": "markdown",
   "metadata": {},
   "source": [
    "<a id=\"featurecross\"></a>"
   ]
  },
  {
   "cell_type": "markdown",
   "metadata": {},
   "source": [
    "#### ML.FEATURE_CROSS: Combine categorical features\n",
    "\n",
    "[ML.FEATURE_CROSS Documentation](https://cloud.google.com/bigquery-ml/docs/reference/standard-sql/bigqueryml-preprocessing-functions#mlfeature_cross)"
   ]
  },
  {
   "cell_type": "code",
   "execution_count": 39,
   "metadata": {},
   "outputs": [
    {
     "data": {
      "text/html": [
       "<div>\n",
       "<style scoped>\n",
       "    .dataframe tbody tr th:only-of-type {\n",
       "        vertical-align: middle;\n",
       "    }\n",
       "\n",
       "    .dataframe tbody tr th {\n",
       "        vertical-align: top;\n",
       "    }\n",
       "\n",
       "    .dataframe thead th {\n",
       "        text-align: right;\n",
       "    }\n",
       "</style>\n",
       "<table border=\"1\" class=\"dataframe\">\n",
       "  <thead>\n",
       "    <tr style=\"text-align: right;\">\n",
       "      <th></th>\n",
       "      <th>country</th>\n",
       "      <th>deviceCategory</th>\n",
       "      <th>x</th>\n",
       "    </tr>\n",
       "  </thead>\n",
       "  <tbody>\n",
       "    <tr>\n",
       "      <th>0</th>\n",
       "      <td>United Kingdom</td>\n",
       "      <td>mobile</td>\n",
       "      <td>{'country_deviceCategory': 'United Kingdom_mobile'}</td>\n",
       "    </tr>\n",
       "    <tr>\n",
       "      <th>1</th>\n",
       "      <td>Taiwan</td>\n",
       "      <td>mobile</td>\n",
       "      <td>{'country_deviceCategory': 'Taiwan_mobile'}</td>\n",
       "    </tr>\n",
       "    <tr>\n",
       "      <th>2</th>\n",
       "      <td>Taiwan</td>\n",
       "      <td>mobile</td>\n",
       "      <td>{'country_deviceCategory': 'Taiwan_mobile'}</td>\n",
       "    </tr>\n",
       "  </tbody>\n",
       "</table>\n",
       "</div>"
      ],
      "text/plain": [
       "          country deviceCategory  \\\n",
       "0  United Kingdom         mobile   \n",
       "1          Taiwan         mobile   \n",
       "2          Taiwan         mobile   \n",
       "\n",
       "                                                     x  \n",
       "0  {'country_deviceCategory': 'United Kingdom_mobile'}  \n",
       "1          {'country_deviceCategory': 'Taiwan_mobile'}  \n",
       "2          {'country_deviceCategory': 'Taiwan_mobile'}  "
      ]
     },
     "execution_count": 39,
     "metadata": {},
     "output_type": "execute_result"
    }
   ],
   "source": [
    "sql_featurecross = \"\"\"\n",
    "SELECT\n",
    "    country,\n",
    "    deviceCategory,\n",
    "    ML.FEATURE_CROSS(STRUCT(country, deviceCategory), \n",
    "                    2) AS x\n",
    "FROM\n",
    "    kaggleworkshops.google_analytics_sample_eu.train\n",
    "LIMIT 3\n",
    "\"\"\"\n",
    "\n",
    "bq_query(sql_featurecross)"
   ]
  },
  {
   "cell_type": "markdown",
   "metadata": {},
   "source": [
    "<a id=\"featselection\"></a>\n",
    "<hr>"
   ]
  },
  {
   "cell_type": "markdown",
   "metadata": {},
   "source": [
    "## Feature Selection"
   ]
  },
  {
   "cell_type": "markdown",
   "metadata": {},
   "source": [
    "<a id=\"featimportance\"></a>"
   ]
  },
  {
   "cell_type": "markdown",
   "metadata": {},
   "source": [
    "### ML.FEATURE_IMPORTANCE for Boosted Tree models"
   ]
  },
  {
   "cell_type": "markdown",
   "metadata": {},
   "source": [
    "_Note: This function is only available for Boosted Tree models (`boosted_tree_classifier` or `boosted_tree_regressor`)._\n",
    "\n",
    "The ML.FEATURE_IMPORTANCE function allows you to see feature importance score, which indicates how useful or valuable each feature was in the construction of the Boosted Tree model during training. [ML.FEATURE_IMPORTANCE Documentation](https://cloud.google.com/bigquery-ml/docs/reference/standard-sql/bigqueryml-syntax-importance#mlfeature_importance_function)"
   ]
  },
  {
   "cell_type": "code",
   "execution_count": null,
   "metadata": {},
   "outputs": [],
   "source": [
    "MODEL_NAME = \"MY_BOOSTED_TREE_MODEL_NAME\"\n",
    "\n",
    "sql_featureimportance = f\"\"\"\n",
    "SELECT\n",
    "    *\n",
    "FROM\n",
    "    ML.FEATURE_IMPORTANCE(MODEL bqmlretail.{MODEL_NAME})\n",
    "\"\"\"\n",
    "\n",
    "bq_query(sql_featureimportance)"
   ]
  },
  {
   "cell_type": "code",
   "execution_count": null,
   "metadata": {},
   "outputs": [],
   "source": []
  }
 ],
 "metadata": {
  "environment": {
   "kernel": "python3",
   "name": "tf2-gpu.2-6.m82",
   "type": "gcloud",
   "uri": "gcr.io/deeplearning-platform-release/tf2-gpu.2-6:m82"
  },
  "kernelspec": {
   "display_name": "Python 3",
   "language": "python",
   "name": "python3"
  },
  "language_info": {
   "codemirror_mode": {
    "name": "ipython",
    "version": 3
   },
   "file_extension": ".py",
   "mimetype": "text/x-python",
   "name": "python",
   "nbconvert_exporter": "python",
   "pygments_lexer": "ipython3",
   "version": "3.7.10"
  },
  "toc-autonumbering": false,
  "toc-showcode": false,
  "toc-showmarkdowntxt": false,
  "toc-showtags": false
 },
 "nbformat": 4,
 "nbformat_minor": 4
}
