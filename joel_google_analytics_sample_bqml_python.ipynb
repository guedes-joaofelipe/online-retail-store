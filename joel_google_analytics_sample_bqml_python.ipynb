{
 "cells": [
  {
   "cell_type": "code",
   "execution_count": 577,
   "metadata": {},
   "outputs": [],
   "source": [
    "# Copyright 2020 Google LLC\n",
    "#\n",
    "# Licensed under the Apache License, Version 2.0 (the \"License\");\n",
    "# you may not use this file except in compliance with the License.\n",
    "# You may obtain a copy of the License at\n",
    "#\n",
    "#     https://www.apache.org/licenses/LICENSE-2.0\n",
    "#\n",
    "# Unless required by applicable law or agreed to in writing, software\n",
    "# distributed under the License is distributed on an \"AS IS\" BASIS,\n",
    "# WITHOUT WARRANTIES OR CONDITIONS OF ANY KIND, either express or implied.\n",
    "# See the License for the specific language governing permissions and\n",
    "# limitations under the License."
   ]
  },
  {
   "cell_type": "markdown",
   "metadata": {},
   "source": [
    "# Kaggle Workshops Starter Notebook [Python version]\n",
    "## Online Retail Store: Predicting Visitor Behaviour "
   ]
  },
  {
   "cell_type": "markdown",
   "metadata": {},
   "source": [
    "<table align=\"left\">\n",
    "  <td>\n",
    "    <a href=\"https://console.cloud.google.com/ai-platform/notebooks/deploy-notebook?name=Online%20Retail%20Store%3A%20Predicting%20Visitor%20Behaviour%20-%20Starter%20Notebook%20%5BPython%5D&download_url=https%3A%2F%2Fstorage.googleapis.com%2Fstarter_notebooks%2Fgoogle_analytics_sample_bqml_python.ipynb&url=https%3A%2F%2Fgist.github.com%2Fpolong-lin%2F51bb01bac82513294e10fb9856c4fdb0\">\n",
    "      <img src=\"https://cloud.google.com/images/products/ai/ai-solutions-icon.svg\" alt=\"AI Platform Notebooks\">Run on AI Platform Notebooks</a>\n",
    "  </td>\n",
    "</table>"
   ]
  },
  {
   "cell_type": "markdown",
   "metadata": {},
   "source": [
    "- [Setup BigQuery in Jupyter](#setup)\n",
    "- [BigQuery ML basics](#basics)\n",
    "  - [Select BigQuery data from Python](#select)\n",
    "  - [Train a BigQuery ML model](#train)\n",
    "  - [Check models currently being trained on BigQuery](#currentlytraining)\n",
    "  - [Check if a model has finished training](#finishedtraining)\n",
    "  - [Evaluate a BigQuery ML model](#evaluate)\n",
    "  - [Compare multiple models](#compare)\n",
    "  - [ML.FEATURE_INFO to check input feature information](#featinfo)\n",
    "  - [Make predictions using BigQuery ML](#predictions)\n",
    "  - [Export predictions as a CSV file](#exportcsv)\n",
    "- [Feature engineering](#feateng)\n",
    "  - [EXTRACT: Extract dates and time](#extractdates)\n",
    "  - [REGEXP_EXTRACT_ALL: Extract words from a STRING column](#extractwords)\n",
    "  - [ML.QUANTILE_BUCKETIZE: Bucketize your numeric feature into bins](#bucketize)\n",
    "  - [ML.POLYNOMIAL_EXPAND: Combine numeric features](#polynomialexpand)\n",
    "  - [ML.FEATURE_CROSS: Combine categorical features](#featurecross)\n",
    "- [Feature selection](#featselection)\n",
    "  - [ML.FEATURE_IMPORTANCE for Boosted Tree models](#featimportance)"
   ]
  },
  {
   "cell_type": "markdown",
   "metadata": {},
   "source": [
    "<a id=\"setup\"></a>"
   ]
  },
  {
   "cell_type": "markdown",
   "metadata": {},
   "source": [
    "### Setup BigQuery in Jupyter "
   ]
  },
  {
   "cell_type": "markdown",
   "metadata": {},
   "source": [
    "#### Set parameters"
   ]
  },
  {
   "cell_type": "code",
   "execution_count": 727,
   "metadata": {},
   "outputs": [
    {
     "name": "stdout",
     "output_type": "stream",
     "text": [
      "globohack-kaggle21-6924\n"
     ]
    }
   ],
   "source": [
    "#Check current GCP project ID\n",
    "!gcloud config get-value project"
   ]
  },
  {
   "cell_type": "code",
   "execution_count": 728,
   "metadata": {},
   "outputs": [],
   "source": [
    "PROJECT_ID = \"globohack-kaggle21-6924\" #REPLACE with project ID\n",
    "DATASET_ID = \"bqmlretail\"\n",
    "LOCATION = \"EU\""
   ]
  },
  {
   "cell_type": "markdown",
   "metadata": {},
   "source": [
    "#### Create dataset if it does not yet exist"
   ]
  },
  {
   "cell_type": "code",
   "execution_count": 731,
   "metadata": {},
   "outputs": [
    {
     "name": "stdout",
     "output_type": "stream",
     "text": [
      "BigQuery error in mk operation: Dataset 'globohack-kaggle21-6924:bqmlretail'\n",
      "already exists.\n"
     ]
    }
   ],
   "source": [
    "!bq mk --location=$LOCATION $DATASET_ID"
   ]
  },
  {
   "cell_type": "markdown",
   "metadata": {},
   "source": [
    "#### Required libraries"
   ]
  },
  {
   "cell_type": "code",
   "execution_count": 581,
   "metadata": {},
   "outputs": [],
   "source": [
    "#!pip install google-cloud-bigquery --upgrade --quiet"
   ]
  },
  {
   "cell_type": "code",
   "execution_count": 961,
   "metadata": {},
   "outputs": [
    {
     "name": "stdout",
     "output_type": "stream",
     "text": [
      "Done.\n"
     ]
    }
   ],
   "source": [
    "import matplotlib.pyplot as plt\n",
    "%matplotlib inline\n",
    "import seaborn as sns\n",
    "from google.cloud import bigquery\n",
    "from google.api_core.exceptions import BadRequest\n",
    "import time\n",
    "import pandas as pd\n",
    "import numpy as np\n",
    "from sklearn import preprocessing, tree\n",
    "from sklearn.base import BaseEstimator, TransformerMixin\n",
    "from collections import Counter\n",
    "\n",
    "pd.set_option('display.max_columns', None)\n",
    "pd.set_option('display.max_colwidth', 200)\n",
    "\n",
    "# Construct a BigQuery client object.\n",
    "client = bigquery.Client()\n",
    "\n",
    "def bq_query(sql, async_flag=False):\n",
    "    \"\"\"\n",
    "    If `async_flag` set to False (default), \n",
    "        returns the query results for `sql` as a Pandas DataFrame, \n",
    "    Else, submits query asynchronously and returns nothing.\n",
    "    \"\"\"\n",
    "    \n",
    "    # Try dry run before executing query to catch any errors\n",
    "    try:\n",
    "        job_config = bigquery.QueryJobConfig(dry_run=True, use_query_cache=False)\n",
    "        dry_run_job = client.query(sql, job_config=job_config)\n",
    "    except BadRequest as err:\n",
    "        print(err)\n",
    "        return\n",
    "        \n",
    "    job_config = bigquery.QueryJobConfig()\n",
    "    df = client.query(sql, job_config=job_config)\n",
    "    \n",
    "    if async_flag:\n",
    "        return f\"Query sent asynchronously for job id: {df.job_id}\"\n",
    "    else:\n",
    "        df = df.result() #wait for query to finish running\n",
    "        return df.to_dataframe()\n",
    "    \n",
    "\n",
    "def pandas_to_bq(df, tablename):\n",
    "    return client.load_table_from_dataframe(\n",
    "        dataframe = df, \n",
    "        destination = DATASET_ID + '.' + tablename,\n",
    "        project = PROJECT_ID\n",
    "    )\n",
    "    \n",
    "print(\"Done.\")"
   ]
  },
  {
   "cell_type": "markdown",
   "metadata": {},
   "source": [
    "<a id=\"basics\"></a>"
   ]
  },
  {
   "cell_type": "markdown",
   "metadata": {},
   "source": [
    "## BigQuery ML basics"
   ]
  },
  {
   "cell_type": "markdown",
   "metadata": {},
   "source": [
    "<a id=\"select\"></a>"
   ]
  },
  {
   "cell_type": "markdown",
   "metadata": {},
   "source": [
    "#### Select BigQuery data from Python"
   ]
  },
  {
   "cell_type": "code",
   "execution_count": 962,
   "metadata": {},
   "outputs": [
    {
     "data": {
      "text/html": [
       "<div>\n",
       "<style scoped>\n",
       "    .dataframe tbody tr th:only-of-type {\n",
       "        vertical-align: middle;\n",
       "    }\n",
       "\n",
       "    .dataframe tbody tr th {\n",
       "        vertical-align: top;\n",
       "    }\n",
       "\n",
       "    .dataframe thead th {\n",
       "        text-align: right;\n",
       "    }\n",
       "</style>\n",
       "<table border=\"1\" class=\"dataframe\">\n",
       "  <thead>\n",
       "    <tr style=\"text-align: right;\">\n",
       "      <th></th>\n",
       "      <th>fullVisitorId</th>\n",
       "      <th>date</th>\n",
       "      <th>deviceCategory</th>\n",
       "      <th>isMobile</th>\n",
       "      <th>operatingSystem</th>\n",
       "      <th>browser</th>\n",
       "      <th>country</th>\n",
       "      <th>city</th>\n",
       "      <th>trafficSource</th>\n",
       "      <th>trafficMedium</th>\n",
       "      <th>trafficCampaign</th>\n",
       "      <th>isFirstVisit</th>\n",
       "      <th>totalVisits</th>\n",
       "      <th>totalHits</th>\n",
       "      <th>totalPageviews</th>\n",
       "      <th>totalTimeOnSite</th>\n",
       "      <th>productPagesViewed</th>\n",
       "      <th>addedToCart</th>\n",
       "      <th>domainSource</th>\n",
       "      <th>isMobile_1</th>\n",
       "      <th>dayOfWeek</th>\n",
       "      <th>isWeekend</th>\n",
       "      <th>isApple</th>\n",
       "      <th>hasRecentVisit</th>\n",
       "      <th>noTimeOnSite</th>\n",
       "    </tr>\n",
       "  </thead>\n",
       "  <tbody>\n",
       "    <tr>\n",
       "      <th>55905</th>\n",
       "      <td>2099874963563697649</td>\n",
       "      <td>2016-12-18 00:00:00+00:00</td>\n",
       "      <td>desktop</td>\n",
       "      <td>False</td>\n",
       "      <td>Macintosh</td>\n",
       "      <td>Chrome</td>\n",
       "      <td>Spain</td>\n",
       "      <td>Madrid</td>\n",
       "      <td>Partners</td>\n",
       "      <td>affiliate</td>\n",
       "      <td>Data Share Promo</td>\n",
       "      <td>1</td>\n",
       "      <td>1</td>\n",
       "      <td>1</td>\n",
       "      <td>1</td>\n",
       "      <td>0</td>\n",
       "      <td>0</td>\n",
       "      <td>0</td>\n",
       "      <td>None</td>\n",
       "      <td>0</td>\n",
       "      <td>1</td>\n",
       "      <td>1</td>\n",
       "      <td>1</td>\n",
       "      <td>0</td>\n",
       "      <td>1</td>\n",
       "    </tr>\n",
       "    <tr>\n",
       "      <th>55906</th>\n",
       "      <td>2103516610461663217</td>\n",
       "      <td>2016-08-04 00:00:00+00:00</td>\n",
       "      <td>desktop</td>\n",
       "      <td>False</td>\n",
       "      <td>Windows</td>\n",
       "      <td>Chrome</td>\n",
       "      <td>United States</td>\n",
       "      <td>Los Angeles</td>\n",
       "      <td>google</td>\n",
       "      <td>organic</td>\n",
       "      <td>(not set)</td>\n",
       "      <td>1</td>\n",
       "      <td>1</td>\n",
       "      <td>5</td>\n",
       "      <td>5</td>\n",
       "      <td>104</td>\n",
       "      <td>0</td>\n",
       "      <td>0</td>\n",
       "      <td>None</td>\n",
       "      <td>0</td>\n",
       "      <td>5</td>\n",
       "      <td>0</td>\n",
       "      <td>0</td>\n",
       "      <td>0</td>\n",
       "      <td>0</td>\n",
       "    </tr>\n",
       "    <tr>\n",
       "      <th>55907</th>\n",
       "      <td>2103516610461663217</td>\n",
       "      <td>2016-08-19 00:00:00+00:00</td>\n",
       "      <td>desktop</td>\n",
       "      <td>False</td>\n",
       "      <td>Windows</td>\n",
       "      <td>Chrome</td>\n",
       "      <td>United States</td>\n",
       "      <td>Los Angeles</td>\n",
       "      <td>google</td>\n",
       "      <td>organic</td>\n",
       "      <td>(not set)</td>\n",
       "      <td>0</td>\n",
       "      <td>1</td>\n",
       "      <td>8</td>\n",
       "      <td>6</td>\n",
       "      <td>105</td>\n",
       "      <td>2</td>\n",
       "      <td>0</td>\n",
       "      <td>None</td>\n",
       "      <td>0</td>\n",
       "      <td>6</td>\n",
       "      <td>0</td>\n",
       "      <td>0</td>\n",
       "      <td>1</td>\n",
       "      <td>0</td>\n",
       "    </tr>\n",
       "    <tr>\n",
       "      <th>55908</th>\n",
       "      <td>2103516610461663217</td>\n",
       "      <td>2016-08-22 00:00:00+00:00</td>\n",
       "      <td>desktop</td>\n",
       "      <td>False</td>\n",
       "      <td>Windows</td>\n",
       "      <td>Chrome</td>\n",
       "      <td>United States</td>\n",
       "      <td>Los Angeles</td>\n",
       "      <td>google</td>\n",
       "      <td>organic</td>\n",
       "      <td>(not set)</td>\n",
       "      <td>0</td>\n",
       "      <td>1</td>\n",
       "      <td>3</td>\n",
       "      <td>3</td>\n",
       "      <td>52</td>\n",
       "      <td>0</td>\n",
       "      <td>0</td>\n",
       "      <td>None</td>\n",
       "      <td>0</td>\n",
       "      <td>2</td>\n",
       "      <td>0</td>\n",
       "      <td>0</td>\n",
       "      <td>1</td>\n",
       "      <td>0</td>\n",
       "    </tr>\n",
       "    <tr>\n",
       "      <th>55909</th>\n",
       "      <td>210763430517443415</td>\n",
       "      <td>2016-12-14 00:00:00+00:00</td>\n",
       "      <td>desktop</td>\n",
       "      <td>False</td>\n",
       "      <td>Linux</td>\n",
       "      <td>Chrome</td>\n",
       "      <td>Israel</td>\n",
       "      <td>Tel Aviv-Yafo</td>\n",
       "      <td>(direct)</td>\n",
       "      <td>(none)</td>\n",
       "      <td>(not set)</td>\n",
       "      <td>1</td>\n",
       "      <td>1</td>\n",
       "      <td>3</td>\n",
       "      <td>3</td>\n",
       "      <td>56</td>\n",
       "      <td>0</td>\n",
       "      <td>0</td>\n",
       "      <td>None</td>\n",
       "      <td>0</td>\n",
       "      <td>4</td>\n",
       "      <td>0</td>\n",
       "      <td>0</td>\n",
       "      <td>0</td>\n",
       "      <td>0</td>\n",
       "    </tr>\n",
       "  </tbody>\n",
       "</table>\n",
       "</div>"
      ],
      "text/plain": [
       "             fullVisitorId                      date deviceCategory  isMobile  \\\n",
       "55905  2099874963563697649 2016-12-18 00:00:00+00:00        desktop     False   \n",
       "55906  2103516610461663217 2016-08-04 00:00:00+00:00        desktop     False   \n",
       "55907  2103516610461663217 2016-08-19 00:00:00+00:00        desktop     False   \n",
       "55908  2103516610461663217 2016-08-22 00:00:00+00:00        desktop     False   \n",
       "55909   210763430517443415 2016-12-14 00:00:00+00:00        desktop     False   \n",
       "\n",
       "      operatingSystem browser        country           city trafficSource  \\\n",
       "55905       Macintosh  Chrome          Spain         Madrid      Partners   \n",
       "55906         Windows  Chrome  United States    Los Angeles        google   \n",
       "55907         Windows  Chrome  United States    Los Angeles        google   \n",
       "55908         Windows  Chrome  United States    Los Angeles        google   \n",
       "55909           Linux  Chrome         Israel  Tel Aviv-Yafo      (direct)   \n",
       "\n",
       "      trafficMedium   trafficCampaign  isFirstVisit  totalVisits  totalHits  \\\n",
       "55905     affiliate  Data Share Promo             1            1          1   \n",
       "55906       organic         (not set)             1            1          5   \n",
       "55907       organic         (not set)             0            1          8   \n",
       "55908       organic         (not set)             0            1          3   \n",
       "55909        (none)         (not set)             1            1          3   \n",
       "\n",
       "       totalPageviews  totalTimeOnSite  productPagesViewed  addedToCart  \\\n",
       "55905               1                0                   0            0   \n",
       "55906               5              104                   0            0   \n",
       "55907               6              105                   2            0   \n",
       "55908               3               52                   0            0   \n",
       "55909               3               56                   0            0   \n",
       "\n",
       "      domainSource  isMobile_1  dayOfWeek  isWeekend  isApple  hasRecentVisit  \\\n",
       "55905         None           0          1          1        1               0   \n",
       "55906         None           0          5          0        0               0   \n",
       "55907         None           0          6          0        0               1   \n",
       "55908         None           0          2          0        0               1   \n",
       "55909         None           0          4          0        0               0   \n",
       "\n",
       "       noTimeOnSite  \n",
       "55905             1  \n",
       "55906             0  \n",
       "55907             0  \n",
       "55908             0  \n",
       "55909             0  "
      ]
     },
     "execution_count": 962,
     "metadata": {},
     "output_type": "execute_result"
    }
   ],
   "source": [
    "#t.* EXCEPT (totalHits, totalVisits, date, isMobile, browser, city, trafficSource, trafficMedium, trafficCampaign, operatingSystem), \n",
    "\n",
    "sql_select = \"\"\"\n",
    "WITH\n",
    "train AS (\n",
    "    (SELECT \n",
    "      *,\n",
    "      NET.REG_DOMAIN(trafficSource) AS domainSource,\n",
    "      CAST(isMobile AS INT64) AS isMobile,\n",
    "      EXTRACT(DAYOFWEEK FROM TIMESTAMP_MILLIS(visitStartTime*1000)) AS dayOfWeek,\n",
    "      IF (EXTRACT(DAYOFWEEK FROM TIMESTAMP_MILLIS(visitStartTime*1000)) IN (1,7), 1, 0) AS isWeekend,\n",
    "      IF (operatingSystem IN ('Macintosh', 'iOS'), 1, 0) AS isApple,\n",
    "      LAG(visitStartTime, 1, 0) OVER (PARTITION BY fullVisitorId ORDER BY visitStartTime ASC) AS lastVisitTime,\n",
    "      CASE\n",
    "        WHEN TIMESTAMP_DIFF(TIMESTAMP_MILLIS(visitStartTime), TIMESTAMP_MILLIS(LAG(visitStartTime, 1, 0) OVER (PARTITION BY fullVisitorId ORDER BY visitStartTime ASC)), HOUR) <= 24 THEN 1\n",
    "        ELSE 0\n",
    "      END AS hasRecentVisit,\n",
    "      CASE\n",
    "        WHEN totalTimeOnSite = 0 THEN 1\n",
    "        ELSE 0\n",
    "      END AS noTimeOnSite\n",
    "    FROM\n",
    "      kaggleworkshops.google_analytics_sample_eu.train t\n",
    "    WHERE date BETWEEN TIMESTAMP(\"2010-01-01\")\n",
    "      AND TIMESTAMP(\"2021-12-31\")\n",
    "      AND addedToCart=1)\n",
    "    UNION ALL(\n",
    "        SELECT \n",
    "          *,\n",
    "          NET.REG_DOMAIN(trafficSource) AS domainSource,\n",
    "          CAST(isMobile AS INT64) AS isMobile,\n",
    "          EXTRACT(DAYOFWEEK FROM TIMESTAMP_MILLIS(visitStartTime*1000)) AS dayOfWeek,\n",
    "          IF (EXTRACT(DAYOFWEEK FROM TIMESTAMP_MILLIS(visitStartTime*1000)) IN (1,7), 1, 0) AS isWeekend,\n",
    "          IF (operatingSystem IN ('Macintosh', 'iOS'), 1, 0) AS isApple,\n",
    "          LAG(visitStartTime, 1, 0) OVER (PARTITION BY fullVisitorId ORDER BY visitStartTime ASC) AS lastVisitTime,\n",
    "          CASE\n",
    "            WHEN TIMESTAMP_DIFF(TIMESTAMP_MILLIS(visitStartTime), TIMESTAMP_MILLIS(LAG(visitStartTime, 1, 0) OVER (PARTITION BY fullVisitorId ORDER BY visitStartTime ASC)), HOUR) <= 24 THEN 1\n",
    "            ELSE 0\n",
    "          END AS hasRecentVisit,\n",
    "          CASE\n",
    "            WHEN totalTimeOnSite = 0 THEN 1\n",
    "            ELSE 0\n",
    "          END AS noTimeOnSite\n",
    "        FROM\n",
    "          kaggleworkshops.google_analytics_sample_eu.train t\n",
    "        WHERE date BETWEEN TIMESTAMP(\"2016-01-01\")\n",
    "          AND TIMESTAMP(\"2016-12-31\")\n",
    "          AND addedToCart=0\n",
    "          LIMIT 50000\n",
    "    )\n",
    ")\n",
    "SELECT * EXCEPT (visitStartTime, lastVisitTime)\n",
    "FROM train\n",
    "WHERE MOD(ABS(FARM_FINGERPRINT(CAST(visitStartTime AS STRING))), 100) <= 60\n",
    "\"\"\"\n",
    "\n",
    "df = bq_query(sql = sql_select) #.set_index('fullVisitorId')\n",
    "\n",
    "df.tail()"
   ]
  },
  {
   "cell_type": "code",
   "execution_count": 963,
   "metadata": {},
   "outputs": [
    {
     "data": {
      "text/plain": [
       "0    39843\n",
       "1    16067\n",
       "Name: noTimeOnSite, dtype: int64"
      ]
     },
     "execution_count": 963,
     "metadata": {},
     "output_type": "execute_result"
    }
   ],
   "source": [
    "df['noTimeOnSite'].value_counts()"
   ]
  },
  {
   "cell_type": "code",
   "execution_count": 964,
   "metadata": {},
   "outputs": [
    {
     "data": {
      "text/plain": [
       "0    30549\n",
       "1    25361\n",
       "Name: addedToCart, dtype: int64"
      ]
     },
     "execution_count": 964,
     "metadata": {},
     "output_type": "execute_result"
    }
   ],
   "source": [
    "df['addedToCart'].value_counts()"
   ]
  },
  {
   "cell_type": "code",
   "execution_count": 965,
   "metadata": {},
   "outputs": [
    {
     "data": {
      "text/plain": [
       "(55910, 25)"
      ]
     },
     "execution_count": 965,
     "metadata": {},
     "output_type": "execute_result"
    }
   ],
   "source": [
    "df.shape"
   ]
  },
  {
   "cell_type": "markdown",
   "metadata": {},
   "source": [
    "# Mini EDA"
   ]
  },
  {
   "cell_type": "code",
   "execution_count": 966,
   "metadata": {},
   "outputs": [
    {
     "name": "stdout",
     "output_type": "stream",
     "text": [
      "<class 'pandas.core.frame.DataFrame'>\n",
      "RangeIndex: 55910 entries, 0 to 55909\n",
      "Data columns (total 25 columns):\n",
      " #   Column              Non-Null Count  Dtype              \n",
      "---  ------              --------------  -----              \n",
      " 0   fullVisitorId       55910 non-null  object             \n",
      " 1   date                55910 non-null  datetime64[ns, UTC]\n",
      " 2   deviceCategory      55910 non-null  object             \n",
      " 3   isMobile            55910 non-null  bool               \n",
      " 4   operatingSystem     55910 non-null  object             \n",
      " 5   browser             55910 non-null  object             \n",
      " 6   country             55910 non-null  object             \n",
      " 7   city                55910 non-null  object             \n",
      " 8   trafficSource       55910 non-null  object             \n",
      " 9   trafficMedium       55910 non-null  object             \n",
      " 10  trafficCampaign     55910 non-null  object             \n",
      " 11  isFirstVisit        55910 non-null  int64              \n",
      " 12  totalVisits         55910 non-null  int64              \n",
      " 13  totalHits           55910 non-null  int64              \n",
      " 14  totalPageviews      55910 non-null  int64              \n",
      " 15  totalTimeOnSite     55910 non-null  int64              \n",
      " 16  productPagesViewed  55910 non-null  int64              \n",
      " 17  addedToCart         55910 non-null  int64              \n",
      " 18  domainSource        14830 non-null  object             \n",
      " 19  isMobile_1          55910 non-null  int64              \n",
      " 20  dayOfWeek           55910 non-null  int64              \n",
      " 21  isWeekend           55910 non-null  int64              \n",
      " 22  isApple             55910 non-null  int64              \n",
      " 23  hasRecentVisit      55910 non-null  int64              \n",
      " 24  noTimeOnSite        55910 non-null  int64              \n",
      "dtypes: bool(1), datetime64[ns, UTC](1), int64(13), object(10)\n",
      "memory usage: 10.3+ MB\n"
     ]
    }
   ],
   "source": [
    "df.info()"
   ]
  },
  {
   "cell_type": "markdown",
   "metadata": {},
   "source": [
    "## Plot functions"
   ]
  },
  {
   "cell_type": "code",
   "execution_count": 585,
   "metadata": {},
   "outputs": [],
   "source": [
    "def plot_integer_to_label(df, feature):\n",
    "    g = sns.factorplot(x=feature, y=\"addedToCart\", data=df, kind=\"bar\", size=4, palette = \"muted\")\n",
    "    g.despine(left=True)\n",
    "    g = g.set_ylabels(\"addedToCart\")\n",
    "    print(df[[feature, 'addedToCart']].groupby([feature]).agg(['mean', 'count']))"
   ]
  },
  {
   "cell_type": "code",
   "execution_count": 586,
   "metadata": {},
   "outputs": [],
   "source": [
    "def plot_float_to_label(df, feature):\n",
    "    g = sns.distplot(df[feature], color=\"m\", label=\"Skewness : %.2f\"%(df[feature].skew()))\n",
    "    g = g.legend(loc=\"best\")\n",
    "    \n",
    "    g = sns.FacetGrid(df, col='addedToCart')\n",
    "    g = g.map(sns.distplot, feature)"
   ]
  },
  {
   "cell_type": "code",
   "execution_count": 649,
   "metadata": {},
   "outputs": [],
   "source": [
    "def plot_categorical_variable_2(column: str, figsize=(16,8)):\n",
    "    fig, ax = plt.subplots(figsize=figsize)\n",
    "    df_plot = pd.DataFrame(df.groupby(column)['fullVisitorId'].count()).reset_index(drop=False)\n",
    "    sns.barplot(data=df_plot, x=\"fullVisitorId\", y=column, ax=ax)"
   ]
  },
  {
   "cell_type": "code",
   "execution_count": 650,
   "metadata": {},
   "outputs": [],
   "source": [
    "def plot_categorical_variable(df, column_x, column_y, figsize=(16,8)):\n",
    "    fig, ax = plt.subplots(figsize=figsize)\n",
    "    sns.barplot(data=df, x=column_x, y=column_y, ax=ax)"
   ]
  },
  {
   "cell_type": "code",
   "execution_count": 588,
   "metadata": {},
   "outputs": [],
   "source": [
    "def plot_numerical_variable(column:str, figsize=(16,8), log=False, max_value=None):\n",
    "    fig, ax = plt.subplots(figsize=figsize)\n",
    "    df_plot = df.copy()\n",
    "    if max_value:\n",
    "        df_plot = df_plot.query(f'{column} <= {max_value}')\n",
    "    \n",
    "    if log:\n",
    "        sns.distplot(np.log(1+df_plot[column]), ax=ax)\n",
    "    else:\n",
    "        sns.distplot(df_plot[column], ax=ax)"
   ]
  },
  {
   "cell_type": "code",
   "execution_count": 589,
   "metadata": {},
   "outputs": [],
   "source": [
    "def to_integer(data, feature):\n",
    "    le = preprocessing.LabelEncoder()\n",
    "    le.fit(data[feature])\n",
    "    data[feature] = le.transform(data[feature])"
   ]
  },
  {
   "cell_type": "code",
   "execution_count": 673,
   "metadata": {},
   "outputs": [
    {
     "name": "stderr",
     "output_type": "stream",
     "text": [
      "/opt/conda/lib/python3.7/site-packages/seaborn/distributions.py:2619: FutureWarning: `distplot` is a deprecated function and will be removed in a future version. Please adapt your code to use either `displot` (a figure-level function with similar flexibility) or `histplot` (an axes-level function for histograms).\n",
      "  warnings.warn(msg, FutureWarning)\n"
     ]
    },
    {
     "data": {
      "image/png": "[encoded data removed]",
      "text/plain": [
       "<Figure size 1152x576 with 1 Axes>"
      ]
     },
     "metadata": {
      "needs_background": "light"
     },
     "output_type": "display_data"
    }
   ],
   "source": [
    "plot_numerical_variable('totalPageviews', log=False, max_value = None)"
   ]
  },
  {
   "cell_type": "code",
   "execution_count": 674,
   "metadata": {},
   "outputs": [
    {
     "name": "stderr",
     "output_type": "stream",
     "text": [
      "/opt/conda/lib/python3.7/site-packages/seaborn/distributions.py:2619: FutureWarning: `distplot` is a deprecated function and will be removed in a future version. Please adapt your code to use either `displot` (a figure-level function with similar flexibility) or `histplot` (an axes-level function for histograms).\n",
      "  warnings.warn(msg, FutureWarning)\n",
      "/opt/conda/lib/python3.7/site-packages/seaborn/distributions.py:2619: FutureWarning: `distplot` is a deprecated function and will be removed in a future version. Please adapt your code to use either `displot` (a figure-level function with similar flexibility) or `histplot` (an axes-level function for histograms).\n",
      "  warnings.warn(msg, FutureWarning)\n",
      "/opt/conda/lib/python3.7/site-packages/seaborn/distributions.py:2619: FutureWarning: `distplot` is a deprecated function and will be removed in a future version. Please adapt your code to use either `displot` (a figure-level function with similar flexibility) or `histplot` (an axes-level function for histograms).\n",
      "  warnings.warn(msg, FutureWarning)\n"
     ]
    },
    {
     "data": {
      "image/png": "[encoded data removed]",
      "text/plain": [
       "<Figure size 432x288 with 1 Axes>"
      ]
     },
     "metadata": {
      "needs_background": "light"
     },
     "output_type": "display_data"
    },
    {
     "data": {
      "image/png": "[encoded data removed]",
      "text/plain": [
       "<Figure size 432x216 with 2 Axes>"
      ]
     },
     "metadata": {
      "needs_background": "light"
     },
     "output_type": "display_data"
    }
   ],
   "source": [
    "plot_float_to_label(df, 'productPagesViewed')"
   ]
  },
  {
   "cell_type": "code",
   "execution_count": 592,
   "metadata": {},
   "outputs": [
    {
     "data": {
      "image/png": "[encoded data removed]",
      "text/plain": [
       "<Figure size 1152x576 with 1 Axes>"
      ]
     },
     "metadata": {
      "needs_background": "light"
     },
     "output_type": "display_data"
    }
   ],
   "source": [
    "plot_categorical_variable('totalPageviews')"
   ]
  },
  {
   "cell_type": "markdown",
   "metadata": {},
   "source": [
    "## Inspecting features"
   ]
  },
  {
   "cell_type": "code",
   "execution_count": 675,
   "metadata": {},
   "outputs": [
    {
     "name": "stdout",
     "output_type": "stream",
     "text": [
      "Colum: fullVisitorId has mora than 5 values\n",
      "Colum: date has mora than 5 values\n",
      "\n",
      "Colum: deviceCategory\n",
      "desktop    44937\n",
      "mobile      9508\n",
      "tablet      1550\n",
      "Name: deviceCategory, dtype: int64\n",
      "\n",
      "\n",
      "\n",
      "Colum: isMobile\n",
      "False    44938\n",
      "True     11057\n",
      "Name: isMobile, dtype: int64\n",
      "\n",
      "\n",
      "Colum: operatingSystem has mora than 5 values\n",
      "Colum: browser has mora than 5 values\n",
      "Colum: country has mora than 5 values\n",
      "Colum: city has mora than 5 values\n",
      "Colum: trafficSource has mora than 5 values\n",
      "Colum: trafficMedium has mora than 5 values\n",
      "Colum: trafficCampaign has mora than 5 values\n",
      "\n",
      "Colum: isFirstVisit\n",
      "1    38749\n",
      "0    17246\n",
      "Name: isFirstVisit, dtype: int64\n",
      "\n",
      "\n",
      "\n",
      "Colum: totalVisits\n",
      "1    55995\n",
      "Name: totalVisits, dtype: int64\n",
      "\n",
      "\n",
      "Colum: totalHits has mora than 5 values\n",
      "Colum: totalPageviews has mora than 5 values\n",
      "Colum: totalTimeOnSite has mora than 5 values\n",
      "Colum: productPagesViewed has mora than 5 values\n",
      "\n",
      "Colum: addedToCart\n",
      "0    30641\n",
      "1    25354\n",
      "Name: addedToCart, dtype: int64\n",
      "\n",
      "\n",
      "Colum: domainSource has mora than 5 values\n",
      "\n",
      "Colum: isMobile_1\n",
      "0    44938\n",
      "1    11057\n",
      "Name: isMobile_1, dtype: int64\n",
      "\n",
      "\n",
      "Colum: dayOfWeek has mora than 5 values\n",
      "\n",
      "Colum: isWeekend\n",
      "0    44933\n",
      "1    11062\n",
      "Name: isWeekend, dtype: int64\n",
      "\n",
      "\n",
      "\n",
      "Colum: isApple\n",
      "0    29425\n",
      "1    26570\n",
      "Name: isApple, dtype: int64\n",
      "\n",
      "\n",
      "\n",
      "Colum: hasRecentVisit\n",
      "0    46076\n",
      "1     9919\n",
      "Name: hasRecentVisit, dtype: int64\n",
      "\n",
      "\n"
     ]
    }
   ],
   "source": [
    "for column in df.columns:\n",
    "    values_count = len(df[column].unique())\n",
    "    if values_count >= 5:\n",
    "        print(\"Colum: {} has mora than 5 values\".format(column))\n",
    "    else:# values_count < 5:\n",
    "        print(\"\\nColum: {}\".format(column))\n",
    "        print(df[column].value_counts())\n",
    "        print(\"\\n\")"
   ]
  },
  {
   "cell_type": "code",
   "execution_count": 676,
   "metadata": {},
   "outputs": [
    {
     "data": {
      "text/html": [
       "<div>\n",
       "<style scoped>\n",
       "    .dataframe tbody tr th:only-of-type {\n",
       "        vertical-align: middle;\n",
       "    }\n",
       "\n",
       "    .dataframe tbody tr th {\n",
       "        vertical-align: top;\n",
       "    }\n",
       "\n",
       "    .dataframe thead th {\n",
       "        text-align: right;\n",
       "    }\n",
       "</style>\n",
       "<table border=\"1\" class=\"dataframe\">\n",
       "  <thead>\n",
       "    <tr style=\"text-align: right;\">\n",
       "      <th></th>\n",
       "      <th>isFirstVisit</th>\n",
       "      <th>totalVisits</th>\n",
       "      <th>totalHits</th>\n",
       "      <th>totalPageviews</th>\n",
       "      <th>totalTimeOnSite</th>\n",
       "      <th>productPagesViewed</th>\n",
       "      <th>addedToCart</th>\n",
       "      <th>isMobile_1</th>\n",
       "      <th>dayOfWeek</th>\n",
       "      <th>isWeekend</th>\n",
       "      <th>isApple</th>\n",
       "      <th>hasRecentVisit</th>\n",
       "    </tr>\n",
       "  </thead>\n",
       "  <tbody>\n",
       "    <tr>\n",
       "      <th>count</th>\n",
       "      <td>55995.000000</td>\n",
       "      <td>55995.0</td>\n",
       "      <td>55995.000000</td>\n",
       "      <td>55995.000000</td>\n",
       "      <td>55995.000000</td>\n",
       "      <td>55995.000000</td>\n",
       "      <td>55995.000000</td>\n",
       "      <td>55995.000000</td>\n",
       "      <td>55995.000000</td>\n",
       "      <td>55995.000000</td>\n",
       "      <td>55995.000000</td>\n",
       "      <td>55995.000000</td>\n",
       "    </tr>\n",
       "    <tr>\n",
       "      <th>mean</th>\n",
       "      <td>0.692008</td>\n",
       "      <td>1.0</td>\n",
       "      <td>15.636164</td>\n",
       "      <td>11.877257</td>\n",
       "      <td>434.476525</td>\n",
       "      <td>1.852737</td>\n",
       "      <td>0.452790</td>\n",
       "      <td>0.197464</td>\n",
       "      <td>4.008715</td>\n",
       "      <td>0.197553</td>\n",
       "      <td>0.474507</td>\n",
       "      <td>0.177141</td>\n",
       "    </tr>\n",
       "    <tr>\n",
       "      <th>std</th>\n",
       "      <td>0.461667</td>\n",
       "      <td>0.0</td>\n",
       "      <td>21.780946</td>\n",
       "      <td>15.544879</td>\n",
       "      <td>693.222734</td>\n",
       "      <td>3.830399</td>\n",
       "      <td>0.497771</td>\n",
       "      <td>0.398089</td>\n",
       "      <td>1.825317</td>\n",
       "      <td>0.398157</td>\n",
       "      <td>0.499354</td>\n",
       "      <td>0.381791</td>\n",
       "    </tr>\n",
       "    <tr>\n",
       "      <th>min</th>\n",
       "      <td>0.000000</td>\n",
       "      <td>1.0</td>\n",
       "      <td>2.000000</td>\n",
       "      <td>0.000000</td>\n",
       "      <td>1.000000</td>\n",
       "      <td>0.000000</td>\n",
       "      <td>0.000000</td>\n",
       "      <td>0.000000</td>\n",
       "      <td>1.000000</td>\n",
       "      <td>0.000000</td>\n",
       "      <td>0.000000</td>\n",
       "      <td>0.000000</td>\n",
       "    </tr>\n",
       "    <tr>\n",
       "      <th>25%</th>\n",
       "      <td>0.000000</td>\n",
       "      <td>1.0</td>\n",
       "      <td>3.000000</td>\n",
       "      <td>3.000000</td>\n",
       "      <td>52.000000</td>\n",
       "      <td>0.000000</td>\n",
       "      <td>0.000000</td>\n",
       "      <td>0.000000</td>\n",
       "      <td>3.000000</td>\n",
       "      <td>0.000000</td>\n",
       "      <td>0.000000</td>\n",
       "      <td>0.000000</td>\n",
       "    </tr>\n",
       "    <tr>\n",
       "      <th>50%</th>\n",
       "      <td>1.000000</td>\n",
       "      <td>1.0</td>\n",
       "      <td>8.000000</td>\n",
       "      <td>7.000000</td>\n",
       "      <td>163.000000</td>\n",
       "      <td>1.000000</td>\n",
       "      <td>0.000000</td>\n",
       "      <td>0.000000</td>\n",
       "      <td>4.000000</td>\n",
       "      <td>0.000000</td>\n",
       "      <td>0.000000</td>\n",
       "      <td>0.000000</td>\n",
       "    </tr>\n",
       "    <tr>\n",
       "      <th>75%</th>\n",
       "      <td>1.000000</td>\n",
       "      <td>1.0</td>\n",
       "      <td>20.000000</td>\n",
       "      <td>15.000000</td>\n",
       "      <td>528.000000</td>\n",
       "      <td>2.000000</td>\n",
       "      <td>1.000000</td>\n",
       "      <td>0.000000</td>\n",
       "      <td>6.000000</td>\n",
       "      <td>0.000000</td>\n",
       "      <td>1.000000</td>\n",
       "      <td>0.000000</td>\n",
       "    </tr>\n",
       "    <tr>\n",
       "      <th>max</th>\n",
       "      <td>1.000000</td>\n",
       "      <td>1.0</td>\n",
       "      <td>500.000000</td>\n",
       "      <td>469.000000</td>\n",
       "      <td>19017.000000</td>\n",
       "      <td>121.000000</td>\n",
       "      <td>1.000000</td>\n",
       "      <td>1.000000</td>\n",
       "      <td>7.000000</td>\n",
       "      <td>1.000000</td>\n",
       "      <td>1.000000</td>\n",
       "      <td>1.000000</td>\n",
       "    </tr>\n",
       "  </tbody>\n",
       "</table>\n",
       "</div>"
      ],
      "text/plain": [
       "       isFirstVisit  totalVisits     totalHits  totalPageviews  \\\n",
       "count  55995.000000      55995.0  55995.000000    55995.000000   \n",
       "mean       0.692008          1.0     15.636164       11.877257   \n",
       "std        0.461667          0.0     21.780946       15.544879   \n",
       "min        0.000000          1.0      2.000000        0.000000   \n",
       "25%        0.000000          1.0      3.000000        3.000000   \n",
       "50%        1.000000          1.0      8.000000        7.000000   \n",
       "75%        1.000000          1.0     20.000000       15.000000   \n",
       "max        1.000000          1.0    500.000000      469.000000   \n",
       "\n",
       "       totalTimeOnSite  productPagesViewed   addedToCart    isMobile_1  \\\n",
       "count     55995.000000        55995.000000  55995.000000  55995.000000   \n",
       "mean        434.476525            1.852737      0.452790      0.197464   \n",
       "std         693.222734            3.830399      0.497771      0.398089   \n",
       "min           1.000000            0.000000      0.000000      0.000000   \n",
       "25%          52.000000            0.000000      0.000000      0.000000   \n",
       "50%         163.000000            1.000000      0.000000      0.000000   \n",
       "75%         528.000000            2.000000      1.000000      0.000000   \n",
       "max       19017.000000          121.000000      1.000000      1.000000   \n",
       "\n",
       "          dayOfWeek     isWeekend       isApple  hasRecentVisit  \n",
       "count  55995.000000  55995.000000  55995.000000    55995.000000  \n",
       "mean       4.008715      0.197553      0.474507        0.177141  \n",
       "std        1.825317      0.398157      0.499354        0.381791  \n",
       "min        1.000000      0.000000      0.000000        0.000000  \n",
       "25%        3.000000      0.000000      0.000000        0.000000  \n",
       "50%        4.000000      0.000000      0.000000        0.000000  \n",
       "75%        6.000000      0.000000      1.000000        0.000000  \n",
       "max        7.000000      1.000000      1.000000        1.000000  "
      ]
     },
     "execution_count": 676,
     "metadata": {},
     "output_type": "execute_result"
    }
   ],
   "source": [
    "df.describe()"
   ]
  },
  {
   "cell_type": "code",
   "execution_count": 677,
   "metadata": {},
   "outputs": [
    {
     "data": {
      "text/plain": [
       "desktop    44937\n",
       "mobile      9508\n",
       "tablet      1550\n",
       "Name: deviceCategory, dtype: int64"
      ]
     },
     "execution_count": 677,
     "metadata": {},
     "output_type": "execute_result"
    }
   ],
   "source": [
    "df['deviceCategory'].value_counts()"
   ]
  },
  {
   "cell_type": "code",
   "execution_count": 678,
   "metadata": {},
   "outputs": [
    {
     "data": {
      "text/plain": [
       "United States       31461\n",
       "India                2341\n",
       "Canada               2183\n",
       "Vietnam              1409\n",
       "United Kingdom       1347\n",
       "                    ...  \n",
       "Ethiopia                1\n",
       "Dominica                1\n",
       "Papua New Guinea        1\n",
       "Grenada                 1\n",
       "Gabon                   1\n",
       "Name: country, Length: 174, dtype: int64"
      ]
     },
     "execution_count": 678,
     "metadata": {},
     "output_type": "execute_result"
    }
   ],
   "source": [
    "df['country'].value_counts()"
   ]
  },
  {
   "cell_type": "code",
   "execution_count": 679,
   "metadata": {},
   "outputs": [
    {
     "data": {
      "text/plain": [
       "(not set)                             54260\n",
       "Data Share Promo                        975\n",
       "AW - Dynamic Search Ads Whole Site      558\n",
       "AW - Accessories                        188\n",
       "AW - Electronics                         13\n",
       "AW - Apparel                              1\n",
       "Name: trafficCampaign, dtype: int64"
      ]
     },
     "execution_count": 679,
     "metadata": {},
     "output_type": "execute_result"
    }
   ],
   "source": [
    "df['trafficCampaign'].value_counts()"
   ]
  },
  {
   "cell_type": "code",
   "execution_count": 680,
   "metadata": {},
   "outputs": [
    {
     "data": {
      "image/png": "[encoded data removed]",
      "text/plain": [
       "<Figure size 1152x576 with 1 Axes>"
      ]
     },
     "metadata": {
      "needs_background": "light"
     },
     "output_type": "display_data"
    }
   ],
   "source": [
    "plot_categorical_variable(df, 'trafficCampaign', 'addedToCart') #'domainSourceFiltered')"
   ]
  },
  {
   "cell_type": "code",
   "execution_count": 705,
   "metadata": {},
   "outputs": [
    {
     "data": {
      "image/png": "[encoded data removed]",
      "text/plain": [
       "<Figure size 1152x576 with 1 Axes>"
      ]
     },
     "metadata": {
      "needs_background": "light"
     },
     "output_type": "display_data"
    }
   ],
   "source": [
    "plot_categorical_variable(df, 'domainSourceFiltered', 'addedToCart') #'domainSourceFiltered')"
   ]
  },
  {
   "cell_type": "markdown",
   "metadata": {},
   "source": [
    "## Preprocessing"
   ]
  },
  {
   "cell_type": "code",
   "execution_count": 681,
   "metadata": {},
   "outputs": [],
   "source": [
    "@np.vectorize\n",
    "def binarize_time_on_site(time, threshold=5):\n",
    "    return 1 if time > 5 else 0\n",
    "\n",
    "@np.vectorize\n",
    "def binarize_product_pages_viewed(pv):\n",
    "    if pv <= 1:\n",
    "        return 1\n",
    "    elif pv > 1 and pv <= 3:\n",
    "        return 2\n",
    "    elif pv > 3:\n",
    "        return 5\n",
    "    return 0\n",
    "\n",
    "\n",
    "@np.vectorize\n",
    "def get_continent_code(country): \n",
    "    try:\n",
    "        country_code = pc.country_name_to_country_alpha2(country, cn_name_format=\"default\")\n",
    "\n",
    "        return pc.country_alpha2_to_continent_code(country_code)\n",
    "    except:\n",
    "        return 'Other'"
   ]
  },
  {
   "cell_type": "code",
   "execution_count": 967,
   "metadata": {},
   "outputs": [],
   "source": [
    "domain_value_counts = df['domainSource'].value_counts()\n",
    "invalid_domains = list(domain_value_counts[domain_value_counts < 100].index)\n",
    "df['domainSourceFiltered'] = df['domainSource'].apply(lambda x : \"OTHER\" if x in invalid_domains else x)"
   ]
  },
  {
   "cell_type": "code",
   "execution_count": 968,
   "metadata": {},
   "outputs": [],
   "source": [
    "def get_relation(data: pd.DataFrame(), col: str):\n",
    "    relation_df = pd.DataFrame(data\\\n",
    "        .groupby(by=[col, 'addedToCart'])\\\n",
    "        .count()['fullVisitorId']).reset_index()\\\n",
    "        .pivot(index=col, columns='addedToCart', values='fullVisitorId')\n",
    "    relation_df['percent'] = relation_df[1] / (relation_df[0]+relation_df[1])\n",
    "    return relation_df"
   ]
  },
  {
   "cell_type": "code",
   "execution_count": 684,
   "metadata": {},
   "outputs": [
    {
     "data": {
      "text/html": [
       "<div>\n",
       "<style scoped>\n",
       "    .dataframe tbody tr th:only-of-type {\n",
       "        vertical-align: middle;\n",
       "    }\n",
       "\n",
       "    .dataframe tbody tr th {\n",
       "        vertical-align: top;\n",
       "    }\n",
       "\n",
       "    .dataframe thead th {\n",
       "        text-align: right;\n",
       "    }\n",
       "</style>\n",
       "<table border=\"1\" class=\"dataframe\">\n",
       "  <thead>\n",
       "    <tr style=\"text-align: right;\">\n",
       "      <th>addedToCart</th>\n",
       "      <th>0</th>\n",
       "      <th>1</th>\n",
       "      <th>percent</th>\n",
       "    </tr>\n",
       "    <tr>\n",
       "      <th>trafficMedium</th>\n",
       "      <th></th>\n",
       "      <th></th>\n",
       "      <th></th>\n",
       "    </tr>\n",
       "  </thead>\n",
       "  <tbody>\n",
       "    <tr>\n",
       "      <th>(none)</th>\n",
       "      <td>14650.0</td>\n",
       "      <td>15843.0</td>\n",
       "      <td>0.519562</td>\n",
       "    </tr>\n",
       "    <tr>\n",
       "      <th>(not set)</th>\n",
       "      <td>NaN</td>\n",
       "      <td>2.0</td>\n",
       "      <td>NaN</td>\n",
       "    </tr>\n",
       "    <tr>\n",
       "      <th>affiliate</th>\n",
       "      <td>573.0</td>\n",
       "      <td>402.0</td>\n",
       "      <td>0.412308</td>\n",
       "    </tr>\n",
       "    <tr>\n",
       "      <th>cpc</th>\n",
       "      <td>336.0</td>\n",
       "      <td>476.0</td>\n",
       "      <td>0.586207</td>\n",
       "    </tr>\n",
       "    <tr>\n",
       "      <th>cpm</th>\n",
       "      <td>251.0</td>\n",
       "      <td>263.0</td>\n",
       "      <td>0.511673</td>\n",
       "    </tr>\n",
       "    <tr>\n",
       "      <th>organic</th>\n",
       "      <td>4709.0</td>\n",
       "      <td>6775.0</td>\n",
       "      <td>0.589951</td>\n",
       "    </tr>\n",
       "    <tr>\n",
       "      <th>referral</th>\n",
       "      <td>10122.0</td>\n",
       "      <td>1593.0</td>\n",
       "      <td>0.135980</td>\n",
       "    </tr>\n",
       "  </tbody>\n",
       "</table>\n",
       "</div>"
      ],
      "text/plain": [
       "addedToCart          0        1   percent\n",
       "trafficMedium                            \n",
       "(none)         14650.0  15843.0  0.519562\n",
       "(not set)          NaN      2.0       NaN\n",
       "affiliate        573.0    402.0  0.412308\n",
       "cpc              336.0    476.0  0.586207\n",
       "cpm              251.0    263.0  0.511673\n",
       "organic         4709.0   6775.0  0.589951\n",
       "referral       10122.0   1593.0  0.135980"
      ]
     },
     "execution_count": 684,
     "metadata": {},
     "output_type": "execute_result"
    }
   ],
   "source": [
    "get_relation(df, 'trafficMedium')"
   ]
  },
  {
   "cell_type": "markdown",
   "metadata": {},
   "source": [
    "## Removing Outliers"
   ]
  },
  {
   "cell_type": "code",
   "execution_count": 685,
   "metadata": {},
   "outputs": [],
   "source": [
    "class TukeyOutlierRemover(BaseEstimator, TransformerMixin):\n",
    "\n",
    "    __outliers = []\n",
    "    __outliers_per_feature = {}\n",
    "\n",
    "    def __init__(self, features):\n",
    "        self.features = features\n",
    "\n",
    "    def transform(self, X):\n",
    "        return X.drop(self.__outliers, axis=0)\n",
    "\n",
    "    def fit(self, X, y=None):\n",
    "        outliers = []\n",
    "        for col in self.features:\n",
    "            feature_outliers = []\n",
    "            feature_outliers.extend(X[X[col].isna()].index)\n",
    "            Q1 = np.percentile(X[col].dropna(), 25)\n",
    "            Q3 = np.percentile(X[col].dropna(), 75)\n",
    "            IQR = Q3 - Q1\n",
    "            outlier_step = 1.5 * IQR\n",
    "            feature_outliers.extend(X[(X[col] < Q1 - outlier_step) | (X[col] > Q3 + outlier_step)].index)\n",
    "            outliers.extend(feature_outliers)\n",
    "            self.__outliers_per_feature[col] = feature_outliers\n",
    "        self.__outliers = list(key for key, value in Counter(outliers).items())\n",
    "        return self\n",
    "\n",
    "    def get_outliers(self):\n",
    "        return self.__outliers\n",
    "\n",
    "    def get_outliers_per_feature(self, feature=None):\n",
    "        if feature is not None:\n",
    "            return self.__outliers_per_feature[feature]\n",
    "        else:\n",
    "            return self.__outliers_per_feature"
   ]
  },
  {
   "cell_type": "code",
   "execution_count": 969,
   "metadata": {},
   "outputs": [],
   "source": [
    "columns_with_outliers = [\"productPagesViewed\", \"totalPageviews\"]"
   ]
  },
  {
   "cell_type": "code",
   "execution_count": 970,
   "metadata": {},
   "outputs": [
    {
     "name": "stdout",
     "output_type": "stream",
     "text": [
      "5752\n"
     ]
    }
   ],
   "source": [
    "outlierRemover = TukeyOutlierRemover(columns_with_outliers)\n",
    "df = outlierRemover.fit_transform(df)\n",
    "print(len(outlierRemover.get_outliers()))"
   ]
  },
  {
   "cell_type": "code",
   "execution_count": 971,
   "metadata": {},
   "outputs": [
    {
     "data": {
      "text/plain": [
       "50158"
      ]
     },
     "execution_count": 971,
     "metadata": {},
     "output_type": "execute_result"
    }
   ],
   "source": [
    "len(df)"
   ]
  },
  {
   "cell_type": "code",
   "execution_count": 972,
   "metadata": {},
   "outputs": [
    {
     "data": {
      "text/html": [
       "<div>\n",
       "<style scoped>\n",
       "    .dataframe tbody tr th:only-of-type {\n",
       "        vertical-align: middle;\n",
       "    }\n",
       "\n",
       "    .dataframe tbody tr th {\n",
       "        vertical-align: top;\n",
       "    }\n",
       "\n",
       "    .dataframe thead th {\n",
       "        text-align: right;\n",
       "    }\n",
       "</style>\n",
       "<table border=\"1\" class=\"dataframe\">\n",
       "  <thead>\n",
       "    <tr style=\"text-align: right;\">\n",
       "      <th></th>\n",
       "      <th>hasRecentVisit</th>\n",
       "      <th>addedToCart</th>\n",
       "      <th>dayOfWeek</th>\n",
       "      <th>isWeekend</th>\n",
       "      <th>domainSourceFiltered</th>\n",
       "      <th>deviceCategory</th>\n",
       "      <th>isMobile</th>\n",
       "      <th>trafficMedium</th>\n",
       "      <th>trafficCampaign</th>\n",
       "      <th>isFirstVisit</th>\n",
       "      <th>totalPageviews</th>\n",
       "      <th>productPagesViewed</th>\n",
       "    </tr>\n",
       "  </thead>\n",
       "  <tbody>\n",
       "    <tr>\n",
       "      <th>0</th>\n",
       "      <td>0</td>\n",
       "      <td>1</td>\n",
       "      <td>2</td>\n",
       "      <td>0</td>\n",
       "      <td>None</td>\n",
       "      <td>desktop</td>\n",
       "      <td>False</td>\n",
       "      <td>organic</td>\n",
       "      <td>(not set)</td>\n",
       "      <td>1</td>\n",
       "      <td>23</td>\n",
       "      <td>1</td>\n",
       "    </tr>\n",
       "    <tr>\n",
       "      <th>1</th>\n",
       "      <td>0</td>\n",
       "      <td>1</td>\n",
       "      <td>4</td>\n",
       "      <td>0</td>\n",
       "      <td>None</td>\n",
       "      <td>mobile</td>\n",
       "      <td>True</td>\n",
       "      <td>cpc</td>\n",
       "      <td>AW - Accessories</td>\n",
       "      <td>1</td>\n",
       "      <td>17</td>\n",
       "      <td>1</td>\n",
       "    </tr>\n",
       "    <tr>\n",
       "      <th>2</th>\n",
       "      <td>0</td>\n",
       "      <td>1</td>\n",
       "      <td>6</td>\n",
       "      <td>0</td>\n",
       "      <td>None</td>\n",
       "      <td>desktop</td>\n",
       "      <td>False</td>\n",
       "      <td>(none)</td>\n",
       "      <td>(not set)</td>\n",
       "      <td>1</td>\n",
       "      <td>9</td>\n",
       "      <td>0</td>\n",
       "    </tr>\n",
       "    <tr>\n",
       "      <th>3</th>\n",
       "      <td>0</td>\n",
       "      <td>1</td>\n",
       "      <td>2</td>\n",
       "      <td>0</td>\n",
       "      <td>None</td>\n",
       "      <td>desktop</td>\n",
       "      <td>False</td>\n",
       "      <td>(none)</td>\n",
       "      <td>(not set)</td>\n",
       "      <td>1</td>\n",
       "      <td>19</td>\n",
       "      <td>1</td>\n",
       "    </tr>\n",
       "    <tr>\n",
       "      <th>5</th>\n",
       "      <td>0</td>\n",
       "      <td>1</td>\n",
       "      <td>5</td>\n",
       "      <td>0</td>\n",
       "      <td>None</td>\n",
       "      <td>desktop</td>\n",
       "      <td>False</td>\n",
       "      <td>organic</td>\n",
       "      <td>(not set)</td>\n",
       "      <td>1</td>\n",
       "      <td>9</td>\n",
       "      <td>1</td>\n",
       "    </tr>\n",
       "  </tbody>\n",
       "</table>\n",
       "</div>"
      ],
      "text/plain": [
       "   hasRecentVisit  addedToCart  dayOfWeek  isWeekend domainSourceFiltered  \\\n",
       "0               0            1          2          0                 None   \n",
       "1               0            1          4          0                 None   \n",
       "2               0            1          6          0                 None   \n",
       "3               0            1          2          0                 None   \n",
       "5               0            1          5          0                 None   \n",
       "\n",
       "  deviceCategory  isMobile trafficMedium   trafficCampaign  isFirstVisit  \\\n",
       "0        desktop     False       organic         (not set)             1   \n",
       "1         mobile      True           cpc  AW - Accessories             1   \n",
       "2        desktop     False        (none)         (not set)             1   \n",
       "3        desktop     False        (none)         (not set)             1   \n",
       "5        desktop     False       organic         (not set)             1   \n",
       "\n",
       "   totalPageviews  productPagesViewed  \n",
       "0              23                   1  \n",
       "1              17                   1  \n",
       "2               9                   0  \n",
       "3              19                   1  \n",
       "5               9                   1  "
      ]
     },
     "execution_count": 972,
     "metadata": {},
     "output_type": "execute_result"
    }
   ],
   "source": [
    "valid_columns = ['hasRecentVisit', 'addedToCart', 'dayOfWeek', 'isWeekend', 'domainSourceFiltered', 'deviceCategory', 'isMobile', 'trafficMedium', 'trafficCampaign', 'isFirstVisit', 'totalPageviews', 'productPagesViewed']\n",
    "df[valid_columns].head()"
   ]
  },
  {
   "cell_type": "code",
   "execution_count": 690,
   "metadata": {},
   "outputs": [
    {
     "data": {
      "text/plain": [
       "['addedToCart',\n",
       " 'dayOfWeek',\n",
       " 'isWeekend',\n",
       " 'domainSourceFiltered',\n",
       " 'deviceCategory',\n",
       " 'isMobile',\n",
       " 'trafficMedium',\n",
       " 'trafficCampaign',\n",
       " 'isFirstVisit',\n",
       " 'totalPageviews',\n",
       " 'productPagesViewed']"
      ]
     },
     "execution_count": 690,
     "metadata": {},
     "output_type": "execute_result"
    }
   ],
   "source": [
    "valid_columns"
   ]
  },
  {
   "cell_type": "code",
   "execution_count": 861,
   "metadata": {},
   "outputs": [
    {
     "name": "stdout",
     "output_type": "stream",
     "text": [
      "Colum: hasRecentVisit \n",
      "0\n",
      "Colum: addedToCart \n",
      "0\n",
      "Colum: dayOfWeek \n",
      "0\n",
      "Colum: isWeekend \n",
      "0\n",
      "Colum: domainSourceFiltered \n",
      "38502\n",
      "Colum: deviceCategory \n",
      "0\n",
      "Colum: isMobile \n",
      "0\n",
      "Colum: trafficMedium \n",
      "0\n",
      "Colum: trafficCampaign \n",
      "0\n",
      "Colum: isFirstVisit \n",
      "0\n",
      "Colum: totalPageviews \n",
      "0\n",
      "Colum: productPagesViewed \n",
      "0\n"
     ]
    }
   ],
   "source": [
    "for column in valid_columns:\n",
    "    print(\"Colum: {} \".format(column))\n",
    "    print(df[column].isna().sum())"
   ]
  },
  {
   "cell_type": "markdown",
   "metadata": {},
   "source": [
    "## Correlation Matrix"
   ]
  },
  {
   "cell_type": "code",
   "execution_count": 692,
   "metadata": {},
   "outputs": [],
   "source": [
    "def print_PCF(df):\n",
    "    colormap = plt.cm.RdBu\n",
    "    plt.figure(figsize=(14,12))\n",
    "    plt.title('Pearson Correlation of Features', y=1.05, size=15)\n",
    "    sns.heatmap(df.corr(), linewidths=0.1, vmax=1.0, square=True, cmap=colormap, linecolor='white', annot=True)"
   ]
  },
  {
   "cell_type": "code",
   "execution_count": 693,
   "metadata": {},
   "outputs": [],
   "source": [
    "def to_integer(df, feature):\n",
    "    le = preprocessing.LabelEncoder()\n",
    "    le.fit(df[feature])\n",
    "    df[feature] = le.transform(df[feature])\n",
    "    return df"
   ]
  },
  {
   "cell_type": "code",
   "execution_count": 973,
   "metadata": {},
   "outputs": [],
   "source": [
    "df['is_facebook'] = (df['domainSourceFiltered']=='facebook.com').astype(int)\n",
    "df['is_youtube'] = (df['domainSourceFiltered']=='youtube.com').astype(int)"
   ]
  },
  {
   "cell_type": "code",
   "execution_count": 888,
   "metadata": {},
   "outputs": [],
   "source": [
    "df_with_ints = df.copy()\n",
    "for column in ['domainSourceFiltered', 'deviceCategory', 'trafficMedium', 'trafficCampaign']:\n",
    "    to_integer(df_with_ints, column)"
   ]
  },
  {
   "cell_type": "code",
   "execution_count": 889,
   "metadata": {},
   "outputs": [
    {
     "data": {
      "text/plain": [
       "(49923, 27)"
      ]
     },
     "execution_count": 889,
     "metadata": {},
     "output_type": "execute_result"
    }
   ],
   "source": [
    "df.shape"
   ]
  },
  {
   "cell_type": "code",
   "execution_count": 890,
   "metadata": {},
   "outputs": [
    {
     "data": {
      "image/png": "[encoded data removed]",
      "text/plain": [
       "<Figure size 1008x864 with 2 Axes>"
      ]
     },
     "metadata": {
      "needs_background": "light"
     },
     "output_type": "display_data"
    }
   ],
   "source": [
    "print_PCF(df_with_ints[valid_columns])"
   ]
  },
  {
   "cell_type": "code",
   "execution_count": 928,
   "metadata": {},
   "outputs": [],
   "source": [
    "most_correlated_features = ['addedToCart', 'trafficMedium', 'isFirstVisit', 'totalPageviews']\n",
    "most_correlated_features_2 = ['addedToCart', 'trafficMedium', 'isFirstVisit', 'totalPageviews', 'productPagesViewed']\n",
    "valid_columns = ['addedToCart', 'isWeekend', 'domainSourceFiltered', 'deviceCategory', 'isMobile', 'trafficMedium', 'trafficCampaign', 'isFirstVisit', 'totalPageviews', 'productPagesViewed']\n",
    "all_features_except_pv = ['addedToCart', 'isWeekend', 'domainSourceFiltered', 'deviceCategory', 'isMobile', 'trafficMedium', 'trafficCampaign', 'isFirstVisit', 'totalPageviews']"
   ]
  },
  {
   "cell_type": "code",
   "execution_count": 974,
   "metadata": {},
   "outputs": [],
   "source": [
    "winner_columns = ['noTimeOnSite', 'addedToCart', 'trafficMedium', 'isFirstVisit', 'totalPageviews', 'productPagesViewed', 'is_facebook', 'is_youtube'] "
   ]
  },
  {
   "cell_type": "code",
   "execution_count": 952,
   "metadata": {},
   "outputs": [
    {
     "data": {
      "text/plain": [
       "0    49942\n",
       "Name: noTimeOnSite, dtype: int64"
      ]
     },
     "execution_count": 952,
     "metadata": {},
     "output_type": "execute_result"
    }
   ],
   "source": [
    "df['noTimeOnSite'].value_counts()"
   ]
  },
  {
   "cell_type": "code",
   "execution_count": 953,
   "metadata": {},
   "outputs": [
    {
     "data": {
      "text/plain": [
       "49942"
      ]
     },
     "execution_count": 953,
     "metadata": {},
     "output_type": "execute_result"
    }
   ],
   "source": [
    "len(df)"
   ]
  },
  {
   "cell_type": "markdown",
   "metadata": {},
   "source": [
    "## Save temp tables to BQ"
   ]
  },
  {
   "cell_type": "code",
   "execution_count": 754,
   "metadata": {},
   "outputs": [
    {
     "data": {
      "text/plain": [
       "LoadJob<project=globohack-kaggle21-6924, location=EU, id=129926bc-4103-46d2-b2d1-80ca7990649a>"
      ]
     },
     "execution_count": 754,
     "metadata": {},
     "output_type": "execute_result"
    }
   ],
   "source": [
    "TABLE_NAME = \"train_processed_v1\"\n",
    "pandas_to_bq(df[most_correlated_features].reset_index(drop=True), TABLE_NAME)"
   ]
  },
  {
   "cell_type": "code",
   "execution_count": 830,
   "metadata": {},
   "outputs": [
    {
     "data": {
      "text/plain": [
       "LoadJob<project=globohack-kaggle21-6924, location=EU, id=4befb28c-0ff3-46a1-9f9f-9e2158bccde9>"
      ]
     },
     "execution_count": 830,
     "metadata": {},
     "output_type": "execute_result"
    }
   ],
   "source": [
    "TABLE_NAME = \"train_processed_v21\"\n",
    "pandas_to_bq(df[most_correlated_features_2].reset_index(drop=True), TABLE_NAME)"
   ]
  },
  {
   "cell_type": "code",
   "execution_count": 756,
   "metadata": {},
   "outputs": [
    {
     "data": {
      "text/plain": [
       "LoadJob<project=globohack-kaggle21-6924, location=EU, id=f6d71ad7-399b-471d-a758-f66536116445>"
      ]
     },
     "execution_count": 756,
     "metadata": {},
     "output_type": "execute_result"
    }
   ],
   "source": [
    "TABLE_NAME = \"train_processed_v3\"\n",
    "pandas_to_bq(df[all_features_except_pv].reset_index(drop=True), TABLE_NAME)"
   ]
  },
  {
   "cell_type": "code",
   "execution_count": 894,
   "metadata": {},
   "outputs": [
    {
     "data": {
      "text/plain": [
       "LoadJob<project=globohack-kaggle21-6924, location=EU, id=a405a9de-e895-4f1e-bec1-eba1665b8995>"
      ]
     },
     "execution_count": 894,
     "metadata": {},
     "output_type": "execute_result"
    }
   ],
   "source": [
    "TABLE_NAME = \"train_processed_v22\"\n",
    "pandas_to_bq(df[winner_columns].reset_index(drop=True), TABLE_NAME)"
   ]
  },
  {
   "cell_type": "code",
   "execution_count": 976,
   "metadata": {},
   "outputs": [
    {
     "data": {
      "text/plain": [
       "LoadJob<project=globohack-kaggle21-6924, location=EU, id=22a45b17-acb5-40e4-8934-dc4c2ccd1ff9>"
      ]
     },
     "execution_count": 976,
     "metadata": {},
     "output_type": "execute_result"
    }
   ],
   "source": [
    "TABLE_NAME = \"train_processed_v4\"\n",
    "pandas_to_bq(df[winner_columns].reset_index(drop=True), TABLE_NAME)"
   ]
  },
  {
   "cell_type": "markdown",
   "metadata": {},
   "source": [
    "# Train"
   ]
  },
  {
   "cell_type": "markdown",
   "metadata": {},
   "source": [
    "<a id=\"train\"></a>"
   ]
  },
  {
   "cell_type": "markdown",
   "metadata": {},
   "source": [
    "#### Train a BigQuery ML model: benchmark"
   ]
  },
  {
   "cell_type": "code",
   "execution_count": 14,
   "metadata": {},
   "outputs": [
    {
     "data": {
      "text/plain": [
       "'Query sent asynchronously for job id: 3b73beb1-65ef-4654-9ec5-c9f6531024c2'"
      ]
     },
     "execution_count": 14,
     "metadata": {},
     "output_type": "execute_result"
    }
   ],
   "source": [
    "sql_logreg_sample = \"\"\"\n",
    "CREATE OR REPLACE MODEL bqmlretail.logreg_sample\n",
    "TRANSFORM(\n",
    "  LOWER(country) country_lower,\n",
    "  totalPageviews,\n",
    "  addedToCart\n",
    ")\n",
    "OPTIONS(\n",
    "  model_type='logistic_reg', \n",
    "  INPUT_LABEL_COLS=[\"addedToCart\"]) AS\n",
    "SELECT \n",
    "  *\n",
    "FROM\n",
    "  kaggleworkshops.google_analytics_sample_eu.train\n",
    "WHERE date BETWEEN TIMESTAMP(\"2016-08-01\")\n",
    "  AND TIMESTAMP(\"2016-08-31\")\n",
    "\"\"\"\n",
    "\n",
    "#send asynchronously\n",
    "bq_query(sql = sql_logreg_sample,\n",
    "        async_flag=True)"
   ]
  },
  {
   "cell_type": "markdown",
   "metadata": {},
   "source": [
    "### 1. Logistic regression with hyperparam tunning"
   ]
  },
  {
   "cell_type": "code",
   "execution_count": 977,
   "metadata": {},
   "outputs": [
    {
     "data": {
      "text/plain": [
       "'Query sent asynchronously for job id: 0eede3af-9ce4-4c2b-bbcf-e768137a7c2f'"
      ]
     },
     "execution_count": 977,
     "metadata": {},
     "output_type": "execute_result"
    }
   ],
   "source": [
    "TABLE_NAME = \"train_processed_v4\"\n",
    "model_name = 'logistic_reg_v4'\n",
    "\n",
    "sql_logreg_sample = f\"\"\"\n",
    "CREATE OR REPLACE MODEL bqmlretail.{model_name}\n",
    "TRANSFORM(\"\"\"\n",
    "\n",
    "sql_logreg_sample += ', '.join(df[winner_columns].columns)\n",
    "  \n",
    "sql_logreg_sample += f\"\"\"\n",
    ")\n",
    "OPTIONS(\n",
    "  model_type='logistic_reg', \n",
    "  INPUT_LABEL_COLS=[\"addedToCart\"],\n",
    "  num_trials=10,\n",
    "  HPARAM_TUNING_ALGORITHM = 'VIZIER_DEFAULT',\n",
    "  HPARAM_TUNING_OBJECTIVES = ['ROC_AUC'],\n",
    "  DATA_SPLIT_METHOD = 'RANDOM', \n",
    "  l1_reg = HPARAM_RANGE(0, 10),\n",
    "  l2_reg = HPARAM_RANGE(0, 10)\n",
    ") AS\n",
    "SELECT \n",
    "  *\n",
    "FROM\n",
    "  `{PROJECT_ID}.{DATASET_ID}.{TABLE_NAME}`\n",
    "\"\"\"\n",
    "\n",
    "#send asynchronously\n",
    "bq_query(sql = sql_logreg_sample, async_flag=True)"
   ]
  },
  {
   "cell_type": "markdown",
   "metadata": {},
   "source": [
    "### 2. Boosted Tree Classifier"
   ]
  },
  {
   "cell_type": "code",
   "execution_count": 988,
   "metadata": {},
   "outputs": [],
   "source": [
    "TABLE_NAME = \"train_processed_v4\""
   ]
  },
  {
   "cell_type": "code",
   "execution_count": 1022,
   "metadata": {},
   "outputs": [
    {
     "data": {
      "text/plain": [
       "'Query sent asynchronously for job id: 108b7de9-0634-428d-b2ad-b04621a98bac'"
      ]
     },
     "execution_count": 1022,
     "metadata": {},
     "output_type": "execute_result"
    }
   ],
   "source": [
    "model_name = 'boosted_tree_classifier_v7'\n",
    "\n",
    "sql_tree_classifier = f\"\"\"\n",
    "CREATE OR REPLACE MODEL bqmlretail.{model_name}\n",
    "TRANSFORM(\"\"\"\n",
    "\n",
    "sql_tree_classifier += ', '.join(df[winner_columns].columns)\n",
    "  \n",
    "sql_tree_classifier += f\"\"\"\n",
    ")\n",
    "OPTIONS(\n",
    "  model_type='boosted_tree_classifier', \n",
    "  INPUT_LABEL_COLS=[\"addedToCart\"],\n",
    "  num_trials=5,\n",
    "  HPARAM_TUNING_ALGORITHM = 'VIZIER_DEFAULT',\n",
    "  HPARAM_TUNING_OBJECTIVES = ['ROC_AUC'],\n",
    "  DATA_SPLIT_METHOD = 'RANDOM', \n",
    "  l2_reg = HPARAM_RANGE(0, 10),\n",
    "  max_tree_depth = HPARAM_RANGE(1, 5),\n",
    "  num_parallel_tree=1\n",
    ") AS\n",
    "SELECT \n",
    "  *\n",
    "FROM\n",
    "  `{PROJECT_ID}.{DATASET_ID}.{TABLE_NAME}`\n",
    "\"\"\"\n",
    "\n",
    "#send asynchronously\n",
    "bq_query(sql = sql_tree_classifier, async_flag=True)"
   ]
  },
  {
   "cell_type": "markdown",
   "metadata": {},
   "source": [
    "## DNN"
   ]
  },
  {
   "cell_type": "code",
   "execution_count": 1015,
   "metadata": {},
   "outputs": [],
   "source": [
    "TABLE_NAME = \"train_processed_v4\""
   ]
  },
  {
   "cell_type": "code",
   "execution_count": 1058,
   "metadata": {},
   "outputs": [
    {
     "data": {
      "text/plain": [
       "'Query sent asynchronously for job id: b5a58750-8e96-466a-aa40-979eed24146c'"
      ]
     },
     "execution_count": 1058,
     "metadata": {},
     "output_type": "execute_result"
    }
   ],
   "source": [
    "model_name = 'dnn_classifier_v2'\n",
    "\n",
    "sql_dnn_classifier = f\"\"\"\n",
    "CREATE OR REPLACE MODEL bqmlretail.{model_name}\n",
    "TRANSFORM(\"\"\"\n",
    "\n",
    "sql_dnn_classifier += ', '.join(df[winner_columns].columns)\n",
    "  \n",
    "sql_dnn_classifier += f\"\"\"\n",
    ")\n",
    "OPTIONS(\n",
    "  model_type='dnn_classifier', \n",
    "  INPUT_LABEL_COLS=[\"addedToCart\"],\n",
    "  num_trials=1,\n",
    "  DATA_SPLIT_METHOD = 'RANDOM', \n",
    "  OPTIMIZER='SGD',\n",
    "  ACTIVATION_FN='RELU',\n",
    "  HPARAM_TUNING_ALGORITHM = 'VIZIER_DEFAULT',\n",
    "  HPARAM_TUNING_OBJECTIVES = ['ROC_AUC'],\n",
    "  l1_reg = HPARAM_RANGE(0, 10),\n",
    "  HIDDEN_UNITS = HPARAM_RANGE(8, 16)\n",
    ") AS\n",
    "SELECT \n",
    "  *\n",
    "FROM\n",
    "  `{PROJECT_ID}.{DATASET_ID}.{TABLE_NAME}`\n",
    "\"\"\"\n",
    "\n",
    "#send asynchronously\n",
    "bq_query(sql = sql_dnn_classifier, async_flag=True)"
   ]
  },
  {
   "cell_type": "markdown",
   "metadata": {},
   "source": [
    "Other model types for classification:\n",
    " - [`logistic_reg`](https://cloud.google.com/bigquery-ml/docs/reference/standard-sql/bigqueryml-syntax-create)\n",
    " - [`boosted_tree_classifier`](https://cloud.google.com/bigquery-ml/docs/reference/standard-sql/bigqueryml-syntax-create-boosted-tree)\n",
    " - [`dnn_classifier`](https://cloud.google.com/bigquery-ml/docs/reference/standard-sql/bigqueryml-syntax-create-dnn-models)\n",
    " - [`automl_classifier`](https://cloud.google.com/bigquery-ml/docs/reference/standard-sql/bigqueryml-syntax-create-automl)"
   ]
  },
  {
   "cell_type": "markdown",
   "metadata": {},
   "source": [
    "<a id=\"currentlytraining\"></a>"
   ]
  },
  {
   "cell_type": "markdown",
   "metadata": {},
   "source": [
    "#### Check models currently being trained on BigQuery"
   ]
  },
  {
   "cell_type": "markdown",
   "metadata": {},
   "source": [
    "This will check if the models in your project are still undergoing training."
   ]
  },
  {
   "cell_type": "code",
   "execution_count": 1064,
   "metadata": {},
   "outputs": [
    {
     "name": "stdout",
     "output_type": "stream",
     "text": [
      "\n",
      "SELECT\n",
      "    job_id,\n",
      "    creation_time,\n",
      "    query,\n",
      "    REGEXP_EXTRACT(query, r'bqmlretail\\.\\w+') AS modelname\n",
      "FROM `region-eu`.INFORMATION_SCHEMA.JOBS_BY_USER\n",
      "WHERE \n",
      "    REGEXP_CONTAINS(LOWER(query), 'create (or replace ){0,1}model')\n",
      "    AND NOT REGEXP_CONTAINS(LOWER(query), 'information_schema')\n",
      "    AND state != \"DONE\"\n",
      "\n",
      "3 models still currently training:\n"
     ]
    },
    {
     "data": {
      "text/html": [
       "<div>\n",
       "<style scoped>\n",
       "    .dataframe tbody tr th:only-of-type {\n",
       "        vertical-align: middle;\n",
       "    }\n",
       "\n",
       "    .dataframe tbody tr th {\n",
       "        vertical-align: top;\n",
       "    }\n",
       "\n",
       "    .dataframe thead th {\n",
       "        text-align: right;\n",
       "    }\n",
       "</style>\n",
       "<table border=\"1\" class=\"dataframe\">\n",
       "  <thead>\n",
       "    <tr style=\"text-align: right;\">\n",
       "      <th></th>\n",
       "      <th>job_id</th>\n",
       "      <th>creation_time</th>\n",
       "      <th>query</th>\n",
       "      <th>modelname</th>\n",
       "    </tr>\n",
       "  </thead>\n",
       "  <tbody>\n",
       "    <tr>\n",
       "      <th>0</th>\n",
       "      <td>108b7de9-0634-428d-b2ad-b04621a98bac</td>\n",
       "      <td>2021-11-10 04:29:56.698000+00:00</td>\n",
       "      <td>\\nCREATE OR REPLACE MODEL bqmlretail.boosted_tree_classifier_v7\\nTRANSFORM(noTimeOnSite, addedToCart, trafficMedium, isFirstVisit, totalPageviews, productPagesViewed, is_facebook, is_youtube\\n)\\nO...</td>\n",
       "      <td>bqmlretail.boosted_tree_classifier_v7</td>\n",
       "    </tr>\n",
       "    <tr>\n",
       "      <th>1</th>\n",
       "      <td>33793fff-2da8-4e10-905a-53fa4fd7276c</td>\n",
       "      <td>2021-11-10 04:43:24.429000+00:00</td>\n",
       "      <td>\\nCREATE OR REPLACE MODEL bqmlretail.dnn_classifier_v1\\nTRANSFORM(noTimeOnSite, addedToCart, trafficMedium, isFirstVisit, totalPageviews, productPagesViewed, is_facebook, is_youtube\\n)\\nOPTIONS(\\n...</td>\n",
       "      <td>bqmlretail.dnn_classifier_v1</td>\n",
       "    </tr>\n",
       "    <tr>\n",
       "      <th>2</th>\n",
       "      <td>b5a58750-8e96-466a-aa40-979eed24146c</td>\n",
       "      <td>2021-11-10 04:43:36.702000+00:00</td>\n",
       "      <td>\\nCREATE OR REPLACE MODEL bqmlretail.dnn_classifier_v2\\nTRANSFORM(noTimeOnSite, addedToCart, trafficMedium, isFirstVisit, totalPageviews, productPagesViewed, is_facebook, is_youtube\\n)\\nOPTIONS(\\n...</td>\n",
       "      <td>bqmlretail.dnn_classifier_v2</td>\n",
       "    </tr>\n",
       "  </tbody>\n",
       "</table>\n",
       "</div>"
      ],
      "text/plain": [
       "                                 job_id                    creation_time  \\\n",
       "0  108b7de9-0634-428d-b2ad-b04621a98bac 2021-11-10 04:29:56.698000+00:00   \n",
       "1  33793fff-2da8-4e10-905a-53fa4fd7276c 2021-11-10 04:43:24.429000+00:00   \n",
       "2  b5a58750-8e96-466a-aa40-979eed24146c 2021-11-10 04:43:36.702000+00:00   \n",
       "\n",
       "                                                                                                                                                                                                     query  \\\n",
       "0  \\nCREATE OR REPLACE MODEL bqmlretail.boosted_tree_classifier_v7\\nTRANSFORM(noTimeOnSite, addedToCart, trafficMedium, isFirstVisit, totalPageviews, productPagesViewed, is_facebook, is_youtube\\n)\\nO...   \n",
       "1  \\nCREATE OR REPLACE MODEL bqmlretail.dnn_classifier_v1\\nTRANSFORM(noTimeOnSite, addedToCart, trafficMedium, isFirstVisit, totalPageviews, productPagesViewed, is_facebook, is_youtube\\n)\\nOPTIONS(\\n...   \n",
       "2  \\nCREATE OR REPLACE MODEL bqmlretail.dnn_classifier_v2\\nTRANSFORM(noTimeOnSite, addedToCart, trafficMedium, isFirstVisit, totalPageviews, productPagesViewed, is_facebook, is_youtube\\n)\\nOPTIONS(\\n...   \n",
       "\n",
       "                               modelname  \n",
       "0  bqmlretail.boosted_tree_classifier_v7  \n",
       "1           bqmlretail.dnn_classifier_v1  \n",
       "2           bqmlretail.dnn_classifier_v2  "
      ]
     },
     "execution_count": 1064,
     "metadata": {},
     "output_type": "execute_result"
    }
   ],
   "source": [
    "sql_currentlyrunningqueries = f\"\"\"\n",
    "SELECT\n",
    "    job_id,\n",
    "    creation_time,\n",
    "    query,\n",
    "    REGEXP_EXTRACT(query, r'{DATASET_ID}\\.\\w+') AS modelname\n",
    "FROM `region-eu`.INFORMATION_SCHEMA.JOBS_BY_USER\n",
    "WHERE \n",
    "    REGEXP_CONTAINS(LOWER(query), 'create (or replace ){{0,1}}model')\n",
    "    AND NOT REGEXP_CONTAINS(LOWER(query), 'information_schema')\n",
    "    AND state != \"DONE\"\n",
    "\"\"\"\n",
    "\n",
    "print(sql_currentlyrunningqueries)\n",
    "\n",
    "#send asynchronously\n",
    "models_still_training = bq_query(sql_currentlyrunningqueries)\n",
    "\n",
    "print(f\"{len(models_still_training)} models still currently training:\")\n",
    "models_still_training"
   ]
  },
  {
   "cell_type": "markdown",
   "metadata": {},
   "source": [
    "<a id=\"finishedtraining\"></a>"
   ]
  },
  {
   "cell_type": "markdown",
   "metadata": {},
   "source": [
    "#### Check which models have finished training"
   ]
  },
  {
   "cell_type": "code",
   "execution_count": 1060,
   "metadata": {},
   "outputs": [
    {
     "name": "stdout",
     "output_type": "stream",
     "text": [
      "\n",
      "SELECT\n",
      "    job_id,\n",
      "    creation_time,\n",
      "    query,\n",
      "    REGEXP_EXTRACT(query, r'bqmlretail\\.\\w+') AS modelname\n",
      "FROM `region-eu`.INFORMATION_SCHEMA.JOBS_BY_USER\n",
      "WHERE \n",
      "    REGEXP_CONTAINS(LOWER(query), 'create (or replace ){0,1}model')\n",
      "    AND NOT REGEXP_CONTAINS(LOWER(query), 'information_schema')\n",
      "    AND state = \"DONE\"\n",
      "ORDER BY creation_time DESC\n",
      "\n"
     ]
    },
    {
     "data": {
      "text/html": [
       "<div>\n",
       "<style scoped>\n",
       "    .dataframe tbody tr th:only-of-type {\n",
       "        vertical-align: middle;\n",
       "    }\n",
       "\n",
       "    .dataframe tbody tr th {\n",
       "        vertical-align: top;\n",
       "    }\n",
       "\n",
       "    .dataframe thead th {\n",
       "        text-align: right;\n",
       "    }\n",
       "</style>\n",
       "<table border=\"1\" class=\"dataframe\">\n",
       "  <thead>\n",
       "    <tr style=\"text-align: right;\">\n",
       "      <th></th>\n",
       "      <th>job_id</th>\n",
       "      <th>creation_time</th>\n",
       "      <th>query</th>\n",
       "      <th>modelname</th>\n",
       "    </tr>\n",
       "  </thead>\n",
       "  <tbody>\n",
       "    <tr>\n",
       "      <th>0</th>\n",
       "      <td>59c930d7-f478-46ca-a4bc-ea89bbb8af79</td>\n",
       "      <td>2021-11-10 04:28:40.190000+00:00</td>\n",
       "      <td>\\nCREATE OR REPLACE MODEL bqmlretail.dnn_classifier_v1\\nTRANSFORM(noTimeOnSite, addedToCart, trafficMedium, isFirstVisit, totalPageviews, productPagesViewed, is_facebook, is_youtube\\n)\\nOPTIONS(\\n...</td>\n",
       "      <td>bqmlretail.dnn_classifier_v1</td>\n",
       "    </tr>\n",
       "    <tr>\n",
       "      <th>1</th>\n",
       "      <td>ea75424d-3591-4bb1-8733-24e974914b91</td>\n",
       "      <td>2021-11-10 04:21:46.077000+00:00</td>\n",
       "      <td>\\nCREATE OR REPLACE MODEL bqmlretail.boosted_tree_classifier_v6\\nTRANSFORM(noTimeOnSite, addedToCart, trafficMedium, isFirstVisit, totalPageviews, productPagesViewed, is_facebook, is_youtube\\n)\\nO...</td>\n",
       "      <td>bqmlretail.boosted_tree_classifier_v6</td>\n",
       "    </tr>\n",
       "    <tr>\n",
       "      <th>2</th>\n",
       "      <td>3baef3e2-f430-4ff2-ab09-f6cdf7005ff1</td>\n",
       "      <td>2021-11-10 04:19:28.640000+00:00</td>\n",
       "      <td>\\nCREATE OR REPLACE MODEL bqmlretail.boosted_tree_classifier_v5\\nTRANSFORM(noTimeOnSite, addedToCart, trafficMedium, isFirstVisit, totalPageviews, productPagesViewed, is_facebook, is_youtube\\n)\\nO...</td>\n",
       "      <td>bqmlretail.boosted_tree_classifier_v5</td>\n",
       "    </tr>\n",
       "    <tr>\n",
       "      <th>3</th>\n",
       "      <td>8b91a85c-69ec-4da2-bcad-7d441c4e838a</td>\n",
       "      <td>2021-11-10 04:11:40.435000+00:00</td>\n",
       "      <td>\\nCREATE OR REPLACE MODEL bqmlretail.boosted_tree_classifier_v4\\nTRANSFORM(noTimeOnSite, addedToCart, trafficMedium, isFirstVisit, totalPageviews, productPagesViewed, is_facebook, is_youtube\\n)\\nO...</td>\n",
       "      <td>bqmlretail.boosted_tree_classifier_v4</td>\n",
       "    </tr>\n",
       "    <tr>\n",
       "      <th>4</th>\n",
       "      <td>0eede3af-9ce4-4c2b-bbcf-e768137a7c2f</td>\n",
       "      <td>2021-11-10 04:05:43.436000+00:00</td>\n",
       "      <td>\\nCREATE OR REPLACE MODEL bqmlretail.logistic_reg_v4\\nTRANSFORM(noTimeOnSite, addedToCart, trafficMedium, isFirstVisit, totalPageviews, productPagesViewed, is_facebook, is_youtube\\n)\\nOPTIONS(\\n  ...</td>\n",
       "      <td>bqmlretail.logistic_reg_v4</td>\n",
       "    </tr>\n",
       "  </tbody>\n",
       "</table>\n",
       "</div>"
      ],
      "text/plain": [
       "                                 job_id                    creation_time  \\\n",
       "0  59c930d7-f478-46ca-a4bc-ea89bbb8af79 2021-11-10 04:28:40.190000+00:00   \n",
       "1  ea75424d-3591-4bb1-8733-24e974914b91 2021-11-10 04:21:46.077000+00:00   \n",
       "2  3baef3e2-f430-4ff2-ab09-f6cdf7005ff1 2021-11-10 04:19:28.640000+00:00   \n",
       "3  8b91a85c-69ec-4da2-bcad-7d441c4e838a 2021-11-10 04:11:40.435000+00:00   \n",
       "4  0eede3af-9ce4-4c2b-bbcf-e768137a7c2f 2021-11-10 04:05:43.436000+00:00   \n",
       "\n",
       "                                                                                                                                                                                                     query  \\\n",
       "0  \\nCREATE OR REPLACE MODEL bqmlretail.dnn_classifier_v1\\nTRANSFORM(noTimeOnSite, addedToCart, trafficMedium, isFirstVisit, totalPageviews, productPagesViewed, is_facebook, is_youtube\\n)\\nOPTIONS(\\n...   \n",
       "1  \\nCREATE OR REPLACE MODEL bqmlretail.boosted_tree_classifier_v6\\nTRANSFORM(noTimeOnSite, addedToCart, trafficMedium, isFirstVisit, totalPageviews, productPagesViewed, is_facebook, is_youtube\\n)\\nO...   \n",
       "2  \\nCREATE OR REPLACE MODEL bqmlretail.boosted_tree_classifier_v5\\nTRANSFORM(noTimeOnSite, addedToCart, trafficMedium, isFirstVisit, totalPageviews, productPagesViewed, is_facebook, is_youtube\\n)\\nO...   \n",
       "3  \\nCREATE OR REPLACE MODEL bqmlretail.boosted_tree_classifier_v4\\nTRANSFORM(noTimeOnSite, addedToCart, trafficMedium, isFirstVisit, totalPageviews, productPagesViewed, is_facebook, is_youtube\\n)\\nO...   \n",
       "4  \\nCREATE OR REPLACE MODEL bqmlretail.logistic_reg_v4\\nTRANSFORM(noTimeOnSite, addedToCart, trafficMedium, isFirstVisit, totalPageviews, productPagesViewed, is_facebook, is_youtube\\n)\\nOPTIONS(\\n  ...   \n",
       "\n",
       "                               modelname  \n",
       "0           bqmlretail.dnn_classifier_v1  \n",
       "1  bqmlretail.boosted_tree_classifier_v6  \n",
       "2  bqmlretail.boosted_tree_classifier_v5  \n",
       "3  bqmlretail.boosted_tree_classifier_v4  \n",
       "4             bqmlretail.logistic_reg_v4  "
      ]
     },
     "execution_count": 1060,
     "metadata": {},
     "output_type": "execute_result"
    }
   ],
   "source": [
    "sql_finished_queries = f\"\"\"\n",
    "SELECT\n",
    "    job_id,\n",
    "    creation_time,\n",
    "    query,\n",
    "    REGEXP_EXTRACT(query, r'{DATASET_ID}\\.\\w+') AS modelname\n",
    "FROM `region-eu`.INFORMATION_SCHEMA.JOBS_BY_USER\n",
    "WHERE \n",
    "    REGEXP_CONTAINS(LOWER(query), 'create (or replace ){{0,1}}model')\n",
    "    AND NOT REGEXP_CONTAINS(LOWER(query), 'information_schema')\n",
    "    AND state = \"DONE\"\n",
    "ORDER BY creation_time DESC\n",
    "\"\"\"\n",
    "\n",
    "print(sql_finished_queries)\n",
    "\n",
    "finished_models = bq_query(sql_finished_queries)\n",
    "finished_models.head()"
   ]
  },
  {
   "cell_type": "markdown",
   "metadata": {},
   "source": [
    "<a id=\"evaluate\"></a>"
   ]
  },
  {
   "cell_type": "markdown",
   "metadata": {},
   "source": [
    "#### Evaluate a BigQuery ML model"
   ]
  },
  {
   "cell_type": "code",
   "execution_count": 814,
   "metadata": {},
   "outputs": [],
   "source": [
    "def evaluate(model_name):\n",
    "    sql_logreg_sample = f\"\"\"\n",
    "    SELECT \n",
    "      *\n",
    "    FROM\n",
    "      ML.EVALUATE(\n",
    "          MODEL {DATASET_ID}.{model_name})\n",
    "    \"\"\"\n",
    "    print(sql_logreg_sample)\n",
    "    return bq_query(sql = sql_logreg_sample)"
   ]
  },
  {
   "cell_type": "code",
   "execution_count": 1065,
   "metadata": {},
   "outputs": [
    {
     "name": "stdout",
     "output_type": "stream",
     "text": [
      "\n",
      "    SELECT \n",
      "      *\n",
      "    FROM\n",
      "      ML.EVALUATE(\n",
      "          MODEL bqmlretail.boosted_tree_classifier_v7)\n",
      "    \n"
     ]
    },
    {
     "data": {
      "text/html": [
       "<div>\n",
       "<style scoped>\n",
       "    .dataframe tbody tr th:only-of-type {\n",
       "        vertical-align: middle;\n",
       "    }\n",
       "\n",
       "    .dataframe tbody tr th {\n",
       "        vertical-align: top;\n",
       "    }\n",
       "\n",
       "    .dataframe thead th {\n",
       "        text-align: right;\n",
       "    }\n",
       "</style>\n",
       "<table border=\"1\" class=\"dataframe\">\n",
       "  <thead>\n",
       "    <tr style=\"text-align: right;\">\n",
       "      <th></th>\n",
       "      <th>trial_id</th>\n",
       "      <th>precision</th>\n",
       "      <th>recall</th>\n",
       "      <th>accuracy</th>\n",
       "      <th>f1_score</th>\n",
       "      <th>log_loss</th>\n",
       "      <th>roc_auc</th>\n",
       "    </tr>\n",
       "  </thead>\n",
       "  <tbody>\n",
       "    <tr>\n",
       "      <th>0</th>\n",
       "      <td>1</td>\n",
       "      <td>0.866604</td>\n",
       "      <td>0.917376</td>\n",
       "      <td>0.911415</td>\n",
       "      <td>0.891267</td>\n",
       "      <td>0.236926</td>\n",
       "      <td>0.961536</td>\n",
       "    </tr>\n",
       "  </tbody>\n",
       "</table>\n",
       "</div>"
      ],
      "text/plain": [
       "   trial_id  precision    recall  accuracy  f1_score  log_loss   roc_auc\n",
       "0         1   0.866604  0.917376  0.911415  0.891267  0.236926  0.961536"
      ]
     },
     "execution_count": 1065,
     "metadata": {},
     "output_type": "execute_result"
    }
   ],
   "source": [
    "evaluation = evaluate(\"boosted_tree_classifier_v7\")\n",
    "evaluation"
   ]
  },
  {
   "cell_type": "code",
   "execution_count": 1072,
   "metadata": {},
   "outputs": [
    {
     "name": "stdout",
     "output_type": "stream",
     "text": [
      "\n",
      "    SELECT \n",
      "      *\n",
      "    FROM\n",
      "      ML.EVALUATE(\n",
      "          MODEL bqmlretail.dnn_classifier_v2)\n",
      "    \n"
     ]
    },
    {
     "ename": "NotFound",
     "evalue": "404 POST https://bigquery.googleapis.com/bigquery/v2/projects/globohack-kaggle21-6924/jobs?prettyPrint=false: Not found: Model globohack-kaggle21-6924:bqmlretail.dnn_classifier_v2\n\n(job ID: 58d3d06e-0bef-4aef-b6c8-4394130b3f8f)\n\n         -----Query Job SQL Follows-----          \n\n    |    .    |    .    |    .    |    .    |\n   1:\n   2:    SELECT \n   3:      *\n   4:    FROM\n   5:      ML.EVALUATE(\n   6:          MODEL bqmlretail.dnn_classifier_v2)\n   7:    \n    |    .    |    .    |    .    |    .    |",
     "output_type": "error",
     "traceback": [
      "\u001b[0;31m---------------------------------------------------------------------------\u001b[0m",
      "\u001b[0;31mNotFound\u001b[0m                                  Traceback (most recent call last)",
      "\u001b[0;32m/tmp/ipykernel_28088/386288829.py\u001b[0m in \u001b[0;36m<module>\u001b[0;34m\u001b[0m\n\u001b[0;32m----> 1\u001b[0;31m \u001b[0mevaluation\u001b[0m \u001b[0;34m=\u001b[0m \u001b[0mevaluate\u001b[0m\u001b[0;34m(\u001b[0m\u001b[0;34m\"dnn_classifier_v2\"\u001b[0m\u001b[0;34m)\u001b[0m\u001b[0;34m\u001b[0m\u001b[0;34m\u001b[0m\u001b[0m\n\u001b[0m\u001b[1;32m      2\u001b[0m \u001b[0mevaluation\u001b[0m\u001b[0;34m\u001b[0m\u001b[0;34m\u001b[0m\u001b[0m\n",
      "\u001b[0;32m/tmp/ipykernel_28088/3271750358.py\u001b[0m in \u001b[0;36mevaluate\u001b[0;34m(model_name)\u001b[0m\n\u001b[1;32m      8\u001b[0m     \"\"\"\n\u001b[1;32m      9\u001b[0m     \u001b[0mprint\u001b[0m\u001b[0;34m(\u001b[0m\u001b[0msql_logreg_sample\u001b[0m\u001b[0;34m)\u001b[0m\u001b[0;34m\u001b[0m\u001b[0;34m\u001b[0m\u001b[0m\n\u001b[0;32m---> 10\u001b[0;31m     \u001b[0;32mreturn\u001b[0m \u001b[0mbq_query\u001b[0m\u001b[0;34m(\u001b[0m\u001b[0msql\u001b[0m \u001b[0;34m=\u001b[0m \u001b[0msql_logreg_sample\u001b[0m\u001b[0;34m)\u001b[0m\u001b[0;34m\u001b[0m\u001b[0;34m\u001b[0m\u001b[0m\n\u001b[0m",
      "\u001b[0;32m/tmp/ipykernel_28088/1088386872.py\u001b[0m in \u001b[0;36mbq_query\u001b[0;34m(sql, async_flag)\u001b[0m\n\u001b[1;32m     27\u001b[0m     \u001b[0;32mtry\u001b[0m\u001b[0;34m:\u001b[0m\u001b[0;34m\u001b[0m\u001b[0;34m\u001b[0m\u001b[0m\n\u001b[1;32m     28\u001b[0m         \u001b[0mjob_config\u001b[0m \u001b[0;34m=\u001b[0m \u001b[0mbigquery\u001b[0m\u001b[0;34m.\u001b[0m\u001b[0mQueryJobConfig\u001b[0m\u001b[0;34m(\u001b[0m\u001b[0mdry_run\u001b[0m\u001b[0;34m=\u001b[0m\u001b[0;32mTrue\u001b[0m\u001b[0;34m,\u001b[0m \u001b[0muse_query_cache\u001b[0m\u001b[0;34m=\u001b[0m\u001b[0;32mFalse\u001b[0m\u001b[0;34m)\u001b[0m\u001b[0;34m\u001b[0m\u001b[0;34m\u001b[0m\u001b[0m\n\u001b[0;32m---> 29\u001b[0;31m         \u001b[0mdry_run_job\u001b[0m \u001b[0;34m=\u001b[0m \u001b[0mclient\u001b[0m\u001b[0;34m.\u001b[0m\u001b[0mquery\u001b[0m\u001b[0;34m(\u001b[0m\u001b[0msql\u001b[0m\u001b[0;34m,\u001b[0m \u001b[0mjob_config\u001b[0m\u001b[0;34m=\u001b[0m\u001b[0mjob_config\u001b[0m\u001b[0;34m)\u001b[0m\u001b[0;34m\u001b[0m\u001b[0;34m\u001b[0m\u001b[0m\n\u001b[0m\u001b[1;32m     30\u001b[0m     \u001b[0;32mexcept\u001b[0m \u001b[0mBadRequest\u001b[0m \u001b[0;32mas\u001b[0m \u001b[0merr\u001b[0m\u001b[0;34m:\u001b[0m\u001b[0;34m\u001b[0m\u001b[0;34m\u001b[0m\u001b[0m\n\u001b[1;32m     31\u001b[0m         \u001b[0mprint\u001b[0m\u001b[0;34m(\u001b[0m\u001b[0merr\u001b[0m\u001b[0;34m)\u001b[0m\u001b[0;34m\u001b[0m\u001b[0;34m\u001b[0m\u001b[0m\n",
      "\u001b[0;32m/opt/conda/lib/python3.7/site-packages/google/cloud/bigquery/client.py\u001b[0m in \u001b[0;36mquery\u001b[0;34m(self, query, job_config, job_id, job_id_prefix, location, project, retry, timeout, job_retry)\u001b[0m\n\u001b[1;32m   3332\u001b[0m                 \u001b[0;32mreturn\u001b[0m \u001b[0mquery_job\u001b[0m\u001b[0;34m\u001b[0m\u001b[0;34m\u001b[0m\u001b[0m\n\u001b[1;32m   3333\u001b[0m \u001b[0;34m\u001b[0m\u001b[0m\n\u001b[0;32m-> 3334\u001b[0;31m         \u001b[0mfuture\u001b[0m \u001b[0;34m=\u001b[0m \u001b[0mdo_query\u001b[0m\u001b[0;34m(\u001b[0m\u001b[0;34m)\u001b[0m\u001b[0;34m\u001b[0m\u001b[0;34m\u001b[0m\u001b[0m\n\u001b[0m\u001b[1;32m   3335\u001b[0m         \u001b[0;31m# The future might be in a failed state now, but if it's\u001b[0m\u001b[0;34m\u001b[0m\u001b[0;34m\u001b[0m\u001b[0;34m\u001b[0m\u001b[0m\n\u001b[1;32m   3336\u001b[0m         \u001b[0;31m# unrecoverable, we'll find out when we ask for it's result, at which\u001b[0m\u001b[0;34m\u001b[0m\u001b[0;34m\u001b[0m\u001b[0;34m\u001b[0m\u001b[0m\n",
      "\u001b[0;32m/opt/conda/lib/python3.7/site-packages/google/cloud/bigquery/client.py\u001b[0m in \u001b[0;36mdo_query\u001b[0;34m()\u001b[0m\n\u001b[1;32m   3309\u001b[0m \u001b[0;34m\u001b[0m\u001b[0m\n\u001b[1;32m   3310\u001b[0m             \u001b[0;32mtry\u001b[0m\u001b[0;34m:\u001b[0m\u001b[0;34m\u001b[0m\u001b[0;34m\u001b[0m\u001b[0m\n\u001b[0;32m-> 3311\u001b[0;31m                 \u001b[0mquery_job\u001b[0m\u001b[0;34m.\u001b[0m\u001b[0m_begin\u001b[0m\u001b[0;34m(\u001b[0m\u001b[0mretry\u001b[0m\u001b[0;34m=\u001b[0m\u001b[0mretry\u001b[0m\u001b[0;34m,\u001b[0m \u001b[0mtimeout\u001b[0m\u001b[0;34m=\u001b[0m\u001b[0mtimeout\u001b[0m\u001b[0;34m)\u001b[0m\u001b[0;34m\u001b[0m\u001b[0;34m\u001b[0m\u001b[0m\n\u001b[0m\u001b[1;32m   3312\u001b[0m             \u001b[0;32mexcept\u001b[0m \u001b[0mcore_exceptions\u001b[0m\u001b[0;34m.\u001b[0m\u001b[0mConflict\u001b[0m \u001b[0;32mas\u001b[0m \u001b[0mcreate_exc\u001b[0m\u001b[0;34m:\u001b[0m\u001b[0;34m\u001b[0m\u001b[0;34m\u001b[0m\u001b[0m\n\u001b[1;32m   3313\u001b[0m                 \u001b[0;31m# The thought is if someone is providing their own job IDs and they get\u001b[0m\u001b[0;34m\u001b[0m\u001b[0;34m\u001b[0m\u001b[0;34m\u001b[0m\u001b[0m\n",
      "\u001b[0;32m/opt/conda/lib/python3.7/site-packages/google/cloud/bigquery/job/query.py\u001b[0m in \u001b[0;36m_begin\u001b[0;34m(self, client, retry, timeout)\u001b[0m\n\u001b[1;32m   1174\u001b[0m \u001b[0;34m\u001b[0m\u001b[0m\n\u001b[1;32m   1175\u001b[0m         \u001b[0;32mtry\u001b[0m\u001b[0;34m:\u001b[0m\u001b[0;34m\u001b[0m\u001b[0;34m\u001b[0m\u001b[0m\n\u001b[0;32m-> 1176\u001b[0;31m             \u001b[0msuper\u001b[0m\u001b[0;34m(\u001b[0m\u001b[0mQueryJob\u001b[0m\u001b[0;34m,\u001b[0m \u001b[0mself\u001b[0m\u001b[0;34m)\u001b[0m\u001b[0;34m.\u001b[0m\u001b[0m_begin\u001b[0m\u001b[0;34m(\u001b[0m\u001b[0mclient\u001b[0m\u001b[0;34m=\u001b[0m\u001b[0mclient\u001b[0m\u001b[0;34m,\u001b[0m \u001b[0mretry\u001b[0m\u001b[0;34m=\u001b[0m\u001b[0mretry\u001b[0m\u001b[0;34m,\u001b[0m \u001b[0mtimeout\u001b[0m\u001b[0;34m=\u001b[0m\u001b[0mtimeout\u001b[0m\u001b[0;34m)\u001b[0m\u001b[0;34m\u001b[0m\u001b[0;34m\u001b[0m\u001b[0m\n\u001b[0m\u001b[1;32m   1177\u001b[0m         \u001b[0;32mexcept\u001b[0m \u001b[0mexceptions\u001b[0m\u001b[0;34m.\u001b[0m\u001b[0mGoogleAPICallError\u001b[0m \u001b[0;32mas\u001b[0m \u001b[0mexc\u001b[0m\u001b[0;34m:\u001b[0m\u001b[0;34m\u001b[0m\u001b[0;34m\u001b[0m\u001b[0m\n\u001b[1;32m   1178\u001b[0m             \u001b[0mexc\u001b[0m\u001b[0;34m.\u001b[0m\u001b[0mmessage\u001b[0m \u001b[0;34m+=\u001b[0m \u001b[0mself\u001b[0m\u001b[0;34m.\u001b[0m\u001b[0m_format_for_exception\u001b[0m\u001b[0;34m(\u001b[0m\u001b[0mself\u001b[0m\u001b[0;34m.\u001b[0m\u001b[0mquery\u001b[0m\u001b[0;34m,\u001b[0m \u001b[0mself\u001b[0m\u001b[0;34m.\u001b[0m\u001b[0mjob_id\u001b[0m\u001b[0;34m)\u001b[0m\u001b[0;34m\u001b[0m\u001b[0;34m\u001b[0m\u001b[0m\n",
      "\u001b[0;32m/opt/conda/lib/python3.7/site-packages/google/cloud/bigquery/job/base.py\u001b[0m in \u001b[0;36m_begin\u001b[0;34m(self, client, retry, timeout)\u001b[0m\n\u001b[1;32m    501\u001b[0m             \u001b[0mpath\u001b[0m\u001b[0;34m=\u001b[0m\u001b[0mpath\u001b[0m\u001b[0;34m,\u001b[0m\u001b[0;34m\u001b[0m\u001b[0;34m\u001b[0m\u001b[0m\n\u001b[1;32m    502\u001b[0m             \u001b[0mdata\u001b[0m\u001b[0;34m=\u001b[0m\u001b[0mself\u001b[0m\u001b[0;34m.\u001b[0m\u001b[0mto_api_repr\u001b[0m\u001b[0;34m(\u001b[0m\u001b[0;34m)\u001b[0m\u001b[0;34m,\u001b[0m\u001b[0;34m\u001b[0m\u001b[0;34m\u001b[0m\u001b[0m\n\u001b[0;32m--> 503\u001b[0;31m             \u001b[0mtimeout\u001b[0m\u001b[0;34m=\u001b[0m\u001b[0mtimeout\u001b[0m\u001b[0;34m,\u001b[0m\u001b[0;34m\u001b[0m\u001b[0;34m\u001b[0m\u001b[0m\n\u001b[0m\u001b[1;32m    504\u001b[0m         )\n\u001b[1;32m    505\u001b[0m         \u001b[0mself\u001b[0m\u001b[0;34m.\u001b[0m\u001b[0m_set_properties\u001b[0m\u001b[0;34m(\u001b[0m\u001b[0mapi_response\u001b[0m\u001b[0;34m)\u001b[0m\u001b[0;34m\u001b[0m\u001b[0;34m\u001b[0m\u001b[0m\n",
      "\u001b[0;32m/opt/conda/lib/python3.7/site-packages/google/cloud/bigquery/client.py\u001b[0m in \u001b[0;36m_call_api\u001b[0;34m(self, retry, span_name, span_attributes, job_ref, headers, **kwargs)\u001b[0m\n\u001b[1;32m    757\u001b[0m                 \u001b[0mname\u001b[0m\u001b[0;34m=\u001b[0m\u001b[0mspan_name\u001b[0m\u001b[0;34m,\u001b[0m \u001b[0mattributes\u001b[0m\u001b[0;34m=\u001b[0m\u001b[0mspan_attributes\u001b[0m\u001b[0;34m,\u001b[0m \u001b[0mclient\u001b[0m\u001b[0;34m=\u001b[0m\u001b[0mself\u001b[0m\u001b[0;34m,\u001b[0m \u001b[0mjob_ref\u001b[0m\u001b[0;34m=\u001b[0m\u001b[0mjob_ref\u001b[0m\u001b[0;34m\u001b[0m\u001b[0;34m\u001b[0m\u001b[0m\n\u001b[1;32m    758\u001b[0m             ):\n\u001b[0;32m--> 759\u001b[0;31m                 \u001b[0;32mreturn\u001b[0m \u001b[0mcall\u001b[0m\u001b[0;34m(\u001b[0m\u001b[0;34m)\u001b[0m\u001b[0;34m\u001b[0m\u001b[0;34m\u001b[0m\u001b[0m\n\u001b[0m\u001b[1;32m    760\u001b[0m \u001b[0;34m\u001b[0m\u001b[0m\n\u001b[1;32m    761\u001b[0m         \u001b[0;32mreturn\u001b[0m \u001b[0mcall\u001b[0m\u001b[0;34m(\u001b[0m\u001b[0;34m)\u001b[0m\u001b[0;34m\u001b[0m\u001b[0;34m\u001b[0m\u001b[0m\n",
      "\u001b[0;32m/opt/conda/lib/python3.7/site-packages/google/api_core/retry.py\u001b[0m in \u001b[0;36mretry_wrapped_func\u001b[0;34m(*args, **kwargs)\u001b[0m\n\u001b[1;32m    286\u001b[0m                 \u001b[0msleep_generator\u001b[0m\u001b[0;34m,\u001b[0m\u001b[0;34m\u001b[0m\u001b[0;34m\u001b[0m\u001b[0m\n\u001b[1;32m    287\u001b[0m                 \u001b[0mself\u001b[0m\u001b[0;34m.\u001b[0m\u001b[0m_deadline\u001b[0m\u001b[0;34m,\u001b[0m\u001b[0;34m\u001b[0m\u001b[0;34m\u001b[0m\u001b[0m\n\u001b[0;32m--> 288\u001b[0;31m                 \u001b[0mon_error\u001b[0m\u001b[0;34m=\u001b[0m\u001b[0mon_error\u001b[0m\u001b[0;34m,\u001b[0m\u001b[0;34m\u001b[0m\u001b[0;34m\u001b[0m\u001b[0m\n\u001b[0m\u001b[1;32m    289\u001b[0m             )\n\u001b[1;32m    290\u001b[0m \u001b[0;34m\u001b[0m\u001b[0m\n",
      "\u001b[0;32m/opt/conda/lib/python3.7/site-packages/google/api_core/retry.py\u001b[0m in \u001b[0;36mretry_target\u001b[0;34m(target, predicate, sleep_generator, deadline, on_error)\u001b[0m\n\u001b[1;32m    188\u001b[0m     \u001b[0;32mfor\u001b[0m \u001b[0msleep\u001b[0m \u001b[0;32min\u001b[0m \u001b[0msleep_generator\u001b[0m\u001b[0;34m:\u001b[0m\u001b[0;34m\u001b[0m\u001b[0;34m\u001b[0m\u001b[0m\n\u001b[1;32m    189\u001b[0m         \u001b[0;32mtry\u001b[0m\u001b[0;34m:\u001b[0m\u001b[0;34m\u001b[0m\u001b[0;34m\u001b[0m\u001b[0m\n\u001b[0;32m--> 190\u001b[0;31m             \u001b[0;32mreturn\u001b[0m \u001b[0mtarget\u001b[0m\u001b[0;34m(\u001b[0m\u001b[0;34m)\u001b[0m\u001b[0;34m\u001b[0m\u001b[0;34m\u001b[0m\u001b[0m\n\u001b[0m\u001b[1;32m    191\u001b[0m \u001b[0;34m\u001b[0m\u001b[0m\n\u001b[1;32m    192\u001b[0m         \u001b[0;31m# pylint: disable=broad-except\u001b[0m\u001b[0;34m\u001b[0m\u001b[0;34m\u001b[0m\u001b[0;34m\u001b[0m\u001b[0m\n",
      "\u001b[0;32m/opt/conda/lib/python3.7/site-packages/google/cloud/_http.py\u001b[0m in \u001b[0;36mapi_request\u001b[0;34m(self, method, path, query_params, data, content_type, headers, api_base_url, api_version, expect_json, _target_object, timeout)\u001b[0m\n\u001b[1;32m    477\u001b[0m \u001b[0;34m\u001b[0m\u001b[0m\n\u001b[1;32m    478\u001b[0m         \u001b[0;32mif\u001b[0m \u001b[0;32mnot\u001b[0m \u001b[0;36m200\u001b[0m \u001b[0;34m<=\u001b[0m \u001b[0mresponse\u001b[0m\u001b[0;34m.\u001b[0m\u001b[0mstatus_code\u001b[0m \u001b[0;34m<\u001b[0m \u001b[0;36m300\u001b[0m\u001b[0;34m:\u001b[0m\u001b[0;34m\u001b[0m\u001b[0;34m\u001b[0m\u001b[0m\n\u001b[0;32m--> 479\u001b[0;31m             \u001b[0;32mraise\u001b[0m \u001b[0mexceptions\u001b[0m\u001b[0;34m.\u001b[0m\u001b[0mfrom_http_response\u001b[0m\u001b[0;34m(\u001b[0m\u001b[0mresponse\u001b[0m\u001b[0;34m)\u001b[0m\u001b[0;34m\u001b[0m\u001b[0;34m\u001b[0m\u001b[0m\n\u001b[0m\u001b[1;32m    480\u001b[0m \u001b[0;34m\u001b[0m\u001b[0m\n\u001b[1;32m    481\u001b[0m         \u001b[0;32mif\u001b[0m \u001b[0mexpect_json\u001b[0m \u001b[0;32mand\u001b[0m \u001b[0mresponse\u001b[0m\u001b[0;34m.\u001b[0m\u001b[0mcontent\u001b[0m\u001b[0;34m:\u001b[0m\u001b[0;34m\u001b[0m\u001b[0;34m\u001b[0m\u001b[0m\n",
      "\u001b[0;31mNotFound\u001b[0m: 404 POST https://bigquery.googleapis.com/bigquery/v2/projects/globohack-kaggle21-6924/jobs?prettyPrint=false: Not found: Model globohack-kaggle21-6924:bqmlretail.dnn_classifier_v2\n\n(job ID: 58d3d06e-0bef-4aef-b6c8-4394130b3f8f)\n\n         -----Query Job SQL Follows-----          \n\n    |    .    |    .    |    .    |    .    |\n   1:\n   2:    SELECT \n   3:      *\n   4:    FROM\n   5:      ML.EVALUATE(\n   6:          MODEL bqmlretail.dnn_classifier_v2)\n   7:    \n    |    .    |    .    |    .    |    .    |"
     ]
    }
   ],
   "source": [
    "evaluation = evaluate(\"dnn_classifier_v2\")\n",
    "evaluation"
   ]
  },
  {
   "cell_type": "markdown",
   "metadata": {},
   "source": [
    "<a id=\"compare\"></a>"
   ]
  },
  {
   "cell_type": "markdown",
   "metadata": {},
   "source": [
    "### Compare multiple models"
   ]
  },
  {
   "cell_type": "code",
   "execution_count": 844,
   "metadata": {},
   "outputs": [
    {
     "name": "stdout",
     "output_type": "stream",
     "text": [
      "SELECT \n",
      "  'logistic_reg_v1' as modelname, \n",
      "  * \n",
      "FROM \n",
      "  ML.EVALUATE(MODEL bqmlretail.logistic_reg_v1)\n",
      "\n",
      "UNION ALL\n",
      "\n",
      "SELECT \n",
      "  'logistic_reg_v2' as modelname, \n",
      "  * \n",
      "FROM \n",
      "  ML.EVALUATE(MODEL bqmlretail.logistic_reg_v2)\n",
      "\n",
      "UNION ALL\n",
      "\n",
      "SELECT \n",
      "  'logistic_reg_v3' as modelname, \n",
      "  * \n",
      "FROM \n",
      "  ML.EVALUATE(MODEL bqmlretail.logistic_reg_v3)\n",
      "\n",
      "UNION ALL\n",
      "\n",
      "SELECT \n",
      "  'logistic_reg_v21' as modelname, \n",
      "  * \n",
      "FROM \n",
      "  ML.EVALUATE(MODEL bqmlretail.logistic_reg_v21)\n"
     ]
    },
    {
     "data": {
      "text/html": [
       "<div>\n",
       "<style scoped>\n",
       "    .dataframe tbody tr th:only-of-type {\n",
       "        vertical-align: middle;\n",
       "    }\n",
       "\n",
       "    .dataframe tbody tr th {\n",
       "        vertical-align: top;\n",
       "    }\n",
       "\n",
       "    .dataframe thead th {\n",
       "        text-align: right;\n",
       "    }\n",
       "</style>\n",
       "<table border=\"1\" class=\"dataframe\">\n",
       "  <thead>\n",
       "    <tr style=\"text-align: right;\">\n",
       "      <th></th>\n",
       "      <th>modelname</th>\n",
       "      <th>trial_id</th>\n",
       "      <th>precision</th>\n",
       "      <th>recall</th>\n",
       "      <th>accuracy</th>\n",
       "      <th>f1_score</th>\n",
       "      <th>log_loss</th>\n",
       "      <th>roc_auc</th>\n",
       "    </tr>\n",
       "  </thead>\n",
       "  <tbody>\n",
       "    <tr>\n",
       "      <th>0</th>\n",
       "      <td>logistic_reg_v1</td>\n",
       "      <td>1</td>\n",
       "      <td>0.802372</td>\n",
       "      <td>0.671160</td>\n",
       "      <td>0.805991</td>\n",
       "      <td>0.730924</td>\n",
       "      <td>0.428968</td>\n",
       "      <td>0.880346</td>\n",
       "    </tr>\n",
       "    <tr>\n",
       "      <th>1</th>\n",
       "      <td>logistic_reg_v1</td>\n",
       "      <td>2</td>\n",
       "      <td>0.802372</td>\n",
       "      <td>0.671160</td>\n",
       "      <td>0.805991</td>\n",
       "      <td>0.730924</td>\n",
       "      <td>0.428968</td>\n",
       "      <td>0.880346</td>\n",
       "    </tr>\n",
       "    <tr>\n",
       "      <th>2</th>\n",
       "      <td>logistic_reg_v1</td>\n",
       "      <td>3</td>\n",
       "      <td>0.800302</td>\n",
       "      <td>0.674720</td>\n",
       "      <td>0.806191</td>\n",
       "      <td>0.732165</td>\n",
       "      <td>0.429306</td>\n",
       "      <td>0.879511</td>\n",
       "    </tr>\n",
       "    <tr>\n",
       "      <th>3</th>\n",
       "      <td>logistic_reg_v1</td>\n",
       "      <td>4</td>\n",
       "      <td>0.802372</td>\n",
       "      <td>0.671160</td>\n",
       "      <td>0.805991</td>\n",
       "      <td>0.730924</td>\n",
       "      <td>0.428968</td>\n",
       "      <td>0.880346</td>\n",
       "    </tr>\n",
       "    <tr>\n",
       "      <th>4</th>\n",
       "      <td>logistic_reg_v1</td>\n",
       "      <td>5</td>\n",
       "      <td>0.801701</td>\n",
       "      <td>0.671414</td>\n",
       "      <td>0.805791</td>\n",
       "      <td>0.730796</td>\n",
       "      <td>0.429000</td>\n",
       "      <td>0.880279</td>\n",
       "    </tr>\n",
       "    <tr>\n",
       "      <th>5</th>\n",
       "      <td>logistic_reg_v1</td>\n",
       "      <td>6</td>\n",
       "      <td>0.801701</td>\n",
       "      <td>0.671414</td>\n",
       "      <td>0.805791</td>\n",
       "      <td>0.730796</td>\n",
       "      <td>0.429000</td>\n",
       "      <td>0.880279</td>\n",
       "    </tr>\n",
       "    <tr>\n",
       "      <th>6</th>\n",
       "      <td>logistic_reg_v1</td>\n",
       "      <td>7</td>\n",
       "      <td>0.801701</td>\n",
       "      <td>0.671414</td>\n",
       "      <td>0.805791</td>\n",
       "      <td>0.730796</td>\n",
       "      <td>0.429000</td>\n",
       "      <td>0.880279</td>\n",
       "    </tr>\n",
       "    <tr>\n",
       "      <th>7</th>\n",
       "      <td>logistic_reg_v1</td>\n",
       "      <td>8</td>\n",
       "      <td>0.802372</td>\n",
       "      <td>0.671160</td>\n",
       "      <td>0.805991</td>\n",
       "      <td>0.730924</td>\n",
       "      <td>0.428968</td>\n",
       "      <td>0.880346</td>\n",
       "    </tr>\n",
       "    <tr>\n",
       "      <th>8</th>\n",
       "      <td>logistic_reg_v1</td>\n",
       "      <td>9</td>\n",
       "      <td>0.799398</td>\n",
       "      <td>0.674975</td>\n",
       "      <td>0.805891</td>\n",
       "      <td>0.731936</td>\n",
       "      <td>0.429306</td>\n",
       "      <td>0.880168</td>\n",
       "    </tr>\n",
       "    <tr>\n",
       "      <th>9</th>\n",
       "      <td>logistic_reg_v1</td>\n",
       "      <td>10</td>\n",
       "      <td>0.799398</td>\n",
       "      <td>0.674975</td>\n",
       "      <td>0.805891</td>\n",
       "      <td>0.731936</td>\n",
       "      <td>0.429246</td>\n",
       "      <td>0.880268</td>\n",
       "    </tr>\n",
       "    <tr>\n",
       "      <th>10</th>\n",
       "      <td>logistic_reg_v2</td>\n",
       "      <td>1</td>\n",
       "      <td>0.816225</td>\n",
       "      <td>0.725711</td>\n",
       "      <td>0.820991</td>\n",
       "      <td>0.768312</td>\n",
       "      <td>0.410144</td>\n",
       "      <td>0.904310</td>\n",
       "    </tr>\n",
       "    <tr>\n",
       "      <th>11</th>\n",
       "      <td>logistic_reg_v2</td>\n",
       "      <td>2</td>\n",
       "      <td>0.816225</td>\n",
       "      <td>0.725711</td>\n",
       "      <td>0.820991</td>\n",
       "      <td>0.768312</td>\n",
       "      <td>0.410144</td>\n",
       "      <td>0.904310</td>\n",
       "    </tr>\n",
       "    <tr>\n",
       "      <th>12</th>\n",
       "      <td>logistic_reg_v2</td>\n",
       "      <td>3</td>\n",
       "      <td>0.816225</td>\n",
       "      <td>0.725711</td>\n",
       "      <td>0.820991</td>\n",
       "      <td>0.768312</td>\n",
       "      <td>0.410144</td>\n",
       "      <td>0.904310</td>\n",
       "    </tr>\n",
       "    <tr>\n",
       "      <th>13</th>\n",
       "      <td>logistic_reg_v2</td>\n",
       "      <td>4</td>\n",
       "      <td>0.816225</td>\n",
       "      <td>0.725711</td>\n",
       "      <td>0.820991</td>\n",
       "      <td>0.768312</td>\n",
       "      <td>0.410144</td>\n",
       "      <td>0.904310</td>\n",
       "    </tr>\n",
       "    <tr>\n",
       "      <th>14</th>\n",
       "      <td>logistic_reg_v2</td>\n",
       "      <td>5</td>\n",
       "      <td>0.816225</td>\n",
       "      <td>0.725711</td>\n",
       "      <td>0.820991</td>\n",
       "      <td>0.768312</td>\n",
       "      <td>0.410144</td>\n",
       "      <td>0.904310</td>\n",
       "    </tr>\n",
       "    <tr>\n",
       "      <th>15</th>\n",
       "      <td>logistic_reg_v2</td>\n",
       "      <td>6</td>\n",
       "      <td>0.814325</td>\n",
       "      <td>0.725221</td>\n",
       "      <td>0.819988</td>\n",
       "      <td>0.767194</td>\n",
       "      <td>0.410196</td>\n",
       "      <td>0.904155</td>\n",
       "    </tr>\n",
       "    <tr>\n",
       "      <th>16</th>\n",
       "      <td>logistic_reg_v2</td>\n",
       "      <td>7</td>\n",
       "      <td>0.816225</td>\n",
       "      <td>0.725711</td>\n",
       "      <td>0.820991</td>\n",
       "      <td>0.768312</td>\n",
       "      <td>0.410144</td>\n",
       "      <td>0.904310</td>\n",
       "    </tr>\n",
       "    <tr>\n",
       "      <th>17</th>\n",
       "      <td>logistic_reg_v2</td>\n",
       "      <td>8</td>\n",
       "      <td>0.814631</td>\n",
       "      <td>0.726693</td>\n",
       "      <td>0.820590</td>\n",
       "      <td>0.768154</td>\n",
       "      <td>0.410187</td>\n",
       "      <td>0.904333</td>\n",
       "    </tr>\n",
       "    <tr>\n",
       "      <th>18</th>\n",
       "      <td>logistic_reg_v2</td>\n",
       "      <td>9</td>\n",
       "      <td>0.815978</td>\n",
       "      <td>0.726693</td>\n",
       "      <td>0.821192</td>\n",
       "      <td>0.768752</td>\n",
       "      <td>0.410089</td>\n",
       "      <td>0.904177</td>\n",
       "    </tr>\n",
       "    <tr>\n",
       "      <th>19</th>\n",
       "      <td>logistic_reg_v2</td>\n",
       "      <td>10</td>\n",
       "      <td>0.816225</td>\n",
       "      <td>0.725711</td>\n",
       "      <td>0.820991</td>\n",
       "      <td>0.768312</td>\n",
       "      <td>0.410144</td>\n",
       "      <td>0.904310</td>\n",
       "    </tr>\n",
       "    <tr>\n",
       "      <th>20</th>\n",
       "      <td>logistic_reg_v3</td>\n",
       "      <td>1</td>\n",
       "      <td>0.808311</td>\n",
       "      <td>0.597918</td>\n",
       "      <td>0.780028</td>\n",
       "      <td>0.687375</td>\n",
       "      <td>0.451780</td>\n",
       "      <td>0.869852</td>\n",
       "    </tr>\n",
       "    <tr>\n",
       "      <th>21</th>\n",
       "      <td>logistic_reg_v3</td>\n",
       "      <td>2</td>\n",
       "      <td>0.808311</td>\n",
       "      <td>0.597918</td>\n",
       "      <td>0.780028</td>\n",
       "      <td>0.687375</td>\n",
       "      <td>0.451780</td>\n",
       "      <td>0.869852</td>\n",
       "    </tr>\n",
       "    <tr>\n",
       "      <th>22</th>\n",
       "      <td>logistic_reg_v3</td>\n",
       "      <td>3</td>\n",
       "      <td>0.808311</td>\n",
       "      <td>0.597918</td>\n",
       "      <td>0.780028</td>\n",
       "      <td>0.687375</td>\n",
       "      <td>0.451780</td>\n",
       "      <td>0.869851</td>\n",
       "    </tr>\n",
       "    <tr>\n",
       "      <th>23</th>\n",
       "      <td>logistic_reg_v3</td>\n",
       "      <td>4</td>\n",
       "      <td>0.807358</td>\n",
       "      <td>0.598413</td>\n",
       "      <td>0.779828</td>\n",
       "      <td>0.687358</td>\n",
       "      <td>0.452155</td>\n",
       "      <td>0.869593</td>\n",
       "    </tr>\n",
       "    <tr>\n",
       "      <th>24</th>\n",
       "      <td>logistic_reg_v3</td>\n",
       "      <td>5</td>\n",
       "      <td>0.807358</td>\n",
       "      <td>0.598413</td>\n",
       "      <td>0.779828</td>\n",
       "      <td>0.687358</td>\n",
       "      <td>0.452166</td>\n",
       "      <td>0.869588</td>\n",
       "    </tr>\n",
       "    <tr>\n",
       "      <th>25</th>\n",
       "      <td>logistic_reg_v3</td>\n",
       "      <td>6</td>\n",
       "      <td>0.808311</td>\n",
       "      <td>0.597918</td>\n",
       "      <td>0.780028</td>\n",
       "      <td>0.687375</td>\n",
       "      <td>0.451780</td>\n",
       "      <td>0.869852</td>\n",
       "    </tr>\n",
       "    <tr>\n",
       "      <th>26</th>\n",
       "      <td>logistic_reg_v3</td>\n",
       "      <td>7</td>\n",
       "      <td>0.808311</td>\n",
       "      <td>0.597918</td>\n",
       "      <td>0.780028</td>\n",
       "      <td>0.687375</td>\n",
       "      <td>0.451897</td>\n",
       "      <td>0.869639</td>\n",
       "    </tr>\n",
       "    <tr>\n",
       "      <th>27</th>\n",
       "      <td>logistic_reg_v3</td>\n",
       "      <td>8</td>\n",
       "      <td>0.807358</td>\n",
       "      <td>0.598413</td>\n",
       "      <td>0.779828</td>\n",
       "      <td>0.687358</td>\n",
       "      <td>0.452166</td>\n",
       "      <td>0.869588</td>\n",
       "    </tr>\n",
       "    <tr>\n",
       "      <th>28</th>\n",
       "      <td>logistic_reg_v3</td>\n",
       "      <td>9</td>\n",
       "      <td>0.807006</td>\n",
       "      <td>0.605354</td>\n",
       "      <td>0.781833</td>\n",
       "      <td>0.691785</td>\n",
       "      <td>0.451396</td>\n",
       "      <td>0.869777</td>\n",
       "    </tr>\n",
       "    <tr>\n",
       "      <th>29</th>\n",
       "      <td>logistic_reg_v3</td>\n",
       "      <td>10</td>\n",
       "      <td>0.807358</td>\n",
       "      <td>0.598413</td>\n",
       "      <td>0.779828</td>\n",
       "      <td>0.687358</td>\n",
       "      <td>0.452166</td>\n",
       "      <td>0.869588</td>\n",
       "    </tr>\n",
       "    <tr>\n",
       "      <th>30</th>\n",
       "      <td>logistic_reg_v21</td>\n",
       "      <td>1</td>\n",
       "      <td>0.813264</td>\n",
       "      <td>0.691053</td>\n",
       "      <td>0.814328</td>\n",
       "      <td>0.747194</td>\n",
       "      <td>0.406170</td>\n",
       "      <td>0.902087</td>\n",
       "    </tr>\n",
       "    <tr>\n",
       "      <th>31</th>\n",
       "      <td>logistic_reg_v21</td>\n",
       "      <td>2</td>\n",
       "      <td>0.813264</td>\n",
       "      <td>0.691053</td>\n",
       "      <td>0.814328</td>\n",
       "      <td>0.747194</td>\n",
       "      <td>0.406170</td>\n",
       "      <td>0.902087</td>\n",
       "    </tr>\n",
       "    <tr>\n",
       "      <th>32</th>\n",
       "      <td>logistic_reg_v21</td>\n",
       "      <td>3</td>\n",
       "      <td>0.813264</td>\n",
       "      <td>0.691053</td>\n",
       "      <td>0.814328</td>\n",
       "      <td>0.747194</td>\n",
       "      <td>0.406170</td>\n",
       "      <td>0.902087</td>\n",
       "    </tr>\n",
       "    <tr>\n",
       "      <th>33</th>\n",
       "      <td>logistic_reg_v21</td>\n",
       "      <td>4</td>\n",
       "      <td>0.813264</td>\n",
       "      <td>0.691053</td>\n",
       "      <td>0.814328</td>\n",
       "      <td>0.747194</td>\n",
       "      <td>0.406170</td>\n",
       "      <td>0.902087</td>\n",
       "    </tr>\n",
       "    <tr>\n",
       "      <th>34</th>\n",
       "      <td>logistic_reg_v21</td>\n",
       "      <td>5</td>\n",
       "      <td>0.810750</td>\n",
       "      <td>0.715769</td>\n",
       "      <td>0.820805</td>\n",
       "      <td>0.760305</td>\n",
       "      <td>0.406391</td>\n",
       "      <td>0.902135</td>\n",
       "    </tr>\n",
       "    <tr>\n",
       "      <th>35</th>\n",
       "      <td>logistic_reg_v21</td>\n",
       "      <td>6</td>\n",
       "      <td>0.812682</td>\n",
       "      <td>0.690559</td>\n",
       "      <td>0.813935</td>\n",
       "      <td>0.746660</td>\n",
       "      <td>0.406741</td>\n",
       "      <td>0.902240</td>\n",
       "    </tr>\n",
       "    <tr>\n",
       "      <th>36</th>\n",
       "      <td>logistic_reg_v21</td>\n",
       "      <td>7</td>\n",
       "      <td>0.813264</td>\n",
       "      <td>0.691053</td>\n",
       "      <td>0.814328</td>\n",
       "      <td>0.747194</td>\n",
       "      <td>0.406170</td>\n",
       "      <td>0.902087</td>\n",
       "    </tr>\n",
       "  </tbody>\n",
       "</table>\n",
       "</div>"
      ],
      "text/plain": [
       "           modelname  trial_id  precision    recall  accuracy  f1_score  \\\n",
       "0    logistic_reg_v1         1   0.802372  0.671160  0.805991  0.730924   \n",
       "1    logistic_reg_v1         2   0.802372  0.671160  0.805991  0.730924   \n",
       "2    logistic_reg_v1         3   0.800302  0.674720  0.806191  0.732165   \n",
       "3    logistic_reg_v1         4   0.802372  0.671160  0.805991  0.730924   \n",
       "4    logistic_reg_v1         5   0.801701  0.671414  0.805791  0.730796   \n",
       "5    logistic_reg_v1         6   0.801701  0.671414  0.805791  0.730796   \n",
       "6    logistic_reg_v1         7   0.801701  0.671414  0.805791  0.730796   \n",
       "7    logistic_reg_v1         8   0.802372  0.671160  0.805991  0.730924   \n",
       "8    logistic_reg_v1         9   0.799398  0.674975  0.805891  0.731936   \n",
       "9    logistic_reg_v1        10   0.799398  0.674975  0.805891  0.731936   \n",
       "10   logistic_reg_v2         1   0.816225  0.725711  0.820991  0.768312   \n",
       "11   logistic_reg_v2         2   0.816225  0.725711  0.820991  0.768312   \n",
       "12   logistic_reg_v2         3   0.816225  0.725711  0.820991  0.768312   \n",
       "13   logistic_reg_v2         4   0.816225  0.725711  0.820991  0.768312   \n",
       "14   logistic_reg_v2         5   0.816225  0.725711  0.820991  0.768312   \n",
       "15   logistic_reg_v2         6   0.814325  0.725221  0.819988  0.767194   \n",
       "16   logistic_reg_v2         7   0.816225  0.725711  0.820991  0.768312   \n",
       "17   logistic_reg_v2         8   0.814631  0.726693  0.820590  0.768154   \n",
       "18   logistic_reg_v2         9   0.815978  0.726693  0.821192  0.768752   \n",
       "19   logistic_reg_v2        10   0.816225  0.725711  0.820991  0.768312   \n",
       "20   logistic_reg_v3         1   0.808311  0.597918  0.780028  0.687375   \n",
       "21   logistic_reg_v3         2   0.808311  0.597918  0.780028  0.687375   \n",
       "22   logistic_reg_v3         3   0.808311  0.597918  0.780028  0.687375   \n",
       "23   logistic_reg_v3         4   0.807358  0.598413  0.779828  0.687358   \n",
       "24   logistic_reg_v3         5   0.807358  0.598413  0.779828  0.687358   \n",
       "25   logistic_reg_v3         6   0.808311  0.597918  0.780028  0.687375   \n",
       "26   logistic_reg_v3         7   0.808311  0.597918  0.780028  0.687375   \n",
       "27   logistic_reg_v3         8   0.807358  0.598413  0.779828  0.687358   \n",
       "28   logistic_reg_v3         9   0.807006  0.605354  0.781833  0.691785   \n",
       "29   logistic_reg_v3        10   0.807358  0.598413  0.779828  0.687358   \n",
       "30  logistic_reg_v21         1   0.813264  0.691053  0.814328  0.747194   \n",
       "31  logistic_reg_v21         2   0.813264  0.691053  0.814328  0.747194   \n",
       "32  logistic_reg_v21         3   0.813264  0.691053  0.814328  0.747194   \n",
       "33  logistic_reg_v21         4   0.813264  0.691053  0.814328  0.747194   \n",
       "34  logistic_reg_v21         5   0.810750  0.715769  0.820805  0.760305   \n",
       "35  logistic_reg_v21         6   0.812682  0.690559  0.813935  0.746660   \n",
       "36  logistic_reg_v21         7   0.813264  0.691053  0.814328  0.747194   \n",
       "\n",
       "    log_loss   roc_auc  \n",
       "0   0.428968  0.880346  \n",
       "1   0.428968  0.880346  \n",
       "2   0.429306  0.879511  \n",
       "3   0.428968  0.880346  \n",
       "4   0.429000  0.880279  \n",
       "5   0.429000  0.880279  \n",
       "6   0.429000  0.880279  \n",
       "7   0.428968  0.880346  \n",
       "8   0.429306  0.880168  \n",
       "9   0.429246  0.880268  \n",
       "10  0.410144  0.904310  \n",
       "11  0.410144  0.904310  \n",
       "12  0.410144  0.904310  \n",
       "13  0.410144  0.904310  \n",
       "14  0.410144  0.904310  \n",
       "15  0.410196  0.904155  \n",
       "16  0.410144  0.904310  \n",
       "17  0.410187  0.904333  \n",
       "18  0.410089  0.904177  \n",
       "19  0.410144  0.904310  \n",
       "20  0.451780  0.869852  \n",
       "21  0.451780  0.869852  \n",
       "22  0.451780  0.869851  \n",
       "23  0.452155  0.869593  \n",
       "24  0.452166  0.869588  \n",
       "25  0.451780  0.869852  \n",
       "26  0.451897  0.869639  \n",
       "27  0.452166  0.869588  \n",
       "28  0.451396  0.869777  \n",
       "29  0.452166  0.869588  \n",
       "30  0.406170  0.902087  \n",
       "31  0.406170  0.902087  \n",
       "32  0.406170  0.902087  \n",
       "33  0.406170  0.902087  \n",
       "34  0.406391  0.902135  \n",
       "35  0.406741  0.902240  \n",
       "36  0.406170  0.902087  "
      ]
     },
     "execution_count": 844,
     "metadata": {},
     "output_type": "execute_result"
    }
   ],
   "source": [
    "MODEL_LIST = [\"logistic_reg_v1\", \"logistic_reg_v2\", \"logistic_reg_v3\", \"logistic_reg_v21\"]\n",
    "\n",
    "sql_modeleval_list = [f\"SELECT \\n  '{modelname}' as modelname, \\n  * \\nFROM \\n  ML.EVALUATE(MODEL {DATASET_ID}.{modelname})\"\n",
    "                      for modelname \n",
    "                      in MODEL_LIST]\n",
    "\n",
    "sql_compare_evaluation = \"\\n\\nUNION ALL\\n\\n\".join(sql_modeleval_list)\n",
    "\n",
    "print(sql_compare_evaluation)\n",
    "\n",
    "bq_query(sql_compare_evaluation)"
   ]
  },
  {
   "cell_type": "markdown",
   "metadata": {},
   "source": [
    "<a id=\"featinfo\"></a>"
   ]
  },
  {
   "cell_type": "markdown",
   "metadata": {},
   "source": [
    "### ML.FEATURE_INFO to check input feature information"
   ]
  },
  {
   "cell_type": "markdown",
   "metadata": {},
   "source": [
    "The ML.FEATURE_INFO function allows you to see information about the input features used to train a model. [ML.FEATURE_INFO Documentation](https://cloud.google.com/bigquery-ml/docs/reference/standard-sql/bigqueryml-syntax-feature)"
   ]
  },
  {
   "cell_type": "code",
   "execution_count": 20,
   "metadata": {},
   "outputs": [
    {
     "data": {
      "text/html": [
       "<div>\n",
       "<style scoped>\n",
       "    .dataframe tbody tr th:only-of-type {\n",
       "        vertical-align: middle;\n",
       "    }\n",
       "\n",
       "    .dataframe tbody tr th {\n",
       "        vertical-align: top;\n",
       "    }\n",
       "\n",
       "    .dataframe thead th {\n",
       "        text-align: right;\n",
       "    }\n",
       "</style>\n",
       "<table border=\"1\" class=\"dataframe\">\n",
       "  <thead>\n",
       "    <tr style=\"text-align: right;\">\n",
       "      <th></th>\n",
       "      <th>input</th>\n",
       "      <th>min</th>\n",
       "      <th>max</th>\n",
       "      <th>mean</th>\n",
       "      <th>median</th>\n",
       "      <th>stddev</th>\n",
       "      <th>category_count</th>\n",
       "      <th>null_count</th>\n",
       "    </tr>\n",
       "  </thead>\n",
       "  <tbody>\n",
       "    <tr>\n",
       "      <th>0</th>\n",
       "      <td>totalPageviews</td>\n",
       "      <td>0.0</td>\n",
       "      <td>469.0</td>\n",
       "      <td>4.837216</td>\n",
       "      <td>2.0</td>\n",
       "      <td>10.022497</td>\n",
       "      <td>NaN</td>\n",
       "      <td>0</td>\n",
       "    </tr>\n",
       "    <tr>\n",
       "      <th>1</th>\n",
       "      <td>country</td>\n",
       "      <td>NaN</td>\n",
       "      <td>NaN</td>\n",
       "      <td>NaN</td>\n",
       "      <td>NaN</td>\n",
       "      <td>NaN</td>\n",
       "      <td>179.0</td>\n",
       "      <td>0</td>\n",
       "    </tr>\n",
       "  </tbody>\n",
       "</table>\n",
       "</div>"
      ],
      "text/plain": [
       "            input  min    max      mean  median     stddev  category_count  \\\n",
       "0  totalPageviews  0.0  469.0  4.837216     2.0  10.022497             NaN   \n",
       "1         country  NaN    NaN       NaN     NaN        NaN           179.0   \n",
       "\n",
       "   null_count  \n",
       "0           0  \n",
       "1           0  "
      ]
     },
     "execution_count": 20,
     "metadata": {},
     "output_type": "execute_result"
    }
   ],
   "source": [
    "MODEL_NAME = \"logreg_sample\"\n",
    "\n",
    "sql_featureinfo = f\"\"\"\n",
    "SELECT\n",
    "    *\n",
    "FROM\n",
    "    ML.FEATURE_INFO(MODEL bqmlretail.{MODEL_NAME})\n",
    "\"\"\"\n",
    "\n",
    "bq_query(sql_featureinfo)"
   ]
  },
  {
   "cell_type": "markdown",
   "metadata": {},
   "source": [
    "<a id=\"predictions\"></a>"
   ]
  },
  {
   "cell_type": "code",
   "execution_count": 848,
   "metadata": {},
   "outputs": [],
   "source": [
    "a = ['addedToCart', 'trafficMedium', 'isFirstVisit', 'totalPageviews', 'productPagesViewed']"
   ]
  },
  {
   "cell_type": "markdown",
   "metadata": {},
   "source": [
    "### Make predictions using BigQuery ML"
   ]
  },
  {
   "cell_type": "code",
   "execution_count": 981,
   "metadata": {},
   "outputs": [
    {
     "data": {
      "text/html": [
       "<div>\n",
       "<style scoped>\n",
       "    .dataframe tbody tr th:only-of-type {\n",
       "        vertical-align: middle;\n",
       "    }\n",
       "\n",
       "    .dataframe tbody tr th {\n",
       "        vertical-align: top;\n",
       "    }\n",
       "\n",
       "    .dataframe thead th {\n",
       "        text-align: right;\n",
       "    }\n",
       "</style>\n",
       "<table border=\"1\" class=\"dataframe\">\n",
       "  <thead>\n",
       "    <tr style=\"text-align: right;\">\n",
       "      <th></th>\n",
       "      <th>sessionId</th>\n",
       "      <th>trafficMedium</th>\n",
       "      <th>isFirstVisit</th>\n",
       "      <th>totalPageviews</th>\n",
       "      <th>productPagesViewed</th>\n",
       "      <th>domainSource</th>\n",
       "      <th>noTimeOnSite</th>\n",
       "    </tr>\n",
       "  </thead>\n",
       "  <tbody>\n",
       "    <tr>\n",
       "      <th>137941</th>\n",
       "      <td>80488867147438272581497179955</td>\n",
       "      <td>(none)</td>\n",
       "      <td>1</td>\n",
       "      <td>1</td>\n",
       "      <td>0</td>\n",
       "      <td>None</td>\n",
       "      <td>1</td>\n",
       "    </tr>\n",
       "    <tr>\n",
       "      <th>137942</th>\n",
       "      <td>61535019052663310811497251417</td>\n",
       "      <td>(none)</td>\n",
       "      <td>0</td>\n",
       "      <td>1</td>\n",
       "      <td>0</td>\n",
       "      <td>None</td>\n",
       "      <td>1</td>\n",
       "    </tr>\n",
       "    <tr>\n",
       "      <th>137943</th>\n",
       "      <td>97690584682550157451501639848</td>\n",
       "      <td>(none)</td>\n",
       "      <td>1</td>\n",
       "      <td>3</td>\n",
       "      <td>2</td>\n",
       "      <td>None</td>\n",
       "      <td>0</td>\n",
       "    </tr>\n",
       "    <tr>\n",
       "      <th>137944</th>\n",
       "      <td>25748653303383802751498641014</td>\n",
       "      <td>(none)</td>\n",
       "      <td>1</td>\n",
       "      <td>4</td>\n",
       "      <td>0</td>\n",
       "      <td>None</td>\n",
       "      <td>0</td>\n",
       "    </tr>\n",
       "    <tr>\n",
       "      <th>137945</th>\n",
       "      <td>159465138885624631499700650</td>\n",
       "      <td>(none)</td>\n",
       "      <td>1</td>\n",
       "      <td>11</td>\n",
       "      <td>1</td>\n",
       "      <td>None</td>\n",
       "      <td>0</td>\n",
       "    </tr>\n",
       "  </tbody>\n",
       "</table>\n",
       "</div>"
      ],
      "text/plain": [
       "                            sessionId trafficMedium  isFirstVisit  \\\n",
       "137941  80488867147438272581497179955        (none)             1   \n",
       "137942  61535019052663310811497251417        (none)             0   \n",
       "137943  97690584682550157451501639848        (none)             1   \n",
       "137944  25748653303383802751498641014        (none)             1   \n",
       "137945    159465138885624631499700650        (none)             1   \n",
       "\n",
       "        totalPageviews  productPagesViewed domainSource  noTimeOnSite  \n",
       "137941               1                   0         None             1  \n",
       "137942               1                   0         None             1  \n",
       "137943               3                   2         None             0  \n",
       "137944               4                   0         None             0  \n",
       "137945              11                   1         None             0  "
      ]
     },
     "execution_count": 981,
     "metadata": {},
     "output_type": "execute_result"
    }
   ],
   "source": [
    "sql_select = \"\"\"\n",
    "WITH\n",
    "test AS (\n",
    "    SELECT \n",
    "      CONCAT(fullVisitorId, CAST(visitStartTime as string)) as sessionId, \n",
    "      t.* EXCEPT (deviceCategory, totalTimeOnSite, country, totalHits, totalVisits, date, isMobile, browser, city, trafficSource, trafficCampaign, operatingSystem),\n",
    "      NET.REG_DOMAIN(trafficSource) AS domainSource,\n",
    "      LAG(visitStartTime, 1, 0) OVER (PARTITION BY fullVisitorId ORDER BY visitStartTime ASC) AS lastVisitTime,\n",
    "      CASE\n",
    "        WHEN TIMESTAMP_DIFF(TIMESTAMP_MILLIS(visitStartTime), TIMESTAMP_MILLIS(LAG(visitStartTime, 1, 0) OVER (PARTITION BY fullVisitorId ORDER BY visitStartTime ASC)), HOUR) <= 24 THEN 1\n",
    "        ELSE 0\n",
    "      END AS hasRecentVisit,\n",
    "      CASE\n",
    "        WHEN totalTimeOnSite = 0 THEN 1\n",
    "        ELSE 0\n",
    "      END AS noTimeOnSite\n",
    "    FROM\n",
    "      kaggleworkshops.google_analytics_sample_eu.test t\n",
    ")\n",
    "SELECT * EXCEPT (visitStartTime, lastVisitTime, fullVisitorId, hasRecentVisit)\n",
    "FROM test\n",
    "\"\"\"\n",
    "\n",
    "df_test = bq_query(sql = sql_select)\n",
    "\n",
    "df_test.tail()"
   ]
  },
  {
   "cell_type": "markdown",
   "metadata": {},
   "source": [
    "<a id=\"exportcsv\"></a>"
   ]
  },
  {
   "cell_type": "code",
   "execution_count": 982,
   "metadata": {},
   "outputs": [],
   "source": [
    "domain_value_counts = df_test['domainSource'].value_counts()\n",
    "invalid_domains = list(domain_value_counts[domain_value_counts < 100].index)\n",
    "df_test['domainSourceFiltered'] = df_test['domainSource'].apply(lambda x : \"OTHER\" if x in invalid_domains else x)"
   ]
  },
  {
   "cell_type": "code",
   "execution_count": 983,
   "metadata": {},
   "outputs": [],
   "source": [
    "df_test['is_facebook'] = (df_test['domainSourceFiltered']=='facebook.com').astype(int)\n",
    "df_test['is_youtube'] = (df_test['domainSourceFiltered']=='youtube.com').astype(int)"
   ]
  },
  {
   "cell_type": "code",
   "execution_count": 984,
   "metadata": {},
   "outputs": [],
   "source": [
    "df_test.drop(columns=['domainSource', 'domainSourceFiltered'], axis=1, inplace=True)"
   ]
  },
  {
   "cell_type": "code",
   "execution_count": 985,
   "metadata": {},
   "outputs": [
    {
     "data": {
      "text/plain": [
       "LoadJob<project=globohack-kaggle21-6924, location=EU, id=80edc961-3300-4f1b-985d-7715abfa3c1c>"
      ]
     },
     "execution_count": 985,
     "metadata": {},
     "output_type": "execute_result"
    }
   ],
   "source": [
    "pandas_to_bq(df_test, tablename='test_processed_v4')"
   ]
  },
  {
   "cell_type": "code",
   "execution_count": 1055,
   "metadata": {},
   "outputs": [
    {
     "name": "stdout",
     "output_type": "stream",
     "text": [
      "\n",
      "SELECT\n",
      "  sessionId, \n",
      "  prob as addedToCart\n",
      "FROM\n",
      "  ML.PREDICT(MODEL bqmlretail.dnn_classifier_v1,\n",
      "    (\n",
      "    SELECT \n",
      "      *\n",
      "    FROM\n",
      "    `globohack-kaggle21-6924.bqmlretail.test_processed_v4`\n",
      "  )),\n",
      "UNNEST(predicted_addedToCart_probs)\n",
      "WHERE label = 1\n",
      "\n"
     ]
    },
    {
     "data": {
      "text/html": [
       "<div>\n",
       "<style scoped>\n",
       "    .dataframe tbody tr th:only-of-type {\n",
       "        vertical-align: middle;\n",
       "    }\n",
       "\n",
       "    .dataframe tbody tr th {\n",
       "        vertical-align: top;\n",
       "    }\n",
       "\n",
       "    .dataframe thead th {\n",
       "        text-align: right;\n",
       "    }\n",
       "</style>\n",
       "<table border=\"1\" class=\"dataframe\">\n",
       "  <thead>\n",
       "    <tr style=\"text-align: right;\">\n",
       "      <th></th>\n",
       "      <th>sessionId</th>\n",
       "      <th>addedToCart</th>\n",
       "    </tr>\n",
       "  </thead>\n",
       "  <tbody>\n",
       "    <tr>\n",
       "      <th>0</th>\n",
       "      <td>5595252602057155071501487317</td>\n",
       "      <td>0.000539</td>\n",
       "    </tr>\n",
       "    <tr>\n",
       "      <th>1</th>\n",
       "      <td>65200141528557971921500837500</td>\n",
       "      <td>0.119351</td>\n",
       "    </tr>\n",
       "    <tr>\n",
       "      <th>2</th>\n",
       "      <td>44679779041561447891499058658</td>\n",
       "      <td>0.000539</td>\n",
       "    </tr>\n",
       "    <tr>\n",
       "      <th>3</th>\n",
       "      <td>5974105601220026681496712845</td>\n",
       "      <td>0.000539</td>\n",
       "    </tr>\n",
       "    <tr>\n",
       "      <th>4</th>\n",
       "      <td>72870921889746692321496460185</td>\n",
       "      <td>0.053473</td>\n",
       "    </tr>\n",
       "  </tbody>\n",
       "</table>\n",
       "</div>"
      ],
      "text/plain": [
       "                       sessionId  addedToCart\n",
       "0   5595252602057155071501487317     0.000539\n",
       "1  65200141528557971921500837500     0.119351\n",
       "2  44679779041561447891499058658     0.000539\n",
       "3   5974105601220026681496712845     0.000539\n",
       "4  72870921889746692321496460185     0.053473"
      ]
     },
     "execution_count": 1055,
     "metadata": {},
     "output_type": "execute_result"
    }
   ],
   "source": [
    "MODEL_NAME = \"dnn_classifier_v1\"\n",
    "\n",
    "sql_predict = f\"\"\"\n",
    "SELECT\n",
    "  sessionId, \n",
    "  prob as addedToCart\n",
    "FROM\n",
    "  ML.PREDICT(MODEL {DATASET_ID}.{MODEL_NAME},\n",
    "    (\n",
    "    SELECT \n",
    "      *\n",
    "    FROM\n",
    "    `{PROJECT_ID}.{DATASET_ID}.test_processed_v4`\n",
    "  )),\n",
    "UNNEST(predicted_addedToCart_probs)\n",
    "WHERE label = 1\n",
    "\"\"\"\n",
    "\n",
    "print(sql_predict)\n",
    "\n",
    "submission = bq_query(sql_predict)\n",
    "submission.head()"
   ]
  },
  {
   "cell_type": "markdown",
   "metadata": {},
   "source": [
    "### Export predictions for Kaggle as a CSV file"
   ]
  },
  {
   "cell_type": "code",
   "execution_count": 1056,
   "metadata": {},
   "outputs": [],
   "source": [
    "MODEL_NAME = \"dnn_classifier_v1\"\n",
    "\n",
    "#save as CSV\n",
    "submission.to_csv(f\"submission_{MODEL_NAME}.csv\", index=False)"
   ]
  },
  {
   "cell_type": "markdown",
   "metadata": {},
   "source": [
    "The predictions are now saved to a CSV file. To download the file to your computer, locate your file in the left-menu in JupyterLab, right-click on it and click \"Download\". You can now make a submission to the Kaggle competition with the file."
   ]
  },
  {
   "cell_type": "markdown",
   "metadata": {},
   "source": [
    "<hr><a id=\"feateng\"></a>"
   ]
  },
  {
   "cell_type": "markdown",
   "metadata": {},
   "source": [
    "## Preprocessing Functions in BigQuery ML\n",
    "You can use [TRANSFORM()](https://cloud.google.com/bigquery-ml/docs/bigqueryml-transform) with any of the [preprocessing functions](https://cloud.google.com/bigquery-ml/docs/reference/standard-sql/bigqueryml-preprocessing-functions) below."
   ]
  },
  {
   "cell_type": "markdown",
   "metadata": {},
   "source": [
    "<a id=\"extractdates\"></a>"
   ]
  },
  {
   "cell_type": "markdown",
   "metadata": {},
   "source": [
    "#### EXTRACT: Extract dates and time"
   ]
  },
  {
   "cell_type": "markdown",
   "metadata": {},
   "source": [
    "[EXTRACT from DATE documentation](https://cloud.google.com/bigquery/docs/reference/standard-sql/date_functions#extract)  \n",
    "[EXTRACT from TIMESTAMP documentation](https://cloud.google.com/bigquery/docs/reference/standard-sql/timestamp_functions#extract)"
   ]
  },
  {
   "cell_type": "code",
   "execution_count": 10,
   "metadata": {},
   "outputs": [
    {
     "data": {
      "text/html": [
       "<div>\n",
       "<style scoped>\n",
       "    .dataframe tbody tr th:only-of-type {\n",
       "        vertical-align: middle;\n",
       "    }\n",
       "\n",
       "    .dataframe tbody tr th {\n",
       "        vertical-align: top;\n",
       "    }\n",
       "\n",
       "    .dataframe thead th {\n",
       "        text-align: right;\n",
       "    }\n",
       "</style>\n",
       "<table border=\"1\" class=\"dataframe\">\n",
       "  <thead>\n",
       "    <tr style=\"text-align: right;\">\n",
       "      <th></th>\n",
       "      <th>date</th>\n",
       "      <th>month</th>\n",
       "      <th>dayofweek</th>\n",
       "      <th>day</th>\n",
       "      <th>visitStartTime</th>\n",
       "      <th>hour</th>\n",
       "    </tr>\n",
       "  </thead>\n",
       "  <tbody>\n",
       "    <tr>\n",
       "      <th>0</th>\n",
       "      <td>2016-10-14 00:00:00+00:00</td>\n",
       "      <td>10</td>\n",
       "      <td>6</td>\n",
       "      <td>14</td>\n",
       "      <td>1476492957</td>\n",
       "      <td>0</td>\n",
       "    </tr>\n",
       "    <tr>\n",
       "      <th>1</th>\n",
       "      <td>2017-04-30 00:00:00+00:00</td>\n",
       "      <td>4</td>\n",
       "      <td>1</td>\n",
       "      <td>30</td>\n",
       "      <td>1493611205</td>\n",
       "      <td>4</td>\n",
       "    </tr>\n",
       "    <tr>\n",
       "      <th>2</th>\n",
       "      <td>2017-03-20 00:00:00+00:00</td>\n",
       "      <td>3</td>\n",
       "      <td>2</td>\n",
       "      <td>20</td>\n",
       "      <td>1490071147</td>\n",
       "      <td>4</td>\n",
       "    </tr>\n",
       "    <tr>\n",
       "      <th>3</th>\n",
       "      <td>2017-04-01 00:00:00+00:00</td>\n",
       "      <td>4</td>\n",
       "      <td>7</td>\n",
       "      <td>1</td>\n",
       "      <td>1491048053</td>\n",
       "      <td>12</td>\n",
       "    </tr>\n",
       "    <tr>\n",
       "      <th>4</th>\n",
       "      <td>2017-05-20 00:00:00+00:00</td>\n",
       "      <td>5</td>\n",
       "      <td>7</td>\n",
       "      <td>20</td>\n",
       "      <td>1495292376</td>\n",
       "      <td>14</td>\n",
       "    </tr>\n",
       "    <tr>\n",
       "      <th>5</th>\n",
       "      <td>2017-05-14 00:00:00+00:00</td>\n",
       "      <td>5</td>\n",
       "      <td>1</td>\n",
       "      <td>14</td>\n",
       "      <td>1494792010</td>\n",
       "      <td>20</td>\n",
       "    </tr>\n",
       "    <tr>\n",
       "      <th>6</th>\n",
       "      <td>2017-05-17 00:00:00+00:00</td>\n",
       "      <td>5</td>\n",
       "      <td>4</td>\n",
       "      <td>17</td>\n",
       "      <td>1495047452</td>\n",
       "      <td>18</td>\n",
       "    </tr>\n",
       "    <tr>\n",
       "      <th>7</th>\n",
       "      <td>2017-05-15 00:00:00+00:00</td>\n",
       "      <td>5</td>\n",
       "      <td>2</td>\n",
       "      <td>15</td>\n",
       "      <td>1494883945</td>\n",
       "      <td>21</td>\n",
       "    </tr>\n",
       "    <tr>\n",
       "      <th>8</th>\n",
       "      <td>2016-10-11 00:00:00+00:00</td>\n",
       "      <td>10</td>\n",
       "      <td>3</td>\n",
       "      <td>11</td>\n",
       "      <td>1476231674</td>\n",
       "      <td>0</td>\n",
       "    </tr>\n",
       "    <tr>\n",
       "      <th>9</th>\n",
       "      <td>2016-10-10 00:00:00+00:00</td>\n",
       "      <td>10</td>\n",
       "      <td>2</td>\n",
       "      <td>10</td>\n",
       "      <td>1476144607</td>\n",
       "      <td>0</td>\n",
       "    </tr>\n",
       "  </tbody>\n",
       "</table>\n",
       "</div>"
      ],
      "text/plain": [
       "                       date  month  dayofweek  day  visitStartTime  hour\n",
       "0 2016-10-14 00:00:00+00:00     10          6   14      1476492957     0\n",
       "1 2017-04-30 00:00:00+00:00      4          1   30      1493611205     4\n",
       "2 2017-03-20 00:00:00+00:00      3          2   20      1490071147     4\n",
       "3 2017-04-01 00:00:00+00:00      4          7    1      1491048053    12\n",
       "4 2017-05-20 00:00:00+00:00      5          7   20      1495292376    14\n",
       "5 2017-05-14 00:00:00+00:00      5          1   14      1494792010    20\n",
       "6 2017-05-17 00:00:00+00:00      5          4   17      1495047452    18\n",
       "7 2017-05-15 00:00:00+00:00      5          2   15      1494883945    21\n",
       "8 2016-10-11 00:00:00+00:00     10          3   11      1476231674     0\n",
       "9 2016-10-10 00:00:00+00:00     10          2   10      1476144607     0"
      ]
     },
     "execution_count": 10,
     "metadata": {},
     "output_type": "execute_result"
    }
   ],
   "source": [
    "sql_datetime = \"\"\"\n",
    "    SELECT\n",
    "        date,\n",
    "        EXTRACT( month FROM date) as month,\n",
    "        EXTRACT( dayofweek FROM date) AS dayofweek,\n",
    "        EXTRACT( day FROM date) as day,\n",
    "        \n",
    "        visitStartTime,\n",
    "        EXTRACT( hour FROM TIMESTAMP_SECONDS(visitStartTime) ) as hour\n",
    "    FROM\n",
    "        kaggleworkshops.google_analytics_sample_eu.train\n",
    "    LIMIT 10\n",
    "    \"\"\"\n",
    "\n",
    "bq_query(sql_datetime, \n",
    "         async_flag = False)"
   ]
  },
  {
   "cell_type": "markdown",
   "metadata": {},
   "source": [
    "<a id=\"extractwords\"></a>"
   ]
  },
  {
   "cell_type": "markdown",
   "metadata": {},
   "source": [
    "#### REGEXP_EXTRACT_ALL: Extract words from a STRING column\n",
    "[REGEXP_EXTRACT_ALL Documentation](https://cloud.google.com/bigquery/docs/reference/standard-sql/string_functions#regexp_extract_all)"
   ]
  },
  {
   "cell_type": "code",
   "execution_count": 14,
   "metadata": {},
   "outputs": [
    {
     "data": {
      "text/html": [
       "<div>\n",
       "<style scoped>\n",
       "    .dataframe tbody tr th:only-of-type {\n",
       "        vertical-align: middle;\n",
       "    }\n",
       "\n",
       "    .dataframe tbody tr th {\n",
       "        vertical-align: top;\n",
       "    }\n",
       "\n",
       "    .dataframe thead th {\n",
       "        text-align: right;\n",
       "    }\n",
       "</style>\n",
       "<table border=\"1\" class=\"dataframe\">\n",
       "  <thead>\n",
       "    <tr style=\"text-align: right;\">\n",
       "      <th></th>\n",
       "      <th>trafficCampaign</th>\n",
       "      <th>extracted_words</th>\n",
       "    </tr>\n",
       "  </thead>\n",
       "  <tbody>\n",
       "    <tr>\n",
       "      <th>0</th>\n",
       "      <td>(not set)</td>\n",
       "      <td>[not, set]</td>\n",
       "    </tr>\n",
       "    <tr>\n",
       "      <th>1</th>\n",
       "      <td>(not set)</td>\n",
       "      <td>[not, set]</td>\n",
       "    </tr>\n",
       "    <tr>\n",
       "      <th>2</th>\n",
       "      <td>(not set)</td>\n",
       "      <td>[not, set]</td>\n",
       "    </tr>\n",
       "    <tr>\n",
       "      <th>3</th>\n",
       "      <td>(not set)</td>\n",
       "      <td>[not, set]</td>\n",
       "    </tr>\n",
       "    <tr>\n",
       "      <th>4</th>\n",
       "      <td>(not set)</td>\n",
       "      <td>[not, set]</td>\n",
       "    </tr>\n",
       "  </tbody>\n",
       "</table>\n",
       "</div>"
      ],
      "text/plain": [
       "  trafficCampaign extracted_words\n",
       "0       (not set)      [not, set]\n",
       "1       (not set)      [not, set]\n",
       "2       (not set)      [not, set]\n",
       "3       (not set)      [not, set]\n",
       "4       (not set)      [not, set]"
      ]
     },
     "execution_count": 14,
     "metadata": {},
     "output_type": "execute_result"
    }
   ],
   "source": [
    "sql_words = \"\"\"\n",
    "SELECT \n",
    "  trafficCampaign, \n",
    "  REGEXP_EXTRACT_ALL(trafficCampaign, \n",
    "                      r\"[a-zA-Z]+\"\n",
    "                    ) as extracted_words \n",
    "\n",
    "FROM \n",
    "  kaggleworkshops.google_analytics_sample_eu.train\n",
    "LIMIT 5\n",
    "\"\"\"\n",
    "\n",
    "bq_query(sql_words)"
   ]
  },
  {
   "cell_type": "markdown",
   "metadata": {},
   "source": [
    "<a id=\"bucketize\"></a>"
   ]
  },
  {
   "cell_type": "markdown",
   "metadata": {},
   "source": [
    "#### ML.QUANTILE_BUCKETIZE: Bucketize your numeric feature into bins\n",
    "[ML.QUANTILE_BUCKETIZE Documentation](https://cloud.google.com/bigquery-ml/docs/reference/standard-sql/bigqueryml-preprocessing-functions#quantile_bucketize)"
   ]
  },
  {
   "cell_type": "code",
   "execution_count": 12,
   "metadata": {},
   "outputs": [
    {
     "data": {
      "text/html": [
       "<div>\n",
       "<style scoped>\n",
       "    .dataframe tbody tr th:only-of-type {\n",
       "        vertical-align: middle;\n",
       "    }\n",
       "\n",
       "    .dataframe tbody tr th {\n",
       "        vertical-align: top;\n",
       "    }\n",
       "\n",
       "    .dataframe thead th {\n",
       "        text-align: right;\n",
       "    }\n",
       "</style>\n",
       "<table border=\"1\" class=\"dataframe\">\n",
       "  <thead>\n",
       "    <tr style=\"text-align: right;\">\n",
       "      <th></th>\n",
       "      <th>totalTimeOnSite</th>\n",
       "      <th>bucket_totalTimeOnSite</th>\n",
       "    </tr>\n",
       "  </thead>\n",
       "  <tbody>\n",
       "    <tr>\n",
       "      <th>0</th>\n",
       "      <td>0</td>\n",
       "      <td>bin_1</td>\n",
       "    </tr>\n",
       "    <tr>\n",
       "      <th>1</th>\n",
       "      <td>0</td>\n",
       "      <td>bin_1</td>\n",
       "    </tr>\n",
       "    <tr>\n",
       "      <th>2</th>\n",
       "      <td>0</td>\n",
       "      <td>bin_1</td>\n",
       "    </tr>\n",
       "    <tr>\n",
       "      <th>3</th>\n",
       "      <td>302</td>\n",
       "      <td>bin_41</td>\n",
       "    </tr>\n",
       "    <tr>\n",
       "      <th>4</th>\n",
       "      <td>0</td>\n",
       "      <td>bin_1</td>\n",
       "    </tr>\n",
       "    <tr>\n",
       "      <th>5</th>\n",
       "      <td>0</td>\n",
       "      <td>bin_1</td>\n",
       "    </tr>\n",
       "    <tr>\n",
       "      <th>6</th>\n",
       "      <td>183</td>\n",
       "      <td>bin_36</td>\n",
       "    </tr>\n",
       "    <tr>\n",
       "      <th>7</th>\n",
       "      <td>7</td>\n",
       "      <td>bin_5</td>\n",
       "    </tr>\n",
       "    <tr>\n",
       "      <th>8</th>\n",
       "      <td>543</td>\n",
       "      <td>bin_45</td>\n",
       "    </tr>\n",
       "    <tr>\n",
       "      <th>9</th>\n",
       "      <td>164</td>\n",
       "      <td>bin_35</td>\n",
       "    </tr>\n",
       "  </tbody>\n",
       "</table>\n",
       "</div>"
      ],
      "text/plain": [
       "   totalTimeOnSite bucket_totalTimeOnSite\n",
       "0                0                  bin_1\n",
       "1                0                  bin_1\n",
       "2                0                  bin_1\n",
       "3              302                 bin_41\n",
       "4                0                  bin_1\n",
       "5                0                  bin_1\n",
       "6              183                 bin_36\n",
       "7                7                  bin_5\n",
       "8              543                 bin_45\n",
       "9              164                 bin_35"
      ]
     },
     "execution_count": 12,
     "metadata": {},
     "output_type": "execute_result"
    }
   ],
   "source": [
    "sql_bucketize = \"\"\"\n",
    "SELECT \n",
    "    totalTimeOnSite,\n",
    "    ML.QUANTILE_BUCKETIZE(totalTimeOnSite,\n",
    "                            100 #number of buckets\n",
    "                         ) OVER() AS bucket_totalTimeOnSite,\n",
    "FROM\n",
    "    kaggleworkshops.google_analytics_sample_eu.train\n",
    "LIMIT 10\n",
    "\"\"\"\n",
    "\n",
    "bq_query(sql_bucketize)"
   ]
  },
  {
   "cell_type": "markdown",
   "metadata": {},
   "source": [
    "<a id=\"polynomialexpand\"></a>"
   ]
  },
  {
   "cell_type": "markdown",
   "metadata": {},
   "source": [
    "#### ML.POLYNOMIAL_EXPAND: Combine numeric features"
   ]
  },
  {
   "cell_type": "markdown",
   "metadata": {},
   "source": [
    "[ML.POLYNOMIAL_EXPAND Documentation](https://cloud.google.com/bigquery-ml/docs/reference/standard-sql/bigqueryml-preprocessing-functions#mlpolynomial_expand)"
   ]
  },
  {
   "cell_type": "code",
   "execution_count": 40,
   "metadata": {},
   "outputs": [
    {
     "data": {
      "text/html": [
       "<div>\n",
       "<style scoped>\n",
       "    .dataframe tbody tr th:only-of-type {\n",
       "        vertical-align: middle;\n",
       "    }\n",
       "\n",
       "    .dataframe tbody tr th {\n",
       "        vertical-align: top;\n",
       "    }\n",
       "\n",
       "    .dataframe thead th {\n",
       "        text-align: right;\n",
       "    }\n",
       "</style>\n",
       "<table border=\"1\" class=\"dataframe\">\n",
       "  <thead>\n",
       "    <tr style=\"text-align: right;\">\n",
       "      <th></th>\n",
       "      <th>x</th>\n",
       "    </tr>\n",
       "  </thead>\n",
       "  <tbody>\n",
       "    <tr>\n",
       "      <th>0</th>\n",
       "      <td>{'totalHits': 27.0, 'totalHits_totalHits': 729.0, 'totalHits_totalPageViews': 621.0, 'totalPageViews': 23.0, 'totalPageViews_totalPageViews': 529.0}</td>\n",
       "    </tr>\n",
       "    <tr>\n",
       "      <th>1</th>\n",
       "      <td>{'totalHits': 23.0, 'totalHits_totalHits': 529.0, 'totalHits_totalPageViews': 414.0, 'totalPageViews': 18.0, 'totalPageViews_totalPageViews': 324.0}</td>\n",
       "    </tr>\n",
       "    <tr>\n",
       "      <th>2</th>\n",
       "      <td>{'totalHits': 23.0, 'totalHits_totalHits': 529.0, 'totalHits_totalPageViews': 368.0, 'totalPageViews': 16.0, 'totalPageViews_totalPageViews': 256.0}</td>\n",
       "    </tr>\n",
       "  </tbody>\n",
       "</table>\n",
       "</div>"
      ],
      "text/plain": [
       "                                                                                                                                                      x\n",
       "0  {'totalHits': 27.0, 'totalHits_totalHits': 729.0, 'totalHits_totalPageViews': 621.0, 'totalPageViews': 23.0, 'totalPageViews_totalPageViews': 529.0}\n",
       "1  {'totalHits': 23.0, 'totalHits_totalHits': 529.0, 'totalHits_totalPageViews': 414.0, 'totalPageViews': 18.0, 'totalPageViews_totalPageViews': 324.0}\n",
       "2  {'totalHits': 23.0, 'totalHits_totalHits': 529.0, 'totalHits_totalPageViews': 368.0, 'totalPageViews': 16.0, 'totalPageViews_totalPageViews': 256.0}"
      ]
     },
     "execution_count": 40,
     "metadata": {},
     "output_type": "execute_result"
    }
   ],
   "source": [
    "sql_polynomialexpand = \"\"\"\n",
    "SELECT\n",
    "    ML.POLYNOMIAL_EXPAND(STRUCT(totalHits, totalPageViews), \n",
    "                          2) AS x\n",
    "FROM\n",
    "    kaggleworkshops.google_analytics_sample_eu.train\n",
    "LIMIT 3\n",
    "\"\"\"\n",
    "\n",
    "bq_query(sql_polynomialexpand)"
   ]
  },
  {
   "cell_type": "markdown",
   "metadata": {},
   "source": [
    "<a id=\"featurecross\"></a>"
   ]
  },
  {
   "cell_type": "markdown",
   "metadata": {},
   "source": [
    "#### ML.FEATURE_CROSS: Combine categorical features\n",
    "\n",
    "[ML.FEATURE_CROSS Documentation](https://cloud.google.com/bigquery-ml/docs/reference/standard-sql/bigqueryml-preprocessing-functions#mlfeature_cross)"
   ]
  },
  {
   "cell_type": "code",
   "execution_count": 39,
   "metadata": {},
   "outputs": [
    {
     "data": {
      "text/html": [
       "<div>\n",
       "<style scoped>\n",
       "    .dataframe tbody tr th:only-of-type {\n",
       "        vertical-align: middle;\n",
       "    }\n",
       "\n",
       "    .dataframe tbody tr th {\n",
       "        vertical-align: top;\n",
       "    }\n",
       "\n",
       "    .dataframe thead th {\n",
       "        text-align: right;\n",
       "    }\n",
       "</style>\n",
       "<table border=\"1\" class=\"dataframe\">\n",
       "  <thead>\n",
       "    <tr style=\"text-align: right;\">\n",
       "      <th></th>\n",
       "      <th>country</th>\n",
       "      <th>deviceCategory</th>\n",
       "      <th>x</th>\n",
       "    </tr>\n",
       "  </thead>\n",
       "  <tbody>\n",
       "    <tr>\n",
       "      <th>0</th>\n",
       "      <td>United Kingdom</td>\n",
       "      <td>mobile</td>\n",
       "      <td>{'country_deviceCategory': 'United Kingdom_mobile'}</td>\n",
       "    </tr>\n",
       "    <tr>\n",
       "      <th>1</th>\n",
       "      <td>Taiwan</td>\n",
       "      <td>mobile</td>\n",
       "      <td>{'country_deviceCategory': 'Taiwan_mobile'}</td>\n",
       "    </tr>\n",
       "    <tr>\n",
       "      <th>2</th>\n",
       "      <td>Taiwan</td>\n",
       "      <td>mobile</td>\n",
       "      <td>{'country_deviceCategory': 'Taiwan_mobile'}</td>\n",
       "    </tr>\n",
       "  </tbody>\n",
       "</table>\n",
       "</div>"
      ],
      "text/plain": [
       "          country deviceCategory  \\\n",
       "0  United Kingdom         mobile   \n",
       "1          Taiwan         mobile   \n",
       "2          Taiwan         mobile   \n",
       "\n",
       "                                                     x  \n",
       "0  {'country_deviceCategory': 'United Kingdom_mobile'}  \n",
       "1          {'country_deviceCategory': 'Taiwan_mobile'}  \n",
       "2          {'country_deviceCategory': 'Taiwan_mobile'}  "
      ]
     },
     "execution_count": 39,
     "metadata": {},
     "output_type": "execute_result"
    }
   ],
   "source": [
    "sql_featurecross = \"\"\"\n",
    "SELECT\n",
    "    country,\n",
    "    deviceCategory,\n",
    "    ML.FEATURE_CROSS(STRUCT(country, deviceCategory), \n",
    "                    2) AS x\n",
    "FROM\n",
    "    kaggleworkshops.google_analytics_sample_eu.train\n",
    "LIMIT 3\n",
    "\"\"\"\n",
    "\n",
    "bq_query(sql_featurecross)"
   ]
  },
  {
   "cell_type": "markdown",
   "metadata": {},
   "source": [
    "<a id=\"featselection\"></a>\n",
    "<hr>"
   ]
  },
  {
   "cell_type": "markdown",
   "metadata": {},
   "source": [
    "## Feature Selection"
   ]
  },
  {
   "cell_type": "markdown",
   "metadata": {},
   "source": [
    "<a id=\"featimportance\"></a>"
   ]
  },
  {
   "cell_type": "markdown",
   "metadata": {},
   "source": [
    "### ML.FEATURE_IMPORTANCE for Boosted Tree models"
   ]
  },
  {
   "cell_type": "markdown",
   "metadata": {},
   "source": [
    "_Note: This function is only available for Boosted Tree models (`boosted_tree_classifier` or `boosted_tree_regressor`)._\n",
    "\n",
    "The ML.FEATURE_IMPORTANCE function allows you to see feature importance score, which indicates how useful or valuable each feature was in the construction of the Boosted Tree model during training. [ML.FEATURE_IMPORTANCE Documentation](https://cloud.google.com/bigquery-ml/docs/reference/standard-sql/bigqueryml-syntax-importance#mlfeature_importance_function)"
   ]
  },
  {
   "cell_type": "code",
   "execution_count": null,
   "metadata": {},
   "outputs": [],
   "source": [
    "MODEL_NAME = \"MY_BOOSTED_TREE_MODEL_NAME\"\n",
    "\n",
    "sql_featureimportance = f\"\"\"\n",
    "SELECT\n",
    "    *\n",
    "FROM\n",
    "    ML.FEATURE_IMPORTANCE(MODEL bqmlretail.{MODEL_NAME})\n",
    "\"\"\"\n",
    "\n",
    "bq_query(sql_featureimportance)"
   ]
  },
  {
   "cell_type": "code",
   "execution_count": null,
   "metadata": {},
   "outputs": [],
   "source": []
  }
 ],
 "metadata": {
  "environment": {
   "kernel": "python3",
   "name": "tf2-gpu.2-6.m82",
   "type": "gcloud",
   "uri": "gcr.io/deeplearning-platform-release/tf2-gpu.2-6:m82"
  },
  "kernelspec": {
   "display_name": "Python 3",
   "language": "python",
   "name": "python3"
  },
  "language_info": {
   "codemirror_mode": {
    "name": "ipython",
    "version": 3
   },
   "file_extension": ".py",
   "mimetype": "text/x-python",
   "name": "python",
   "nbconvert_exporter": "python",
   "pygments_lexer": "ipython3",
   "version": "3.7.10"
  },
  "toc-autonumbering": false,
  "toc-showcode": false,
  "toc-showmarkdowntxt": false,
  "toc-showtags": false
 },
 "nbformat": 4,
 "nbformat_minor": 4
}
